{
 "cells": [
  {
   "cell_type": "markdown",
   "metadata": {},
   "source": [
    "# XGBoost w/random search  optimization\n",
    "\n",
    "Swapping to XGBoost as my classifier-of-choice.\n",
    "\n",
    "Will use random search in order to optimize. \n",
    "\n",
    "May use F1-macro score to account for the class imbalances (approx. 2% anomalous examples).\n",
    "\n"
   ]
  },
  {
   "cell_type": "code",
   "execution_count": 1,
   "metadata": {},
   "outputs": [
    {
     "ename": "ModuleNotFoundError",
     "evalue": "No module named 'dynomics'",
     "output_type": "error",
     "traceback": [
      "\u001b[0;31m---------------------------------------------------------------------------\u001b[0m",
      "\u001b[0;31mModuleNotFoundError\u001b[0m                       Traceback (most recent call last)",
      "\u001b[0;32m<ipython-input-1-0a18ea325866>\u001b[0m in \u001b[0;36m<module>\u001b[0;34m\u001b[0m\n\u001b[1;32m     11\u001b[0m \u001b[0;34m\u001b[0m\u001b[0m\n\u001b[1;32m     12\u001b[0m \u001b[0;32mfrom\u001b[0m \u001b[0mdatetime\u001b[0m \u001b[0;32mimport\u001b[0m \u001b[0mdatetime\u001b[0m\u001b[0;34m\u001b[0m\u001b[0;34m\u001b[0m\u001b[0m\n\u001b[0;32m---> 13\u001b[0;31m \u001b[0;32mfrom\u001b[0m \u001b[0mdynomics\u001b[0m \u001b[0;32mimport\u001b[0m \u001b[0mmodels\u001b[0m\u001b[0;34m\u001b[0m\u001b[0;34m\u001b[0m\u001b[0m\n\u001b[0m\u001b[1;32m     14\u001b[0m \u001b[0;32mfrom\u001b[0m \u001b[0mmatplotlib\u001b[0m\u001b[0;34m.\u001b[0m\u001b[0mcolors\u001b[0m \u001b[0;32mimport\u001b[0m \u001b[0mLogNorm\u001b[0m\u001b[0;34m\u001b[0m\u001b[0;34m\u001b[0m\u001b[0m\n\u001b[1;32m     15\u001b[0m \u001b[0;32mfrom\u001b[0m \u001b[0msklearn\u001b[0m\u001b[0;34m.\u001b[0m\u001b[0mpreprocessing\u001b[0m \u001b[0;32mimport\u001b[0m \u001b[0mStandardScaler\u001b[0m\u001b[0;34m\u001b[0m\u001b[0;34m\u001b[0m\u001b[0m\n",
      "\u001b[0;31mModuleNotFoundError\u001b[0m: No module named 'dynomics'"
     ]
    }
   ],
   "source": [
    "# Load up the requisite libraries and submodules.\n",
    "import copy\n",
    "import joblib\n",
    "import matplotlib.pyplot as plt\n",
    "import numpy as np\n",
    "import os\n",
    "import pandas as pd\n",
    "import sklearn\n",
    "import time\n",
    "import xgboost as xgb\n",
    "\n",
    "from datetime import datetime\n",
    "from dynomics import models\n",
    "from matplotlib.colors import LogNorm\n",
    "from sklearn.preprocessing import StandardScaler\n",
    "\n",
    "# Define file locations.\n",
    "DATA_DIR = \"../data/multiclass/\""
   ]
  },
  {
   "cell_type": "code",
   "execution_count": null,
   "metadata": {},
   "outputs": [],
   "source": [
    "# Load up the station IDs. Some of the Accl\n",
    "station_filenames_list = [\n",
    "    filename for filename in os.listdir(path=DATA_DIR)\n",
    "    if (filename[-7:]==\".pickle\") and (\"53155\" not in filename)\n",
    "]\n",
    "\n",
    "# List of \n",
    "stations_id_list = list(\n",
    "    set(\n",
    "        fname.split(\"_\")[2].split(\".\")[0] for fname in station_filenames_list\n",
    "    )\n",
    ")"
   ]
  },
  {
   "cell_type": "code",
   "execution_count": 2,
   "metadata": {},
   "outputs": [],
   "source": [
    "# import pickle5 as pickle\n",
    "\n",
    "# with open(DATA_DIR+\"mc_features_03054.pickle\", \"rb\") as fh:\n",
    "#     data = pickle.load(fh)\n",
    "\n",
    "# data.to_pickle(\"test.pickle\", protocol=2)\n",
    "\n",
    "# df = pd.read_pickle(\"test.pickle\")\n",
    "\n",
    "# df.values"
   ]
  },
  {
   "cell_type": "code",
   "execution_count": 7,
   "metadata": {},
   "outputs": [],
   "source": [
    "# Load features and targets into features and targets dictionaries, indexed\n",
    "# by station ID number.\n",
    "template_dict = {\n",
    "    station_id : None\n",
    "    for station_id in stations_id_list\n",
    "    if station_id != \"53155\"     # Station 53155's sensor data had data missing for at least one sensor\n",
    "                               # at literally every time point, so my data preprocessing eliminated it. \n",
    "}\n",
    "features_dict,targets_dict = copy.deepcopy(template_dict), copy.deepcopy(template_dict)\n",
    "del(template_dict)\n",
    "\n",
    "for fname in station_filenames_list:\n",
    "    station_id = fname.split(\"_\")[2].split(\".\")[0]\n",
    "    if station_id=='53155':\n",
    "        continue\n",
    "    elif \"features\" in fname:\n",
    "        features_dict[station_id] = pd.read_pickle(\n",
    "            DATA_DIR+fname,\n",
    "        )\n",
    "    elif \"targets\" in fname:\n",
    "        targets_dict[station_id] = pd.read_pickle(\n",
    "            DATA_DIR+fname,\n",
    "        )"
   ]
  },
  {
   "cell_type": "code",
   "execution_count": 8,
   "metadata": {},
   "outputs": [],
   "source": [
    "final_stations_list = [\n",
    "    station_id for station_id in features_dict.keys()\n",
    "]"
   ]
  },
  {
   "cell_type": "code",
   "execution_count": 9,
   "metadata": {},
   "outputs": [],
   "source": [
    "# Got the following station ID info from this URL:\n",
    "# https://mesonet.agron.iastate.edu/sites/site.php?station=23906&network=USCRN\n",
    "port_aransas_stat_id = \"23906\"\n",
    "feats_df_port_aransas = features_dict[port_aransas_stat_id]\n",
    "targs_df_port_aransas = targets_dict[port_aransas_stat_id]\n",
    "\n",
    "# Got the following date-exclusion idea from here:\n",
    "# https://stackoverflow.com/questions/55680603/pandas-filter-on-datetimeindex-by-excluding-date-range\n",
    "exclusion_dates = pd.date_range(start=\"2019-08-01\", end=\"2019-09-01\")\n",
    "\n",
    "features_dict[port_aransas_stat_id] = feats_df_port_aransas.loc[~feats_df_port_aransas.index.isin(exclusion_dates)]\n",
    "\n",
    "targets_dict[port_aransas_stat_id] = targs_df_port_aransas.loc[~targs_df_port_aransas.index.isin(exclusion_dates)]"
   ]
  },
  {
   "cell_type": "markdown",
   "metadata": {},
   "source": [
    "# Define ML functions"
   ]
  },
  {
   "cell_type": "code",
   "execution_count": 10,
   "metadata": {},
   "outputs": [],
   "source": [
    "def check_mkdirs(*paths):\n",
    "    for path in paths:\n",
    "        if not os.path.isdir(path):\n",
    "            os.makedirs(path)\n",
    "    return\n",
    "\n",
    "\n",
    "def confusion_score_model(\n",
    "    classer,\n",
    "    feature_frame,\n",
    "    target_frame,\n",
    "    cv_splits=None,\n",
    "    **fitting_kwargs\n",
    "):\n",
    "    ''' Construct the training and testing confusion matrixes for classer on\n",
    "        data\n",
    "        Input:\n",
    "            classer : sklearn.Estimator\n",
    "                a classifiers to train and score\n",
    "            feature_frame : DataFrame\n",
    "                A dataframe representing the features extracted from a set of\n",
    "                expeirments.\n",
    "            target_frame : DataFrame\n",
    "                a 1d representation of induction state at each time point in\n",
    "                feature_frame\n",
    "            cv_splits : [([],[])]\n",
    "                A list of (train,test) splits which should be used for cross\n",
    "                validation\n",
    "        Return: (pandas.DataFrame, pandas.DataFrame)\n",
    "            A tuple containing a DataFrame representing the confusion matrix\n",
    "            during cross validation and a DataFrame representing the\n",
    "            confusion matrix during training. i.e. (test_scores, train_scores)\n",
    "    '''\n",
    "    # Create variables to store conf matrix values during cross validation\n",
    "    unique_labels = target_frame.iloc[:, 0].unique()\n",
    "    num_labels = len(unique_labels)\n",
    "    test_mat = np.zeros((num_labels, num_labels))\n",
    "    train_mat = np.zeros((num_labels, num_labels))\n",
    "    # perform cross validation\n",
    "    for split_idx, (train, test) in enumerate(cv_splits):\n",
    "        print(\"##################################################\")\n",
    "        print(\"         ###### Processing \"+str(split_idx+1)+\" of \"+str(len(cv_splits))+\" ######\")\n",
    "        print(\"            \" + time.ctime())\n",
    "        print(\"##################################################\")\n",
    "        # get train and test splits\n",
    "        train_X = feature_frame.values[train]\n",
    "        train_y = target_frame.values.ravel()[train]\n",
    "        test_X = feature_frame.values[test]\n",
    "        test_y = target_frame.values.ravel()[test]\n",
    "        \n",
    "        # fit training data\n",
    "        classer.fit(\n",
    "            train_X, train_y, \n",
    "            eval_set=[(test_X, test_y)], \n",
    "            verbose=False,\n",
    "            **fitting_kwargs\n",
    "        )\n",
    "        \n",
    "        # Predict for training data and update confusion matrix\n",
    "        train_p = classer.predict(train_X)\n",
    "        temp = models.confusion_matrix(train_y, train_p, labels=unique_labels)\n",
    "        train_mat += temp / temp.sum().sum() / len(cv_splits)\n",
    "        # Predict for testing data and update confusion matrix\n",
    "        test_p = classer.predict(test_X)\n",
    "        temp = models.confusion_matrix(test_y, test_p, labels=unique_labels)\n",
    "        test_mat += temp / temp.sum().sum() / len(cv_splits)\n",
    "    # define helper to handle converting matrixes to dataframes\n",
    "    def to_frame(mat):\n",
    "        mat = pd.DataFrame(data=mat, index=unique_labels, columns=unique_labels)\n",
    "        mat.loc[:, 'sum'] = mat.sum(axis=1)\n",
    "        mat.loc['sum', :] = mat.sum(axis=0)\n",
    "        mat.index.name='True Label'\n",
    "        mat.columns.name='Predicted Label'\n",
    "        return mat\n",
    "    # convert matrixes to dataframes and return\n",
    "    return (to_frame(train_mat), to_frame(test_mat))\n",
    "\n",
    "def fix_conf_mat_labels(conf_mat):\n",
    "    # Format metal names so as to remove the remnants of tuple-formatting,\n",
    "    # which is an artifact of the MySQL database and its concentration \n",
    "    # specifications.\n",
    "    new_confusion_matrix_labels = [\n",
    "        label.split(\"'\")[1] \n",
    "        if \"'\" in label else label\n",
    "        for label in conf_mat.index.values\n",
    "    ]\n",
    "    conf_mat.index = new_confusion_matrix_labels\n",
    "    conf_mat.columns = new_confusion_matrix_labels\n",
    "    return conf_mat\n",
    "\n",
    "\n",
    "def plot_confusion_matrix(\n",
    "        cm_df,\n",
    "        title=None,\n",
    "        cmap=plt.cm.Blues,\n",
    "        fontsize=12,\n",
    "        fontcolor=None,\n",
    "        num_round=4,\n",
    "        plot_top=0.88,\n",
    "        cbar_ticks=None,\n",
    "        cbar_min_divisor=2,\n",
    "        figsize=None\n",
    "):\n",
    "    \"\"\"\n",
    "    Create and return a matplotlib figure representing a confusion matrix.\n",
    "\n",
    "    Input:\n",
    "        cm_df : pandas.DataFrame\n",
    "            a pandas dataframe representing a confusion matrix\n",
    "        title : str\n",
    "            a plot title\n",
    "        cmap : color map\n",
    "            some pyplot colormap to use in plotting\n",
    "        fontsize : int\n",
    "            how large the text in each posititon of the matrix should be\n",
    "        fontcolor : str\n",
    "            the color that the text in each position of the matrix\n",
    "    Return: pyplot.figure\n",
    "        a figure object representing the plot\n",
    "\"\"\"\n",
    "\n",
    "    # Set figure title.\n",
    "    if title is None:\n",
    "        title = 'Confusion matrix'\n",
    "\n",
    "    # Set figure fontcolor.\n",
    "    if fontcolor is None:\n",
    "        fontcolor = \"black\"\n",
    "    \n",
    "    if figsize is None:\n",
    "        figsize = (14, 10)\n",
    "\n",
    "    conf_mat = cm_df.values\n",
    "    conf_mat_nozeros = cm_df.copy()\n",
    "    #     conf_mat_nozeros['Sum'] = 0\n",
    "    #     conf_mat_nozeros.loc['Sum'] = 0\n",
    "    conf_mat_nozeros = conf_mat_nozeros.values\n",
    "\n",
    "    # Get class names.\n",
    "    classes = cm_df.index\n",
    "\n",
    "    # Set color bar ticks and format their labels.\n",
    "    if cbar_ticks is None:\n",
    "        cbar_ticks = [0.001, 0.01, 0.1, 0.2, 0.4, 0.8, 1.0]\n",
    "    cbar_tick_labels = [str(label) for label in cbar_ticks]\n",
    "\n",
    "    # Set color bar minimum and maximum.\n",
    "    cbar_min = np.min(\n",
    "        [i for i in cm_df.values.ravel() if i > 0]) / cbar_min_divisor\n",
    "    cbar_max = np.max([i for i in cm_df.values.ravel() if i < 1])\n",
    "\n",
    "    # Eliminate actual zeros from plotting data.\n",
    "    for i, row in enumerate(conf_mat):\n",
    "        for j, col in enumerate(row):\n",
    "            if col < cbar_min:\n",
    "                conf_mat_nozeros[i, j] = cbar_min\n",
    "\n",
    "    # Initialize figure and axes objects and plot colored cells.\n",
    "    fig, ax = plt.subplots(\n",
    "        1,\n",
    "        1,\n",
    "        figsize=figsize\n",
    "    )\n",
    "    cax = ax.imshow(\n",
    "        conf_mat_nozeros,\n",
    "        interpolation='nearest',\n",
    "        cmap=cmap,\n",
    "        norm=LogNorm(vmin=cbar_min, vmax=cbar_max)\n",
    "    )\n",
    "\n",
    "    # Add color bar, figure title, labels, and axis ticks.\n",
    "    cbar = fig.colorbar(cax, ax=ax, ticks=cbar_ticks)\n",
    "    cbar.ax.set_yticklabels(cbar_tick_labels)\n",
    "    fig.suptitle(\n",
    "        title,\n",
    "        **{'x': 0.53, 'y': 0.97}\n",
    "    )\n",
    "    ax.set_ylabel('True label')\n",
    "    ax.set_xlabel('Predicted label')\n",
    "    ticks = list(range(len(classes)))\n",
    "    plt.xticks(ticks, classes, rotation=45)\n",
    "    plt.yticks(ticks, classes)\n",
    "    ax.tick_params(axis=u'both', which=u'both', length=0)\n",
    "\n",
    "    # Add numerical values to the matrix's cells.\n",
    "    for i in range(conf_mat.shape[0]):\n",
    "        for j in range(conf_mat.shape[1]):\n",
    "            ax.text(\n",
    "                j,\n",
    "                i,\n",
    "                # conf_mat[i, j],\n",
    "                '{results:.{digits}f}'.format(\n",
    "                    results=conf_mat[i, j],\n",
    "                    digits=num_round\n",
    "                    ),\n",
    "                horizontalalignment=\"center\",\n",
    "                color=fontcolor,\n",
    "                fontsize=fontsize\n",
    "            )\n",
    "\n",
    "    # Format final image for saving.\n",
    "    plt.tight_layout()\n",
    "    plt.subplots_adjust(top=plot_top)\n",
    "\n",
    "    return fig, ax\n",
    "\n",
    "\n",
    "# def save_kwargs(kwargs_dict, kwargs_dict_name, data_save_dir):\n",
    "#     with open(data_save_dir+kwargs_dict_name+\".txt\", \"w\") as output_file:\n",
    "#         output_file.write(json.dumps(kwargs_dict))"
   ]
  },
  {
   "cell_type": "markdown",
   "metadata": {},
   "source": [
    "# Concatenate anomaly data for ML"
   ]
  },
  {
   "cell_type": "code",
   "execution_count": 11,
   "metadata": {},
   "outputs": [],
   "source": [
    "scaled_feats_dict = {\n",
    "    stat_id : None\n",
    "    for stat_id in final_stations_list\n",
    "    if features_dict[stat_id].shape[1]==15\n",
    "}\n",
    "for stat_id in final_stations_list:\n",
    "    \n",
    "    df_to_scale = copy.deepcopy(features_dict[stat_id]).drop(columns=[\"p_official\", \"t_official\"])\n",
    "    \n",
    "    if df_to_scale.shape[1]==15:\n",
    "#         df_to_scale[(df_to_scale == -99999)] = pd.NA\n",
    "#         df_to_scale = df_to_scale.interpolate(method=\"time\", axis=0)\n",
    "#         df_to_scale = df_to_scale.fillna(method=\"bfill\", axis=0)\n",
    "        scaler = StandardScaler(with_mean=True)\n",
    "        feats_scaled_array = scaler.fit_transform(df_to_scale)\n",
    "#         if np.isnan(feats_scaled_array).sum() == 0:\n",
    "        scaled_feats_dict[stat_id] = copy.deepcopy(feats_scaled_array)\n",
    "    \n",
    "    else:\n",
    "        continue\n",
    "\n",
    "t = [stat_tuple[1] for stat_tuple in scaled_feats_dict.items()]\n",
    "scaled_feats_array = np.concatenate(t, axis=0)"
   ]
  },
  {
   "cell_type": "code",
   "execution_count": 12,
   "metadata": {},
   "outputs": [],
   "source": [
    "for stat_id in final_stations_list:\n",
    "    \n",
    "    df_to_scale = copy.deepcopy(features_dict[stat_id]).drop(columns=[\"p_official\", \"t_official\"])\n",
    "    \n",
    "    if df_to_scale.shape[1]==15:\n",
    "#         df_to_scale[(df_to_scale == -99999)] = pd.NA\n",
    "#         df_to_scale = df_to_scale.interpolate(method=\"time\", axis=0)\n",
    "#         df_to_scale = df_to_scale.fillna(method=\"bfill\", axis=0)\n",
    "        scaler = StandardScaler(with_mean=True)\n",
    "        feats_scaled_array = scaler.fit_transform(df_to_scale)\n",
    "        feats_scaled_df = pd.DataFrame(data=feats_scaled_array, index=df_to_scale.index, columns=df_to_scale.columns)\n",
    "#         if np.isnan(feats_scaled_array).sum() == 0:\n",
    "        scaled_feats_dict[stat_id] = copy.deepcopy(feats_scaled_df)\n",
    "    else:\n",
    "        continue\n",
    "\n",
    "final_station_ids_list = [stat_id for stat_id in scaled_feats_dict.keys()]        \n",
    "\n",
    "features_dfs_list = [scaled_feats_dict[station_id] for station_id in final_station_ids_list]\n",
    "targets_dfs_list = [targets_dict[station_id] for station_id in final_station_ids_list]\n",
    "\n",
    "scaled_feats_df = pd.concat(features_dfs_list, axis=0)\n",
    "targs_df = pd.concat(targets_dfs_list, axis=0)"
   ]
  },
  {
   "cell_type": "code",
   "execution_count": 13,
   "metadata": {},
   "outputs": [],
   "source": [
    "combined_scaledfeats_targs_df = pd.concat([scaled_feats_df,targs_df], axis=1)\n",
    "\n",
    "# This takes a COUPLE MINUTES TO RUN. So, only re-run if necessary!!\n",
    "# # combined_scaledfeats_targs_df.to_csv(\"../data/combined_scaledfeats_targs_df.csv\")"
   ]
  },
  {
   "cell_type": "code",
   "execution_count": 14,
   "metadata": {},
   "outputs": [
    {
     "name": "stdout",
     "output_type": "stream",
     "text": [
      "(627937, 16)\n"
     ]
    }
   ],
   "source": [
    "print(combined_scaledfeats_targs_df.shape)"
   ]
  },
  {
   "cell_type": "code",
   "execution_count": 15,
   "metadata": {},
   "outputs": [],
   "source": [
    "combined_scaledfeats_targs_NONAN_df = combined_scaledfeats_targs_df.dropna(how=\"any\", axis=0)"
   ]
  },
  {
   "cell_type": "code",
   "execution_count": 16,
   "metadata": {},
   "outputs": [],
   "source": [
    "# Re-isolate the targets and then combine them into a 1-D pd.series. \n",
    "# Whenever a row has at least one anomaly, then we will collapse that row's \n",
    "# values to a single value of 1. Rows with no anomalies shall be labeled as 0.\n",
    "ml_targs_df = combined_scaledfeats_targs_NONAN_df.iloc[:, 15]"
   ]
  },
  {
   "cell_type": "code",
   "execution_count": 17,
   "metadata": {},
   "outputs": [],
   "source": [
    "# Re-isolate the ML-ready features.\n",
    "ml_feats_df = combined_scaledfeats_targs_NONAN_df.iloc[:, :15]"
   ]
  },
  {
   "cell_type": "markdown",
   "metadata": {},
   "source": [
    "### Calculate the percentage of the ML-ready data that are anomalies"
   ]
  },
  {
   "cell_type": "code",
   "execution_count": 18,
   "metadata": {},
   "outputs": [
    {
     "name": "stdout",
     "output_type": "stream",
     "text": [
      "2.32% of the data are anomalies.\n"
     ]
    }
   ],
   "source": [
    "percentage_anomalies = np.round(100 * (ml_targs_df != \"\").sum()/ml_targs_df.shape[0], 2 )\n",
    "\n",
    "print(f\"{percentage_anomalies}% of the data are anomalies.\")"
   ]
  },
  {
   "cell_type": "code",
   "execution_count": 19,
   "metadata": {},
   "outputs": [
    {
     "name": "stdout",
     "output_type": "stream",
     "text": [
      "Makeup by class\n",
      "###############\n",
      "normal: 97.68 %\n",
      "spike: 0.52 %\n",
      "noise: 1.8 %\n"
     ]
    }
   ],
   "source": [
    "print(\"Makeup by class\")\n",
    "print(\"###############\")\n",
    "for label in ml_targs_df.unique():\n",
    "    num_labels = (ml_targs_df == label).sum()\n",
    "    if label==\"\":\n",
    "        label=\"normal\"\n",
    "    print(label+\":\", np.round(100*num_labels/ml_targs_df.shape[0],2),\"%\")"
   ]
  },
  {
   "cell_type": "markdown",
   "metadata": {},
   "source": [
    "# Perform random search to optimize XGBoost classifier"
   ]
  },
  {
   "cell_type": "code",
   "execution_count": 24,
   "metadata": {},
   "outputs": [],
   "source": [
    "from sklearn.model_selection import StratifiedShuffleSplit\n",
    "# [np.round(n, 0) for n in np.logspace(0.5, 3.1, num=7)]\n",
    "\n",
    "# [np.round(n, 0) for n in np.geomspace(20, 1500, num=6)]"
   ]
  },
  {
   "cell_type": "code",
   "execution_count": 26,
   "metadata": {},
   "outputs": [
    {
     "name": "stdout",
     "output_type": "stream",
     "text": [
      "Tue Jun  1 16:25:53 2021\n",
      "Fitting 3 folds for each of 10 candidates, totalling 30 fits\n"
     ]
    },
    {
     "name": "stderr",
     "output_type": "stream",
     "text": [
      "/Users/ggraham/miniconda3/lib/python3.8/site-packages/xgboost/sklearn.py:1146: UserWarning: The use of label encoder in XGBClassifier is deprecated and will be removed in a future release. To remove this warning, do the following: 1) Pass option use_label_encoder=False when constructing XGBClassifier object; and 2) Encode your labels (y) as integers starting with 0, i.e. 0, 1, 2, ..., [num_class - 1].\n",
      "  warnings.warn(label_encoder_deprecation_msg, UserWarning)\n",
      "/Users/ggraham/miniconda3/lib/python3.8/site-packages/sklearn/utils/validation.py:63: DataConversionWarning: A column-vector y was passed when a 1d array was expected. Please change the shape of y to (n_samples, ), for example using ravel().\n",
      "  return f(*args, **kwargs)\n",
      "/Users/ggraham/miniconda3/lib/python3.8/site-packages/xgboost/data.py:112: UserWarning: Use subset (sliced data) of np.ndarray is not recommended because it will generate extra copies and increase memory consumption\n",
      "  warnings.warn(\n"
     ]
    },
    {
     "name": "stdout",
     "output_type": "stream",
     "text": [
      "[CV] END gamma=0.1, learning_rate=0.8, max_depth=15, min_child_weight=9, n_estimators=20; total time=  28.0s\n"
     ]
    },
    {
     "name": "stderr",
     "output_type": "stream",
     "text": [
      "/Users/ggraham/miniconda3/lib/python3.8/site-packages/xgboost/sklearn.py:1146: UserWarning: The use of label encoder in XGBClassifier is deprecated and will be removed in a future release. To remove this warning, do the following: 1) Pass option use_label_encoder=False when constructing XGBClassifier object; and 2) Encode your labels (y) as integers starting with 0, i.e. 0, 1, 2, ..., [num_class - 1].\n",
      "  warnings.warn(label_encoder_deprecation_msg, UserWarning)\n",
      "/Users/ggraham/miniconda3/lib/python3.8/site-packages/sklearn/utils/validation.py:63: DataConversionWarning: A column-vector y was passed when a 1d array was expected. Please change the shape of y to (n_samples, ), for example using ravel().\n",
      "  return f(*args, **kwargs)\n",
      "/Users/ggraham/miniconda3/lib/python3.8/site-packages/xgboost/data.py:112: UserWarning: Use subset (sliced data) of np.ndarray is not recommended because it will generate extra copies and increase memory consumption\n",
      "  warnings.warn(\n"
     ]
    },
    {
     "name": "stdout",
     "output_type": "stream",
     "text": [
      "[CV] END gamma=0.1, learning_rate=0.8, max_depth=15, min_child_weight=9, n_estimators=20; total time=  29.7s\n"
     ]
    },
    {
     "name": "stderr",
     "output_type": "stream",
     "text": [
      "/Users/ggraham/miniconda3/lib/python3.8/site-packages/xgboost/sklearn.py:1146: UserWarning: The use of label encoder in XGBClassifier is deprecated and will be removed in a future release. To remove this warning, do the following: 1) Pass option use_label_encoder=False when constructing XGBClassifier object; and 2) Encode your labels (y) as integers starting with 0, i.e. 0, 1, 2, ..., [num_class - 1].\n",
      "  warnings.warn(label_encoder_deprecation_msg, UserWarning)\n",
      "/Users/ggraham/miniconda3/lib/python3.8/site-packages/sklearn/utils/validation.py:63: DataConversionWarning: A column-vector y was passed when a 1d array was expected. Please change the shape of y to (n_samples, ), for example using ravel().\n",
      "  return f(*args, **kwargs)\n",
      "/Users/ggraham/miniconda3/lib/python3.8/site-packages/xgboost/data.py:112: UserWarning: Use subset (sliced data) of np.ndarray is not recommended because it will generate extra copies and increase memory consumption\n",
      "  warnings.warn(\n"
     ]
    },
    {
     "name": "stdout",
     "output_type": "stream",
     "text": [
      "[CV] END gamma=0.1, learning_rate=0.8, max_depth=15, min_child_weight=9, n_estimators=20; total time=  29.5s\n"
     ]
    },
    {
     "name": "stderr",
     "output_type": "stream",
     "text": [
      "/Users/ggraham/miniconda3/lib/python3.8/site-packages/xgboost/sklearn.py:1146: UserWarning: The use of label encoder in XGBClassifier is deprecated and will be removed in a future release. To remove this warning, do the following: 1) Pass option use_label_encoder=False when constructing XGBClassifier object; and 2) Encode your labels (y) as integers starting with 0, i.e. 0, 1, 2, ..., [num_class - 1].\n",
      "  warnings.warn(label_encoder_deprecation_msg, UserWarning)\n",
      "/Users/ggraham/miniconda3/lib/python3.8/site-packages/sklearn/utils/validation.py:63: DataConversionWarning: A column-vector y was passed when a 1d array was expected. Please change the shape of y to (n_samples, ), for example using ravel().\n",
      "  return f(*args, **kwargs)\n",
      "/Users/ggraham/miniconda3/lib/python3.8/site-packages/xgboost/data.py:112: UserWarning: Use subset (sliced data) of np.ndarray is not recommended because it will generate extra copies and increase memory consumption\n",
      "  warnings.warn(\n"
     ]
    },
    {
     "name": "stdout",
     "output_type": "stream",
     "text": [
      "[CV] END gamma=0.0, learning_rate=0.8, max_depth=15, min_child_weight=5, n_estimators=457; total time= 7.3min\n"
     ]
    },
    {
     "name": "stderr",
     "output_type": "stream",
     "text": [
      "/Users/ggraham/miniconda3/lib/python3.8/site-packages/xgboost/sklearn.py:1146: UserWarning: The use of label encoder in XGBClassifier is deprecated and will be removed in a future release. To remove this warning, do the following: 1) Pass option use_label_encoder=False when constructing XGBClassifier object; and 2) Encode your labels (y) as integers starting with 0, i.e. 0, 1, 2, ..., [num_class - 1].\n",
      "  warnings.warn(label_encoder_deprecation_msg, UserWarning)\n",
      "/Users/ggraham/miniconda3/lib/python3.8/site-packages/sklearn/utils/validation.py:63: DataConversionWarning: A column-vector y was passed when a 1d array was expected. Please change the shape of y to (n_samples, ), for example using ravel().\n",
      "  return f(*args, **kwargs)\n",
      "/Users/ggraham/miniconda3/lib/python3.8/site-packages/xgboost/data.py:112: UserWarning: Use subset (sliced data) of np.ndarray is not recommended because it will generate extra copies and increase memory consumption\n",
      "  warnings.warn(\n"
     ]
    },
    {
     "name": "stdout",
     "output_type": "stream",
     "text": [
      "[CV] END gamma=0.0, learning_rate=0.8, max_depth=15, min_child_weight=5, n_estimators=457; total time= 6.5min\n"
     ]
    },
    {
     "name": "stderr",
     "output_type": "stream",
     "text": [
      "/Users/ggraham/miniconda3/lib/python3.8/site-packages/xgboost/sklearn.py:1146: UserWarning: The use of label encoder in XGBClassifier is deprecated and will be removed in a future release. To remove this warning, do the following: 1) Pass option use_label_encoder=False when constructing XGBClassifier object; and 2) Encode your labels (y) as integers starting with 0, i.e. 0, 1, 2, ..., [num_class - 1].\n",
      "  warnings.warn(label_encoder_deprecation_msg, UserWarning)\n",
      "/Users/ggraham/miniconda3/lib/python3.8/site-packages/sklearn/utils/validation.py:63: DataConversionWarning: A column-vector y was passed when a 1d array was expected. Please change the shape of y to (n_samples, ), for example using ravel().\n",
      "  return f(*args, **kwargs)\n",
      "/Users/ggraham/miniconda3/lib/python3.8/site-packages/xgboost/data.py:112: UserWarning: Use subset (sliced data) of np.ndarray is not recommended because it will generate extra copies and increase memory consumption\n",
      "  warnings.warn(\n"
     ]
    },
    {
     "name": "stdout",
     "output_type": "stream",
     "text": [
      "[CV] END gamma=0.0, learning_rate=0.8, max_depth=15, min_child_weight=5, n_estimators=457; total time= 6.8min\n"
     ]
    },
    {
     "name": "stderr",
     "output_type": "stream",
     "text": [
      "/Users/ggraham/miniconda3/lib/python3.8/site-packages/xgboost/sklearn.py:1146: UserWarning: The use of label encoder in XGBClassifier is deprecated and will be removed in a future release. To remove this warning, do the following: 1) Pass option use_label_encoder=False when constructing XGBClassifier object; and 2) Encode your labels (y) as integers starting with 0, i.e. 0, 1, 2, ..., [num_class - 1].\n",
      "  warnings.warn(label_encoder_deprecation_msg, UserWarning)\n",
      "/Users/ggraham/miniconda3/lib/python3.8/site-packages/sklearn/utils/validation.py:63: DataConversionWarning: A column-vector y was passed when a 1d array was expected. Please change the shape of y to (n_samples, ), for example using ravel().\n",
      "  return f(*args, **kwargs)\n",
      "/Users/ggraham/miniconda3/lib/python3.8/site-packages/xgboost/data.py:112: UserWarning: Use subset (sliced data) of np.ndarray is not recommended because it will generate extra copies and increase memory consumption\n",
      "  warnings.warn(\n"
     ]
    },
    {
     "name": "stdout",
     "output_type": "stream",
     "text": [
      "[CV] END gamma=0.5, learning_rate=0.4, max_depth=7, min_child_weight=9, n_estimators=44; total time=  39.3s\n"
     ]
    },
    {
     "name": "stderr",
     "output_type": "stream",
     "text": [
      "/Users/ggraham/miniconda3/lib/python3.8/site-packages/xgboost/sklearn.py:1146: UserWarning: The use of label encoder in XGBClassifier is deprecated and will be removed in a future release. To remove this warning, do the following: 1) Pass option use_label_encoder=False when constructing XGBClassifier object; and 2) Encode your labels (y) as integers starting with 0, i.e. 0, 1, 2, ..., [num_class - 1].\n",
      "  warnings.warn(label_encoder_deprecation_msg, UserWarning)\n",
      "/Users/ggraham/miniconda3/lib/python3.8/site-packages/sklearn/utils/validation.py:63: DataConversionWarning: A column-vector y was passed when a 1d array was expected. Please change the shape of y to (n_samples, ), for example using ravel().\n",
      "  return f(*args, **kwargs)\n",
      "/Users/ggraham/miniconda3/lib/python3.8/site-packages/xgboost/data.py:112: UserWarning: Use subset (sliced data) of np.ndarray is not recommended because it will generate extra copies and increase memory consumption\n",
      "  warnings.warn(\n"
     ]
    },
    {
     "name": "stdout",
     "output_type": "stream",
     "text": [
      "[CV] END gamma=0.5, learning_rate=0.4, max_depth=7, min_child_weight=9, n_estimators=44; total time=  39.2s\n"
     ]
    },
    {
     "name": "stderr",
     "output_type": "stream",
     "text": [
      "/Users/ggraham/miniconda3/lib/python3.8/site-packages/xgboost/sklearn.py:1146: UserWarning: The use of label encoder in XGBClassifier is deprecated and will be removed in a future release. To remove this warning, do the following: 1) Pass option use_label_encoder=False when constructing XGBClassifier object; and 2) Encode your labels (y) as integers starting with 0, i.e. 0, 1, 2, ..., [num_class - 1].\n",
      "  warnings.warn(label_encoder_deprecation_msg, UserWarning)\n",
      "/Users/ggraham/miniconda3/lib/python3.8/site-packages/sklearn/utils/validation.py:63: DataConversionWarning: A column-vector y was passed when a 1d array was expected. Please change the shape of y to (n_samples, ), for example using ravel().\n",
      "  return f(*args, **kwargs)\n",
      "/Users/ggraham/miniconda3/lib/python3.8/site-packages/xgboost/data.py:112: UserWarning: Use subset (sliced data) of np.ndarray is not recommended because it will generate extra copies and increase memory consumption\n",
      "  warnings.warn(\n"
     ]
    },
    {
     "name": "stdout",
     "output_type": "stream",
     "text": [
      "[CV] END gamma=0.5, learning_rate=0.4, max_depth=7, min_child_weight=9, n_estimators=44; total time=  42.3s\n"
     ]
    },
    {
     "name": "stderr",
     "output_type": "stream",
     "text": [
      "/Users/ggraham/miniconda3/lib/python3.8/site-packages/xgboost/sklearn.py:1146: UserWarning: The use of label encoder in XGBClassifier is deprecated and will be removed in a future release. To remove this warning, do the following: 1) Pass option use_label_encoder=False when constructing XGBClassifier object; and 2) Encode your labels (y) as integers starting with 0, i.e. 0, 1, 2, ..., [num_class - 1].\n",
      "  warnings.warn(label_encoder_deprecation_msg, UserWarning)\n",
      "/Users/ggraham/miniconda3/lib/python3.8/site-packages/sklearn/utils/validation.py:63: DataConversionWarning: A column-vector y was passed when a 1d array was expected. Please change the shape of y to (n_samples, ), for example using ravel().\n",
      "  return f(*args, **kwargs)\n",
      "/Users/ggraham/miniconda3/lib/python3.8/site-packages/xgboost/data.py:112: UserWarning: Use subset (sliced data) of np.ndarray is not recommended because it will generate extra copies and increase memory consumption\n",
      "  warnings.warn(\n"
     ]
    },
    {
     "name": "stdout",
     "output_type": "stream",
     "text": [
      "[CV] END gamma=0.3, learning_rate=0.8, max_depth=15, min_child_weight=5, n_estimators=20; total time=  40.2s\n"
     ]
    },
    {
     "name": "stderr",
     "output_type": "stream",
     "text": [
      "/Users/ggraham/miniconda3/lib/python3.8/site-packages/xgboost/sklearn.py:1146: UserWarning: The use of label encoder in XGBClassifier is deprecated and will be removed in a future release. To remove this warning, do the following: 1) Pass option use_label_encoder=False when constructing XGBClassifier object; and 2) Encode your labels (y) as integers starting with 0, i.e. 0, 1, 2, ..., [num_class - 1].\n",
      "  warnings.warn(label_encoder_deprecation_msg, UserWarning)\n",
      "/Users/ggraham/miniconda3/lib/python3.8/site-packages/sklearn/utils/validation.py:63: DataConversionWarning: A column-vector y was passed when a 1d array was expected. Please change the shape of y to (n_samples, ), for example using ravel().\n",
      "  return f(*args, **kwargs)\n",
      "/Users/ggraham/miniconda3/lib/python3.8/site-packages/xgboost/data.py:112: UserWarning: Use subset (sliced data) of np.ndarray is not recommended because it will generate extra copies and increase memory consumption\n",
      "  warnings.warn(\n"
     ]
    },
    {
     "name": "stdout",
     "output_type": "stream",
     "text": [
      "[CV] END gamma=0.3, learning_rate=0.8, max_depth=15, min_child_weight=5, n_estimators=20; total time=  36.4s\n"
     ]
    },
    {
     "name": "stderr",
     "output_type": "stream",
     "text": [
      "/Users/ggraham/miniconda3/lib/python3.8/site-packages/xgboost/sklearn.py:1146: UserWarning: The use of label encoder in XGBClassifier is deprecated and will be removed in a future release. To remove this warning, do the following: 1) Pass option use_label_encoder=False when constructing XGBClassifier object; and 2) Encode your labels (y) as integers starting with 0, i.e. 0, 1, 2, ..., [num_class - 1].\n",
      "  warnings.warn(label_encoder_deprecation_msg, UserWarning)\n",
      "/Users/ggraham/miniconda3/lib/python3.8/site-packages/sklearn/utils/validation.py:63: DataConversionWarning: A column-vector y was passed when a 1d array was expected. Please change the shape of y to (n_samples, ), for example using ravel().\n",
      "  return f(*args, **kwargs)\n",
      "/Users/ggraham/miniconda3/lib/python3.8/site-packages/xgboost/data.py:112: UserWarning: Use subset (sliced data) of np.ndarray is not recommended because it will generate extra copies and increase memory consumption\n",
      "  warnings.warn(\n"
     ]
    },
    {
     "name": "stdout",
     "output_type": "stream",
     "text": [
      "[CV] END gamma=0.3, learning_rate=0.8, max_depth=15, min_child_weight=5, n_estimators=20; total time=  36.0s\n"
     ]
    },
    {
     "name": "stderr",
     "output_type": "stream",
     "text": [
      "/Users/ggraham/miniconda3/lib/python3.8/site-packages/xgboost/sklearn.py:1146: UserWarning: The use of label encoder in XGBClassifier is deprecated and will be removed in a future release. To remove this warning, do the following: 1) Pass option use_label_encoder=False when constructing XGBClassifier object; and 2) Encode your labels (y) as integers starting with 0, i.e. 0, 1, 2, ..., [num_class - 1].\n",
      "  warnings.warn(label_encoder_deprecation_msg, UserWarning)\n",
      "/Users/ggraham/miniconda3/lib/python3.8/site-packages/sklearn/utils/validation.py:63: DataConversionWarning: A column-vector y was passed when a 1d array was expected. Please change the shape of y to (n_samples, ), for example using ravel().\n",
      "  return f(*args, **kwargs)\n",
      "/Users/ggraham/miniconda3/lib/python3.8/site-packages/xgboost/data.py:112: UserWarning: Use subset (sliced data) of np.ndarray is not recommended because it will generate extra copies and increase memory consumption\n",
      "  warnings.warn(\n"
     ]
    },
    {
     "name": "stdout",
     "output_type": "stream",
     "text": [
      "[CV] END gamma=0.5, learning_rate=0.1, max_depth=9, min_child_weight=7, n_estimators=44; total time=  53.2s\n"
     ]
    },
    {
     "name": "stderr",
     "output_type": "stream",
     "text": [
      "/Users/ggraham/miniconda3/lib/python3.8/site-packages/xgboost/sklearn.py:1146: UserWarning: The use of label encoder in XGBClassifier is deprecated and will be removed in a future release. To remove this warning, do the following: 1) Pass option use_label_encoder=False when constructing XGBClassifier object; and 2) Encode your labels (y) as integers starting with 0, i.e. 0, 1, 2, ..., [num_class - 1].\n",
      "  warnings.warn(label_encoder_deprecation_msg, UserWarning)\n",
      "/Users/ggraham/miniconda3/lib/python3.8/site-packages/sklearn/utils/validation.py:63: DataConversionWarning: A column-vector y was passed when a 1d array was expected. Please change the shape of y to (n_samples, ), for example using ravel().\n",
      "  return f(*args, **kwargs)\n",
      "/Users/ggraham/miniconda3/lib/python3.8/site-packages/xgboost/data.py:112: UserWarning: Use subset (sliced data) of np.ndarray is not recommended because it will generate extra copies and increase memory consumption\n",
      "  warnings.warn(\n"
     ]
    },
    {
     "name": "stdout",
     "output_type": "stream",
     "text": [
      "[CV] END gamma=0.5, learning_rate=0.1, max_depth=9, min_child_weight=7, n_estimators=44; total time=  53.0s\n"
     ]
    },
    {
     "name": "stderr",
     "output_type": "stream",
     "text": [
      "/Users/ggraham/miniconda3/lib/python3.8/site-packages/xgboost/sklearn.py:1146: UserWarning: The use of label encoder in XGBClassifier is deprecated and will be removed in a future release. To remove this warning, do the following: 1) Pass option use_label_encoder=False when constructing XGBClassifier object; and 2) Encode your labels (y) as integers starting with 0, i.e. 0, 1, 2, ..., [num_class - 1].\n",
      "  warnings.warn(label_encoder_deprecation_msg, UserWarning)\n",
      "/Users/ggraham/miniconda3/lib/python3.8/site-packages/sklearn/utils/validation.py:63: DataConversionWarning: A column-vector y was passed when a 1d array was expected. Please change the shape of y to (n_samples, ), for example using ravel().\n",
      "  return f(*args, **kwargs)\n",
      "/Users/ggraham/miniconda3/lib/python3.8/site-packages/xgboost/data.py:112: UserWarning: Use subset (sliced data) of np.ndarray is not recommended because it will generate extra copies and increase memory consumption\n",
      "  warnings.warn(\n"
     ]
    },
    {
     "name": "stdout",
     "output_type": "stream",
     "text": [
      "[CV] END gamma=0.5, learning_rate=0.1, max_depth=9, min_child_weight=7, n_estimators=44; total time=  50.9s\n"
     ]
    },
    {
     "name": "stderr",
     "output_type": "stream",
     "text": [
      "/Users/ggraham/miniconda3/lib/python3.8/site-packages/xgboost/sklearn.py:1146: UserWarning: The use of label encoder in XGBClassifier is deprecated and will be removed in a future release. To remove this warning, do the following: 1) Pass option use_label_encoder=False when constructing XGBClassifier object; and 2) Encode your labels (y) as integers starting with 0, i.e. 0, 1, 2, ..., [num_class - 1].\n",
      "  warnings.warn(label_encoder_deprecation_msg, UserWarning)\n",
      "/Users/ggraham/miniconda3/lib/python3.8/site-packages/sklearn/utils/validation.py:63: DataConversionWarning: A column-vector y was passed when a 1d array was expected. Please change the shape of y to (n_samples, ), for example using ravel().\n",
      "  return f(*args, **kwargs)\n",
      "/Users/ggraham/miniconda3/lib/python3.8/site-packages/xgboost/data.py:112: UserWarning: Use subset (sliced data) of np.ndarray is not recommended because it will generate extra copies and increase memory consumption\n",
      "  warnings.warn(\n"
     ]
    },
    {
     "name": "stdout",
     "output_type": "stream",
     "text": [
      "[CV] END gamma=0.3, learning_rate=0.4, max_depth=9, min_child_weight=9, n_estimators=209; total time= 3.5min\n"
     ]
    },
    {
     "name": "stderr",
     "output_type": "stream",
     "text": [
      "/Users/ggraham/miniconda3/lib/python3.8/site-packages/xgboost/sklearn.py:1146: UserWarning: The use of label encoder in XGBClassifier is deprecated and will be removed in a future release. To remove this warning, do the following: 1) Pass option use_label_encoder=False when constructing XGBClassifier object; and 2) Encode your labels (y) as integers starting with 0, i.e. 0, 1, 2, ..., [num_class - 1].\n",
      "  warnings.warn(label_encoder_deprecation_msg, UserWarning)\n",
      "/Users/ggraham/miniconda3/lib/python3.8/site-packages/sklearn/utils/validation.py:63: DataConversionWarning: A column-vector y was passed when a 1d array was expected. Please change the shape of y to (n_samples, ), for example using ravel().\n",
      "  return f(*args, **kwargs)\n",
      "/Users/ggraham/miniconda3/lib/python3.8/site-packages/xgboost/data.py:112: UserWarning: Use subset (sliced data) of np.ndarray is not recommended because it will generate extra copies and increase memory consumption\n",
      "  warnings.warn(\n"
     ]
    },
    {
     "name": "stdout",
     "output_type": "stream",
     "text": [
      "[CV] END gamma=0.3, learning_rate=0.4, max_depth=9, min_child_weight=9, n_estimators=209; total time= 3.2min\n"
     ]
    },
    {
     "name": "stderr",
     "output_type": "stream",
     "text": [
      "/Users/ggraham/miniconda3/lib/python3.8/site-packages/xgboost/sklearn.py:1146: UserWarning: The use of label encoder in XGBClassifier is deprecated and will be removed in a future release. To remove this warning, do the following: 1) Pass option use_label_encoder=False when constructing XGBClassifier object; and 2) Encode your labels (y) as integers starting with 0, i.e. 0, 1, 2, ..., [num_class - 1].\n",
      "  warnings.warn(label_encoder_deprecation_msg, UserWarning)\n",
      "/Users/ggraham/miniconda3/lib/python3.8/site-packages/sklearn/utils/validation.py:63: DataConversionWarning: A column-vector y was passed when a 1d array was expected. Please change the shape of y to (n_samples, ), for example using ravel().\n",
      "  return f(*args, **kwargs)\n",
      "/Users/ggraham/miniconda3/lib/python3.8/site-packages/xgboost/data.py:112: UserWarning: Use subset (sliced data) of np.ndarray is not recommended because it will generate extra copies and increase memory consumption\n",
      "  warnings.warn(\n"
     ]
    },
    {
     "name": "stdout",
     "output_type": "stream",
     "text": [
      "[CV] END gamma=0.3, learning_rate=0.4, max_depth=9, min_child_weight=9, n_estimators=209; total time= 3.1min\n"
     ]
    },
    {
     "name": "stderr",
     "output_type": "stream",
     "text": [
      "/Users/ggraham/miniconda3/lib/python3.8/site-packages/xgboost/sklearn.py:1146: UserWarning: The use of label encoder in XGBClassifier is deprecated and will be removed in a future release. To remove this warning, do the following: 1) Pass option use_label_encoder=False when constructing XGBClassifier object; and 2) Encode your labels (y) as integers starting with 0, i.e. 0, 1, 2, ..., [num_class - 1].\n",
      "  warnings.warn(label_encoder_deprecation_msg, UserWarning)\n",
      "/Users/ggraham/miniconda3/lib/python3.8/site-packages/sklearn/utils/validation.py:63: DataConversionWarning: A column-vector y was passed when a 1d array was expected. Please change the shape of y to (n_samples, ), for example using ravel().\n",
      "  return f(*args, **kwargs)\n",
      "/Users/ggraham/miniconda3/lib/python3.8/site-packages/xgboost/data.py:112: UserWarning: Use subset (sliced data) of np.ndarray is not recommended because it will generate extra copies and increase memory consumption\n",
      "  warnings.warn(\n"
     ]
    },
    {
     "name": "stdout",
     "output_type": "stream",
     "text": [
      "[CV] END gamma=0.3, learning_rate=0.1, max_depth=13, min_child_weight=5, n_estimators=44; total time= 1.1min\n"
     ]
    },
    {
     "name": "stderr",
     "output_type": "stream",
     "text": [
      "/Users/ggraham/miniconda3/lib/python3.8/site-packages/xgboost/sklearn.py:1146: UserWarning: The use of label encoder in XGBClassifier is deprecated and will be removed in a future release. To remove this warning, do the following: 1) Pass option use_label_encoder=False when constructing XGBClassifier object; and 2) Encode your labels (y) as integers starting with 0, i.e. 0, 1, 2, ..., [num_class - 1].\n",
      "  warnings.warn(label_encoder_deprecation_msg, UserWarning)\n",
      "/Users/ggraham/miniconda3/lib/python3.8/site-packages/sklearn/utils/validation.py:63: DataConversionWarning: A column-vector y was passed when a 1d array was expected. Please change the shape of y to (n_samples, ), for example using ravel().\n",
      "  return f(*args, **kwargs)\n",
      "/Users/ggraham/miniconda3/lib/python3.8/site-packages/xgboost/data.py:112: UserWarning: Use subset (sliced data) of np.ndarray is not recommended because it will generate extra copies and increase memory consumption\n",
      "  warnings.warn(\n"
     ]
    },
    {
     "name": "stdout",
     "output_type": "stream",
     "text": [
      "[CV] END gamma=0.3, learning_rate=0.1, max_depth=13, min_child_weight=5, n_estimators=44; total time= 1.0min\n"
     ]
    },
    {
     "name": "stderr",
     "output_type": "stream",
     "text": [
      "/Users/ggraham/miniconda3/lib/python3.8/site-packages/xgboost/sklearn.py:1146: UserWarning: The use of label encoder in XGBClassifier is deprecated and will be removed in a future release. To remove this warning, do the following: 1) Pass option use_label_encoder=False when constructing XGBClassifier object; and 2) Encode your labels (y) as integers starting with 0, i.e. 0, 1, 2, ..., [num_class - 1].\n",
      "  warnings.warn(label_encoder_deprecation_msg, UserWarning)\n",
      "/Users/ggraham/miniconda3/lib/python3.8/site-packages/sklearn/utils/validation.py:63: DataConversionWarning: A column-vector y was passed when a 1d array was expected. Please change the shape of y to (n_samples, ), for example using ravel().\n",
      "  return f(*args, **kwargs)\n",
      "/Users/ggraham/miniconda3/lib/python3.8/site-packages/xgboost/data.py:112: UserWarning: Use subset (sliced data) of np.ndarray is not recommended because it will generate extra copies and increase memory consumption\n",
      "  warnings.warn(\n"
     ]
    },
    {
     "name": "stdout",
     "output_type": "stream",
     "text": [
      "[CV] END gamma=0.3, learning_rate=0.1, max_depth=13, min_child_weight=5, n_estimators=44; total time= 1.0min\n"
     ]
    },
    {
     "name": "stderr",
     "output_type": "stream",
     "text": [
      "/Users/ggraham/miniconda3/lib/python3.8/site-packages/xgboost/sklearn.py:1146: UserWarning: The use of label encoder in XGBClassifier is deprecated and will be removed in a future release. To remove this warning, do the following: 1) Pass option use_label_encoder=False when constructing XGBClassifier object; and 2) Encode your labels (y) as integers starting with 0, i.e. 0, 1, 2, ..., [num_class - 1].\n",
      "  warnings.warn(label_encoder_deprecation_msg, UserWarning)\n",
      "/Users/ggraham/miniconda3/lib/python3.8/site-packages/sklearn/utils/validation.py:63: DataConversionWarning: A column-vector y was passed when a 1d array was expected. Please change the shape of y to (n_samples, ), for example using ravel().\n",
      "  return f(*args, **kwargs)\n",
      "/Users/ggraham/miniconda3/lib/python3.8/site-packages/xgboost/data.py:112: UserWarning: Use subset (sliced data) of np.ndarray is not recommended because it will generate extra copies and increase memory consumption\n",
      "  warnings.warn(\n"
     ]
    },
    {
     "name": "stdout",
     "output_type": "stream",
     "text": [
      "[CV] END gamma=0.3, learning_rate=0.4, max_depth=13, min_child_weight=11, n_estimators=457; total time= 8.4min\n"
     ]
    },
    {
     "name": "stderr",
     "output_type": "stream",
     "text": [
      "/Users/ggraham/miniconda3/lib/python3.8/site-packages/xgboost/sklearn.py:1146: UserWarning: The use of label encoder in XGBClassifier is deprecated and will be removed in a future release. To remove this warning, do the following: 1) Pass option use_label_encoder=False when constructing XGBClassifier object; and 2) Encode your labels (y) as integers starting with 0, i.e. 0, 1, 2, ..., [num_class - 1].\n",
      "  warnings.warn(label_encoder_deprecation_msg, UserWarning)\n",
      "/Users/ggraham/miniconda3/lib/python3.8/site-packages/sklearn/utils/validation.py:63: DataConversionWarning: A column-vector y was passed when a 1d array was expected. Please change the shape of y to (n_samples, ), for example using ravel().\n",
      "  return f(*args, **kwargs)\n",
      "/Users/ggraham/miniconda3/lib/python3.8/site-packages/xgboost/data.py:112: UserWarning: Use subset (sliced data) of np.ndarray is not recommended because it will generate extra copies and increase memory consumption\n",
      "  warnings.warn(\n"
     ]
    },
    {
     "name": "stdout",
     "output_type": "stream",
     "text": [
      "[CV] END gamma=0.3, learning_rate=0.4, max_depth=13, min_child_weight=11, n_estimators=457; total time= 9.2min\n"
     ]
    },
    {
     "name": "stderr",
     "output_type": "stream",
     "text": [
      "/Users/ggraham/miniconda3/lib/python3.8/site-packages/xgboost/sklearn.py:1146: UserWarning: The use of label encoder in XGBClassifier is deprecated and will be removed in a future release. To remove this warning, do the following: 1) Pass option use_label_encoder=False when constructing XGBClassifier object; and 2) Encode your labels (y) as integers starting with 0, i.e. 0, 1, 2, ..., [num_class - 1].\n",
      "  warnings.warn(label_encoder_deprecation_msg, UserWarning)\n",
      "/Users/ggraham/miniconda3/lib/python3.8/site-packages/sklearn/utils/validation.py:63: DataConversionWarning: A column-vector y was passed when a 1d array was expected. Please change the shape of y to (n_samples, ), for example using ravel().\n",
      "  return f(*args, **kwargs)\n",
      "/Users/ggraham/miniconda3/lib/python3.8/site-packages/xgboost/data.py:112: UserWarning: Use subset (sliced data) of np.ndarray is not recommended because it will generate extra copies and increase memory consumption\n",
      "  warnings.warn(\n"
     ]
    },
    {
     "name": "stdout",
     "output_type": "stream",
     "text": [
      "[CV] END gamma=0.3, learning_rate=0.4, max_depth=13, min_child_weight=11, n_estimators=457; total time= 8.9min\n"
     ]
    },
    {
     "name": "stderr",
     "output_type": "stream",
     "text": [
      "/Users/ggraham/miniconda3/lib/python3.8/site-packages/xgboost/sklearn.py:1146: UserWarning: The use of label encoder in XGBClassifier is deprecated and will be removed in a future release. To remove this warning, do the following: 1) Pass option use_label_encoder=False when constructing XGBClassifier object; and 2) Encode your labels (y) as integers starting with 0, i.e. 0, 1, 2, ..., [num_class - 1].\n",
      "  warnings.warn(label_encoder_deprecation_msg, UserWarning)\n",
      "/Users/ggraham/miniconda3/lib/python3.8/site-packages/sklearn/utils/validation.py:63: DataConversionWarning: A column-vector y was passed when a 1d array was expected. Please change the shape of y to (n_samples, ), for example using ravel().\n",
      "  return f(*args, **kwargs)\n",
      "/Users/ggraham/miniconda3/lib/python3.8/site-packages/xgboost/data.py:112: UserWarning: Use subset (sliced data) of np.ndarray is not recommended because it will generate extra copies and increase memory consumption\n",
      "  warnings.warn(\n"
     ]
    },
    {
     "name": "stdout",
     "output_type": "stream",
     "text": [
      "[CV] END gamma=0.4, learning_rate=0.4, max_depth=9, min_child_weight=7, n_estimators=1000; total time=15.1min\n"
     ]
    },
    {
     "name": "stderr",
     "output_type": "stream",
     "text": [
      "/Users/ggraham/miniconda3/lib/python3.8/site-packages/xgboost/sklearn.py:1146: UserWarning: The use of label encoder in XGBClassifier is deprecated and will be removed in a future release. To remove this warning, do the following: 1) Pass option use_label_encoder=False when constructing XGBClassifier object; and 2) Encode your labels (y) as integers starting with 0, i.e. 0, 1, 2, ..., [num_class - 1].\n",
      "  warnings.warn(label_encoder_deprecation_msg, UserWarning)\n",
      "/Users/ggraham/miniconda3/lib/python3.8/site-packages/sklearn/utils/validation.py:63: DataConversionWarning: A column-vector y was passed when a 1d array was expected. Please change the shape of y to (n_samples, ), for example using ravel().\n",
      "  return f(*args, **kwargs)\n",
      "/Users/ggraham/miniconda3/lib/python3.8/site-packages/xgboost/data.py:112: UserWarning: Use subset (sliced data) of np.ndarray is not recommended because it will generate extra copies and increase memory consumption\n",
      "  warnings.warn(\n"
     ]
    },
    {
     "name": "stdout",
     "output_type": "stream",
     "text": [
      "[CV] END gamma=0.4, learning_rate=0.4, max_depth=9, min_child_weight=7, n_estimators=1000; total time=15.4min\n"
     ]
    },
    {
     "name": "stderr",
     "output_type": "stream",
     "text": [
      "/Users/ggraham/miniconda3/lib/python3.8/site-packages/xgboost/sklearn.py:1146: UserWarning: The use of label encoder in XGBClassifier is deprecated and will be removed in a future release. To remove this warning, do the following: 1) Pass option use_label_encoder=False when constructing XGBClassifier object; and 2) Encode your labels (y) as integers starting with 0, i.e. 0, 1, 2, ..., [num_class - 1].\n",
      "  warnings.warn(label_encoder_deprecation_msg, UserWarning)\n",
      "/Users/ggraham/miniconda3/lib/python3.8/site-packages/sklearn/utils/validation.py:63: DataConversionWarning: A column-vector y was passed when a 1d array was expected. Please change the shape of y to (n_samples, ), for example using ravel().\n",
      "  return f(*args, **kwargs)\n",
      "/Users/ggraham/miniconda3/lib/python3.8/site-packages/xgboost/data.py:112: UserWarning: Use subset (sliced data) of np.ndarray is not recommended because it will generate extra copies and increase memory consumption\n",
      "  warnings.warn(\n"
     ]
    },
    {
     "name": "stdout",
     "output_type": "stream",
     "text": [
      "[CV] END gamma=0.4, learning_rate=0.4, max_depth=9, min_child_weight=7, n_estimators=1000; total time=15.1min\n"
     ]
    },
    {
     "name": "stderr",
     "output_type": "stream",
     "text": [
      "/Users/ggraham/miniconda3/lib/python3.8/site-packages/xgboost/sklearn.py:1146: UserWarning: The use of label encoder in XGBClassifier is deprecated and will be removed in a future release. To remove this warning, do the following: 1) Pass option use_label_encoder=False when constructing XGBClassifier object; and 2) Encode your labels (y) as integers starting with 0, i.e. 0, 1, 2, ..., [num_class - 1].\n",
      "  warnings.warn(label_encoder_deprecation_msg, UserWarning)\n",
      "/Users/ggraham/miniconda3/lib/python3.8/site-packages/sklearn/utils/validation.py:63: DataConversionWarning: A column-vector y was passed when a 1d array was expected. Please change the shape of y to (n_samples, ), for example using ravel().\n",
      "  return f(*args, **kwargs)\n",
      "/Users/ggraham/miniconda3/lib/python3.8/site-packages/xgboost/data.py:112: UserWarning: Use subset (sliced data) of np.ndarray is not recommended because it will generate extra copies and increase memory consumption\n",
      "  warnings.warn(\n"
     ]
    },
    {
     "name": "stdout",
     "output_type": "stream",
     "text": [
      "[CV] END gamma=0.0, learning_rate=0.4, max_depth=7, min_child_weight=11, n_estimators=457; total time= 5.6min\n"
     ]
    },
    {
     "name": "stderr",
     "output_type": "stream",
     "text": [
      "/Users/ggraham/miniconda3/lib/python3.8/site-packages/xgboost/sklearn.py:1146: UserWarning: The use of label encoder in XGBClassifier is deprecated and will be removed in a future release. To remove this warning, do the following: 1) Pass option use_label_encoder=False when constructing XGBClassifier object; and 2) Encode your labels (y) as integers starting with 0, i.e. 0, 1, 2, ..., [num_class - 1].\n",
      "  warnings.warn(label_encoder_deprecation_msg, UserWarning)\n",
      "/Users/ggraham/miniconda3/lib/python3.8/site-packages/sklearn/utils/validation.py:63: DataConversionWarning: A column-vector y was passed when a 1d array was expected. Please change the shape of y to (n_samples, ), for example using ravel().\n",
      "  return f(*args, **kwargs)\n",
      "/Users/ggraham/miniconda3/lib/python3.8/site-packages/xgboost/data.py:112: UserWarning: Use subset (sliced data) of np.ndarray is not recommended because it will generate extra copies and increase memory consumption\n",
      "  warnings.warn(\n"
     ]
    },
    {
     "name": "stdout",
     "output_type": "stream",
     "text": [
      "[CV] END gamma=0.0, learning_rate=0.4, max_depth=7, min_child_weight=11, n_estimators=457; total time= 5.6min\n"
     ]
    },
    {
     "name": "stderr",
     "output_type": "stream",
     "text": [
      "/Users/ggraham/miniconda3/lib/python3.8/site-packages/xgboost/sklearn.py:1146: UserWarning: The use of label encoder in XGBClassifier is deprecated and will be removed in a future release. To remove this warning, do the following: 1) Pass option use_label_encoder=False when constructing XGBClassifier object; and 2) Encode your labels (y) as integers starting with 0, i.e. 0, 1, 2, ..., [num_class - 1].\n",
      "  warnings.warn(label_encoder_deprecation_msg, UserWarning)\n",
      "/Users/ggraham/miniconda3/lib/python3.8/site-packages/sklearn/utils/validation.py:63: DataConversionWarning: A column-vector y was passed when a 1d array was expected. Please change the shape of y to (n_samples, ), for example using ravel().\n",
      "  return f(*args, **kwargs)\n",
      "/Users/ggraham/miniconda3/lib/python3.8/site-packages/xgboost/data.py:112: UserWarning: Use subset (sliced data) of np.ndarray is not recommended because it will generate extra copies and increase memory consumption\n",
      "  warnings.warn(\n"
     ]
    },
    {
     "name": "stdout",
     "output_type": "stream",
     "text": [
      "[CV] END gamma=0.0, learning_rate=0.4, max_depth=7, min_child_weight=11, n_estimators=457; total time= 5.6min\n"
     ]
    },
    {
     "name": "stderr",
     "output_type": "stream",
     "text": [
      "/Users/ggraham/miniconda3/lib/python3.8/site-packages/xgboost/sklearn.py:1146: UserWarning: The use of label encoder in XGBClassifier is deprecated and will be removed in a future release. To remove this warning, do the following: 1) Pass option use_label_encoder=False when constructing XGBClassifier object; and 2) Encode your labels (y) as integers starting with 0, i.e. 0, 1, 2, ..., [num_class - 1].\n",
      "  warnings.warn(label_encoder_deprecation_msg, UserWarning)\n",
      "/Users/ggraham/miniconda3/lib/python3.8/site-packages/sklearn/utils/validation.py:63: DataConversionWarning: A column-vector y was passed when a 1d array was expected. Please change the shape of y to (n_samples, ), for example using ravel().\n",
      "  return f(*args, **kwargs)\n"
     ]
    },
    {
     "data": {
      "text/plain": [
       "RandomizedSearchCV(cv=[(array([495844, 303147, 181224, ..., 505178, 555009,  54054]),\n",
       "                        array([443899,  38632,  94210, ...,   3572,  94390, 282697])),\n",
       "                       (array([286236,  87627,  15516, ..., 329050, 404564, 163884]),\n",
       "                        array([289498, 252073, 577306, ...,  59136, 515473,  34690])),\n",
       "                       (array([283548, 480815, 299186, ..., 597082, 145449, 383697]),\n",
       "                        array([480029, 619993, 469435, ..., 487961, 501114,  15531]))],\n",
       "                   e...\n",
       "                                           random_state=None, reg_alpha=None,\n",
       "                                           reg_lambda=None,\n",
       "                                           scale_pos_weight=None,\n",
       "                                           subsample=None, tree_method=None,\n",
       "                                           validate_parameters=None,\n",
       "                                           verbosity=None),\n",
       "                   param_distributions={'gamma': [0.0, 0.1, 0.2, 0.3, 0.4, 0.5],\n",
       "                                        'learning_rate': [0.1, 0.4, 0.8],\n",
       "                                        'max_depth': range(7, 16, 2),\n",
       "                                        'min_child_weight': range(5, 13, 2),\n",
       "                                        'n_estimators': [20, 44, 96, 209, 457,\n",
       "                                                         1000]},\n",
       "                   scoring='f1_macro', verbose=2)"
      ]
     },
     "execution_count": 26,
     "metadata": {},
     "output_type": "execute_result"
    }
   ],
   "source": [
    "# Define caching directories.\n",
    "master_dir = \"20210506_XGB_MC_random_search/\"\n",
    "plot_dir = \"plots/\" + master_dir\n",
    "data_save_dir = \"data/\" + master_dir\n",
    "check_mkdirs(plot_dir, data_save_dir)\n",
    "\n",
    "classer_init_kwargs = {\n",
    "    \"n_jobs\":-1,\n",
    "    \"objective\":\"multi:softmax\",\n",
    "}\n",
    "\n",
    "fitting_kwargs = {\n",
    "#     \"early_stopping_rounds\":50,\n",
    "    \"eval_metric\":\"merror\",\n",
    "    \"verbose\":False,\n",
    "}\n",
    "\n",
    "param_test_00 = {\n",
    "    \"n_estimators\": [int(np.round(n, 0)) for n in np.geomspace(20, 1000, num=6)], \n",
    "    \"learning_rate\":[0.1, 0.4, 0.8],\n",
    "    'max_depth':range(7, 16,2),\n",
    "    'min_child_weight':range(5, 13, 2),\n",
    "    'gamma':[i/10.0 for i in range(0, 6)]\n",
    "}\n",
    "\n",
    "features = combined_scaledfeats_targs_NONAN_df.iloc[:,0:15]\n",
    "\n",
    "targets = combined_scaledfeats_targs_NONAN_df[\"TAGS\"].to_frame()\n",
    "\n",
    "cv = StratifiedShuffleSplit(n_splits=3, random_state=7)\n",
    "\n",
    "splits = [split_indices for split_indices in cv.split(features.values, targets.values)]\n",
    "\n",
    "print(time.ctime())\n",
    "\n",
    "classer = xgb.XGBClassifier(**classer_init_kwargs)\n",
    "gridsearch_00 = sklearn.model_selection.RandomizedSearchCV(\n",
    "    estimator=classer,\n",
    "    n_iter=10,\n",
    "    param_distributions=param_test_00,\n",
    "    scoring=\"f1_macro\",\n",
    "    cv=splits,\n",
    "    verbose=2,\n",
    ")\n",
    "\n",
    "gridsearch_00.fit(features, targets, **fitting_kwargs)"
   ]
  },
  {
   "cell_type": "code",
   "execution_count": 27,
   "metadata": {},
   "outputs": [
    {
     "data": {
      "text/plain": [
       "['data/20210506_XGB_MC_random_search/gridsearch_00.pickle']"
      ]
     },
     "execution_count": 27,
     "metadata": {},
     "output_type": "execute_result"
    }
   ],
   "source": [
    "joblib.dump(gridsearch_00, \"data/\" + master_dir + \"gridsearch_00.pickle\")\n",
    "\n",
    "# print(time.ctime())"
   ]
  },
  {
   "cell_type": "code",
   "execution_count": 28,
   "metadata": {},
   "outputs": [
    {
     "data": {
      "text/plain": [
       "{'n_estimators': 1000,\n",
       " 'min_child_weight': 7,\n",
       " 'max_depth': 9,\n",
       " 'learning_rate': 0.4,\n",
       " 'gamma': 0.4}"
      ]
     },
     "execution_count": 28,
     "metadata": {},
     "output_type": "execute_result"
    }
   ],
   "source": [
    "gridsearch_00.best_params_"
   ]
  },
  {
   "cell_type": "code",
   "execution_count": 29,
   "metadata": {},
   "outputs": [
    {
     "data": {
      "text/plain": [
       "0.9848578050474863"
      ]
     },
     "execution_count": 29,
     "metadata": {},
     "output_type": "execute_result"
    }
   ],
   "source": [
    "gridsearch_00.best_score_"
   ]
  },
  {
   "cell_type": "markdown",
   "metadata": {},
   "source": [
    "# Generate confusion matrices using best estimator"
   ]
  },
  {
   "cell_type": "code",
   "execution_count": 30,
   "metadata": {},
   "outputs": [
    {
     "name": "stdout",
     "output_type": "stream",
     "text": [
      "##################################################\n",
      "         ###### Processing 1 of 10 ######\n",
      "            Tue Jun  1 19:17:16 2021\n",
      "##################################################\n"
     ]
    },
    {
     "name": "stderr",
     "output_type": "stream",
     "text": [
      "/Users/ggraham/miniconda3/lib/python3.8/site-packages/xgboost/sklearn.py:1146: UserWarning: The use of label encoder in XGBClassifier is deprecated and will be removed in a future release. To remove this warning, do the following: 1) Pass option use_label_encoder=False when constructing XGBClassifier object; and 2) Encode your labels (y) as integers starting with 0, i.e. 0, 1, 2, ..., [num_class - 1].\n",
      "  warnings.warn(label_encoder_deprecation_msg, UserWarning)\n"
     ]
    },
    {
     "name": "stdout",
     "output_type": "stream",
     "text": [
      "[19:17:18] WARNING: ../src/learner.cc:1095: Starting in XGBoost 1.3.0, the default evaluation metric used with the objective 'multi:softprob' was changed from 'merror' to 'mlogloss'. Explicitly set eval_metric if you'd like to restore the old behavior.\n"
     ]
    },
    {
     "ename": "NameError",
     "evalue": "name 'models' is not defined",
     "output_type": "error",
     "traceback": [
      "\u001b[0;31m---------------------------------------------------------------------------\u001b[0m",
      "\u001b[0;31mNameError\u001b[0m                                 Traceback (most recent call last)",
      "\u001b[0;32m<ipython-input-30-0b500a51e668>\u001b[0m in \u001b[0;36m<module>\u001b[0;34m\u001b[0m\n\u001b[1;32m      4\u001b[0m \u001b[0;34m\u001b[0m\u001b[0m\n\u001b[1;32m      5\u001b[0m \u001b[0;31m# Calculate the training and testing confusion matrices with the classifier and\u001b[0m\u001b[0;34m\u001b[0m\u001b[0;34m\u001b[0m\u001b[0;34m\u001b[0m\u001b[0m\n\u001b[0;32m----> 6\u001b[0;31m train_df, test_df = confusion_score_model(\n\u001b[0m\u001b[1;32m      7\u001b[0m     \u001b[0mgridsearch_00\u001b[0m\u001b[0;34m.\u001b[0m\u001b[0mbest_estimator_\u001b[0m\u001b[0;34m,\u001b[0m\u001b[0;34m\u001b[0m\u001b[0;34m\u001b[0m\u001b[0m\n\u001b[1;32m      8\u001b[0m     \u001b[0mfeatures\u001b[0m\u001b[0;34m,\u001b[0m\u001b[0;34m\u001b[0m\u001b[0;34m\u001b[0m\u001b[0m\n",
      "\u001b[0;32m<ipython-input-10-f78afc40dc1d>\u001b[0m in \u001b[0;36mconfusion_score_model\u001b[0;34m(classer, feature_frame, target_frame, cv_splits, **fitting_kwargs)\u001b[0m\n\u001b[1;32m     59\u001b[0m         \u001b[0;31m# Predict for training data and update confusion matrix\u001b[0m\u001b[0;34m\u001b[0m\u001b[0;34m\u001b[0m\u001b[0;34m\u001b[0m\u001b[0m\n\u001b[1;32m     60\u001b[0m         \u001b[0mtrain_p\u001b[0m \u001b[0;34m=\u001b[0m \u001b[0mclasser\u001b[0m\u001b[0;34m.\u001b[0m\u001b[0mpredict\u001b[0m\u001b[0;34m(\u001b[0m\u001b[0mtrain_X\u001b[0m\u001b[0;34m)\u001b[0m\u001b[0;34m\u001b[0m\u001b[0;34m\u001b[0m\u001b[0m\n\u001b[0;32m---> 61\u001b[0;31m         \u001b[0mtemp\u001b[0m \u001b[0;34m=\u001b[0m \u001b[0mmodels\u001b[0m\u001b[0;34m.\u001b[0m\u001b[0mconfusion_matrix\u001b[0m\u001b[0;34m(\u001b[0m\u001b[0mtrain_y\u001b[0m\u001b[0;34m,\u001b[0m \u001b[0mtrain_p\u001b[0m\u001b[0;34m,\u001b[0m \u001b[0mlabels\u001b[0m\u001b[0;34m=\u001b[0m\u001b[0munique_labels\u001b[0m\u001b[0;34m)\u001b[0m\u001b[0;34m\u001b[0m\u001b[0;34m\u001b[0m\u001b[0m\n\u001b[0m\u001b[1;32m     62\u001b[0m         \u001b[0mtrain_mat\u001b[0m \u001b[0;34m+=\u001b[0m \u001b[0mtemp\u001b[0m \u001b[0;34m/\u001b[0m \u001b[0mtemp\u001b[0m\u001b[0;34m.\u001b[0m\u001b[0msum\u001b[0m\u001b[0;34m(\u001b[0m\u001b[0;34m)\u001b[0m\u001b[0;34m.\u001b[0m\u001b[0msum\u001b[0m\u001b[0;34m(\u001b[0m\u001b[0;34m)\u001b[0m \u001b[0;34m/\u001b[0m \u001b[0mlen\u001b[0m\u001b[0;34m(\u001b[0m\u001b[0mcv_splits\u001b[0m\u001b[0;34m)\u001b[0m\u001b[0;34m\u001b[0m\u001b[0;34m\u001b[0m\u001b[0m\n\u001b[1;32m     63\u001b[0m         \u001b[0;31m# Predict for testing data and update confusion matrix\u001b[0m\u001b[0;34m\u001b[0m\u001b[0;34m\u001b[0m\u001b[0;34m\u001b[0m\u001b[0m\n",
      "\u001b[0;31mNameError\u001b[0m: name 'models' is not defined"
     ]
    }
   ],
   "source": [
    "cv = StratifiedShuffleSplit(n_splits=10, random_state=7)\n",
    "\n",
    "splits = [split_indices for split_indices in cv.split(features.values, targets.values)]\n",
    "\n",
    "# Calculate the training and testing confusion matrices with the classifier and \n",
    "train_df, test_df = confusion_score_model(\n",
    "    gridsearch_00.best_estimator_,\n",
    "    features,\n",
    "    targets,\n",
    "    cv_splits=splits, \n",
    ")\n",
    "\n",
    "train_df = fix_conf_mat_labels(train_df)\n",
    "test_df = fix_conf_mat_labels(test_df)"
   ]
  },
  {
   "cell_type": "code",
   "execution_count": null,
   "metadata": {},
   "outputs": [],
   "source": [
    "# Cache the confusion matrices.\n",
    "joblib.dump(\n",
    "    train_df,\n",
    "    data_save_dir+\"train_df_\"+modding_dirs[:-1]+\".pickle\", \n",
    ")\n",
    "joblib.dump(\n",
    "    test_df,\n",
    "    data_save_dir+\"test_df_\"+modding_dirs[:-1]+\".pickle\", \n",
    ")\n",
    "\n",
    "# save_kwargs(classer_init_kwargs, \"classer_init_kwargs\", data_save_dir)\n",
    "# save_kwargs(fitting_kwargs, \"fitting_kwargs\", data_save_dir)"
   ]
  },
  {
   "cell_type": "code",
   "execution_count": null,
   "metadata": {},
   "outputs": [],
   "source": [
    "# Plot the confusion matrices.\n",
    "fig, ax = plot_confusion_matrix(\n",
    "    train_df.divide(train_df[\"sum\"], axis=0),\n",
    "    title=\"Train CM\",\n",
    ")\n",
    "fig.savefig(plot_dir+\"train_df_\"+modding_dirs[:-1]+\".pdf\")\n",
    "\n",
    "fig, ax = plot_confusion_matrix(\n",
    "    test_df.divide(test_df[\"sum\"], axis=0),\n",
    "    title=\"Test CM\",\n",
    ")\n",
    "fig.savefig(plot_dir+\"test_df_\"+modding_dirs[:-1]+\".pdf\")"
   ]
  },
  {
   "cell_type": "code",
   "execution_count": 139,
   "metadata": {},
   "outputs": [],
   "source": [
    "col_idx_names = [\"\", \"spike\", \"noise\", \"sum\"]\n",
    "\n",
    "RF_cf = np.array(\n",
    "    [[9.76582046e-01, 1.86324424e-04, 3.98129112e-05, 0], \n",
    "     [4.92087582e-04, 1.74587578e-02, 0.00000000e+00, 0], \n",
    "     [3.39206003e-04, 1.59251645e-06, 4.90017311e-03, 0], \n",
    "    ]\n",
    ")\n",
    "\n",
    "RF_cf_df = pd.DataFrame(\n",
    "    data=RF_cf, \n",
    "    columns=col_idx_names, \n",
    "    index=[\"\", \"spike\", \"noise\",]\n",
    ")\n",
    "\n",
    "RF_cf_df.loc[:, \"sum\"] = RF_cf_df.sum(axis=0)\n",
    "# RF_cf_df.loc[\"sum\", :] = RF_cf.sum(axis=1)"
   ]
  },
  {
   "cell_type": "code",
   "execution_count": 141,
   "metadata": {},
   "outputs": [
    {
     "data": {
      "image/png": "[encoded data removed]",
      "text/plain": [
       "<Figure size 1008x720 with 2 Axes>"
      ]
     },
     "metadata": {
      "needs_background": "light"
     },
     "output_type": "display_data"
    }
   ],
   "source": [
    "# Plot the confusion matrices.\n",
    "fig, ax = plot_confusion_matrix(\n",
    "    RF_cf_df.divide(RF_cf_df[\"sum\"], axis=0),\n",
    "    title=\"RF test CM\",\n",
    ")\n",
    "fig.savefig(plot_dir+\"RF_test_df_\"+modding_dirs[:-1]+\".pdf\")"
   ]
  }
 ],
 "metadata": {
  "kernelspec": {
   "display_name": "Python 3",
   "language": "python",
   "name": "python3"
  },
  "language_info": {
   "codemirror_mode": {
    "name": "ipython",
    "version": 3
   },
   "file_extension": ".py",
   "mimetype": "text/x-python",
   "name": "python",
   "nbconvert_exporter": "python",
   "pygments_lexer": "ipython3",
   "version": "3.8.10"
  }
 },
 "nbformat": 4,
 "nbformat_minor": 4
}
