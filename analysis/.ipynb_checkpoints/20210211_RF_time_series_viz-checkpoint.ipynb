{
 "cells": [
  {
   "cell_type": "code",
   "execution_count": 1,
   "metadata": {},
   "outputs": [],
   "source": [
    "import copy\n",
    "import matplotlib.pyplot as plt\n",
    "import numpy as np\n",
    "import os\n",
    "import pandas as pd\n",
    "import seaborn\n",
    "\n",
    "\n",
    "from datetime import datetime\n",
    "\n",
    "from sklearn.ensemble import RandomForestClassifier\n",
    "from sklearn.metrics import confusion_matrix\n",
    "from sklearn.model_selection import cross_val_score, StratifiedKFold, GridSearchCV\n",
    "from sklearn.preprocessing import StandardScaler"
   ]
  },
  {
   "cell_type": "code",
   "execution_count": 2,
   "metadata": {},
   "outputs": [],
   "source": [
    "# Load the filenames list. It's an ASCII file with either \"targets_<station_id>.csv\"\n",
    "# or \"data_<station_id>.csv\"; ie, \"data_54794.csv\" and \"targets_54794.csv\" are both\n",
    "# the ML training features and labels for USCRN Station #54794.\n",
    "data_dir = \"../data/stations/\"\n",
    "station_filenames_list = [\n",
    "    filename for filename in os.listdir(path=data_dir)\n",
    "    if filename!=\".DS_Store\"\n",
    "]\n",
    "\n",
    "# Read in the ASCII file that's just a list of strings of ACCLIMA station ID #'s.\n",
    "file_path = \"../data/acclima_stations_id_list.txt\"\n",
    "acclima_stations_list = pd.read_csv(file_path, header=None).iloc[:,0].values.tolist()\n",
    "\n",
    "# Load features and targets into features and targets dictionaries, indexed\n",
    "# by station ID number.\n",
    "template_dict = {\n",
    "    test_station_id : None\n",
    "    for test_station_id in acclima_stations_list\n",
    "}\n",
    "features_dict,targets_dict = copy.deepcopy(template_dict), copy.deepcopy(template_dict)\n",
    "del(template_dict)\n",
    "\n",
    "# Loop through all the station data/target filenames and, if they're an ACCLIMA\n",
    "# station, then load up the file into either the features dictionary or the\n",
    "# targets dictionary.\n",
    "for fname in station_filenames_list:\n",
    "\n",
    "    station_id = fname.split(\"_\")[1].split(\".\")[0]\n",
    "    \n",
    "    if station_id not in acclima_stations_list:\n",
    "        continue\n",
    "    \n",
    "    elif \"data\" in fname:\n",
    "        temp_feats_df = pd.read_csv(\n",
    "            data_dir+fname,\n",
    "            index_col=\"date\"\n",
    "        )\n",
    "        temp_feats_df.index = pd.to_datetime(temp_feats_df.index, format=\"%Y-%m-%d %H:%M:%S\")\n",
    "        features_dict[station_id] = temp_feats_df\n",
    "\n",
    "    elif \"targets\" in fname:\n",
    "        temp_targs_df = pd.read_csv(\n",
    "            data_dir+fname,\n",
    "            index_col=\"date\"\n",
    "        )\n",
    "        temp_targs_df.index = pd.to_datetime(temp_targs_df.index, format=\"%Y-%m-%d %H:%M:%S\")\n",
    "        targets_dict[station_id] = temp_targs_df\n",
    "\n",
    "# Filter out the bad dates from the Port Aransas USCRN station data.\n",
    "\n",
    "# Got the following station ID info from this URL:\n",
    "# https://mesonet.agron.iastate.edu/sites/site.php?station=23906&network=USCRN\n",
    "port_aransas_stat_id = \"23906\"\n",
    "feats_df_port_aransas = features_dict[port_aransas_stat_id]\n",
    "targs_df_port_aransas = targets_dict[port_aransas_stat_id]\n",
    "\n",
    "\n",
    "# Got the following date-exclusion idea from here:\n",
    "# https://stackoverflow.com/questions/55680603/pandas-filter-on-datetimeindex-by-excluding-date-range\n",
    "exclusion_dates = pd.date_range(start=\"2019-08-01\", end=\"2019-09-01\")\n",
    "\n",
    "features_dict[port_aransas_stat_id] = feats_df_port_aransas.loc[~feats_df_port_aransas.index.isin(exclusion_dates)]\n",
    "\n",
    "targets_dict[port_aransas_stat_id] = targs_df_port_aransas.loc[~targs_df_port_aransas.index.isin(exclusion_dates)]"
   ]
  },
  {
   "cell_type": "markdown",
   "metadata": {},
   "source": [
    "# Concatenate anomaly data for ML"
   ]
  },
  {
   "cell_type": "code",
   "execution_count": 3,
   "metadata": {},
   "outputs": [],
   "source": [
    "# Make a blank dictionary in which to store the scaled features. Only include\n",
    "# the stations that have all sensor depths for all three soil moisture sensors\n",
    "# (ie, holes) present. If the station is missing depths/holes (ie, if the\n",
    "# station does NOT have all 3x5=15 sensors present), then skip that station.\n",
    "# There are only 7 such ACCLIMA stations.\n",
    "scaled_feats_dict = {\n",
    "    stat_id : None\n",
    "    for stat_id in acclima_stations_list\n",
    "    if features_dict[stat_id].shape[1]==15\n",
    "}\n",
    "\n",
    "for stat_id in acclima_stations_list:\n",
    "    \n",
    "    df_to_scale = copy.deepcopy(features_dict[stat_id]).drop(columns=[\"p_official\", \"t_official\"])\n",
    "    \n",
    "    if df_to_scale.shape[1]==15:\n",
    "        df_to_scale[(df_to_scale == -99999)] = pd.NA\n",
    "        df_to_scale = df_to_scale.interpolate(method=\"time\", axis=0)\n",
    "        df_to_scale = df_to_scale.fillna(method=\"bfill\", axis=0)\n",
    "        scaler = StandardScaler(with_mean=True)\n",
    "        feats_scaled_array = scaler.fit_transform(df_to_scale)\n",
    "        feats_scaled_df = pd.DataFrame(data=feats_scaled_array, index=df_to_scale.index, columns=df_to_scale.columns)\n",
    "#         if np.isnan(feats_scaled_array).sum() == 0:\n",
    "        scaled_feats_dict[stat_id] = copy.deepcopy(feats_scaled_df)\n",
    "    else:\n",
    "        continue\n",
    "\n",
    "# Load up the list of the stations that made it through the scaling process.\n",
    "final_station_ids_list = [stat_id for stat_id in scaled_feats_dict.keys()]        \n",
    "\n",
    "features_dfs_list = [scaled_feats_dict[station_id] for station_id in final_station_ids_list]\n",
    "targets_dfs_list = [targets_dict[station_id] for station_id in final_station_ids_list]\n",
    "\n",
    "scaled_feats_df = pd.concat(features_dfs_list, axis=0)\n",
    "targs_df = pd.concat(targets_dfs_list, axis=0)\n",
    "\n",
    "combined_scaledfeats_targs_df = pd.concat([scaled_feats_df,targs_df], axis=1)\n",
    "\n",
    "# This takes a COUPLE MINUTES TO RUN. So, only re-run if necessary!!\n",
    "# # combined_scaledfeats_targs_df.to_csv(\"../data/combined_scaledfeats_targs_df.csv\")\n",
    "\n",
    "combined_scaledfeats_targs_NONAN_df = combined_scaledfeats_targs_df.dropna(how=\"any\", axis=0)\n",
    "\n",
    "# Re-isolate the targets and then combine them into a 1-D pd.series. \n",
    "# Whenever a row has at least one anomaly, then we will collapse that row's \n",
    "# values to a single value of 1. Rows with no anomalies shall be labeled as 0.\n",
    "ml_targs_df = combined_scaledfeats_targs_NONAN_df.iloc[:, -15:]\n",
    "ml_1D_targs_series = ml_targs_df.sum(axis=1)\n",
    "ml_1D_targs_series[ml_1D_targs_series > 1] = 1\n",
    "ml_1D_targs_series = ml_1D_targs_series.astype(\"int\")\n",
    "\n",
    "# Re-isolate the ML-ready features.\n",
    "ml_feats_df = combined_scaledfeats_targs_NONAN_df.iloc[:, :15]"
   ]
  },
  {
   "cell_type": "code",
   "execution_count": 4,
   "metadata": {},
   "outputs": [
    {
     "name": "stdout",
     "output_type": "stream",
     "text": [
      "11.62% of the data are anomalies.\n"
     ]
    }
   ],
   "source": [
    "# Calculate the percentage of the ML-ready data that are anomalies\n",
    "percentage_anomalies =\\\n",
    "    np.round(100*ml_1D_targs_series.sum()/ml_1D_targs_series.shape[0], 2)\n",
    "print(f\"{percentage_anomalies}% of the data are anomalies.\")"
   ]
  },
  {
   "cell_type": "markdown",
   "metadata": {},
   "source": [
    "# Attempt some ML! Yewwwwww!"
   ]
  },
  {
   "cell_type": "code",
   "execution_count": 98,
   "metadata": {},
   "outputs": [
    {
     "name": "stdout",
     "output_type": "stream",
     "text": [
      "0\n",
      "1\n",
      "2\n",
      "3\n",
      "4\n"
     ]
    }
   ],
   "source": [
    "X = ml_feats_df.values\n",
    "y = ml_1D_targs_series.values\n",
    "\n",
    "# Initialize a random forest (RF) classifier object with the best hyperparameter \n",
    "# sets from the grid search.\n",
    "rf_classifier = RandomForestClassifier(n_jobs=-1)\n",
    "\n",
    "# Initialize a stratified 5-fold cross-validation object.  Make certain that it\n",
    "# randomly shuffles the data. AND, since it's randomly shuffling the data, make\n",
    "# certain that its random state is set to 7 (an arbitrary choice: it simply\n",
    "# needs to have a constant random state seed).\n",
    "stratified_kfold_generator = StratifiedKFold(\n",
    "    n_splits=5,\n",
    "    shuffle=True,\n",
    "    random_state=7\n",
    ")\n",
    "\n",
    "# Iterate through each of the splits and train/test both classifiers. We will \n",
    "# store the predictions in the following lists, \"classfication predictions_rf\" \n",
    "# and \"classfication predictions_xgb\".\n",
    "classification_predictions_rf = list()\n",
    "for idx, (train, test) in enumerate(stratified_kfold_generator.split(X, y)):\n",
    "    \n",
    "    print(idx)\n",
    "    \n",
    "    # Fit the classifiers to the training data. This erases the training from any\n",
    "    # previous iteration of the loop.\n",
    "    rf_classifier.fit(X[train], y[train].ravel())\n",
    "\n",
    "    # Have the newly trained classifiers predict the classes of the withheld testing data.\n",
    "    y_predicted_rf = rf_classifier.predict(X[test])\n",
    "\n",
    "    # Add the true class labels and the predicted class labels to the storage lists.\n",
    "    classification_predictions_rf.append((y[test].ravel(), y_predicted_rf.ravel()))"
   ]
  },
  {
   "cell_type": "code",
   "execution_count": 97,
   "metadata": {},
   "outputs": [
    {
     "name": "stderr",
     "output_type": "stream",
     "text": [
      "/Users/garrettgraham/anaconda3/lib/python3.7/site-packages/ipykernel_launcher.py:33: UserWarning: Matplotlib is currently using module://ipykernel.pylab.backend_inline, which is a non-GUI backend, so cannot show the figure.\n"
     ]
    },
    {
     "data": {
      "image/png": "[encoded data removed]",
      "text/plain": [
       "<Figure size 504x360 with 2 Axes>"
      ]
     },
     "metadata": {
      "needs_background": "light"
     },
     "output_type": "display_data"
    }
   ],
   "source": [
    "def calculate_normalized_conf_matrix(classification_predictions):\n",
    "    cf = np.zeros((2,2))\n",
    "    for y_true, y_pred in classification_predictions:\n",
    "        cf += confusion_matrix(y_true, y_pred)\n",
    "    return cf/cf.sum()\n",
    "\n",
    "class_labels_list = [\"Normal\", \"Anomalous\"]\n",
    "\n",
    "# Loop through the cached predictions and calculate the confusion matrices for\n",
    "# both classifiers.\n",
    "cf_rf = calculate_normalized_conf_matrix(classification_predictions_rf)\n",
    "\n",
    "# Initialize figure and axes objects in order to plot the two confusion matrices.\n",
    "fig, ax = plt.subplots(1, 1, figsize=(7, 5))\n",
    "\n",
    "# Plot the random forest confusion matrix.\n",
    "seaborn.heatmap(\n",
    "    cf_rf, cmap=\"Reds\", annot=cf_rf, square=True, cbar=True,\n",
    "    xticklabels=class_labels_list, yticklabels=class_labels_list,\n",
    "    ax=ax\n",
    ")\n",
    "\n",
    "# Add labels to the x-axis and the y-axis.\n",
    "ax.set_xlabel(\"Predicted\", fontsize=16)\n",
    "ax.set_ylabel(\"True\", fontsize=16)\n",
    "\n",
    "# Add a title to the figure.\n",
    "fig.suptitle(\"Confusion matrix for lightly optimized RF classifer\\nof ACCLIMA sensor stations\")\n",
    "\n",
    "plt.savefig(\"randomforest_confusion_matrix.png\", dpi=300)\n",
    "\n",
    "# Display the figure.\n",
    "fig.show()"
   ]
  },
  {
   "cell_type": "code",
   "execution_count": 82,
   "metadata": {},
   "outputs": [
    {
     "name": "stderr",
     "output_type": "stream",
     "text": [
      "/Users/garrettgraham/anaconda3/lib/python3.7/site-packages/ipykernel_launcher.py:33: UserWarning: Matplotlib is currently using module://ipykernel.pylab.backend_inline, which is a non-GUI backend, so cannot show the figure.\n"
     ]
    },
    {
     "data": {
      "image/png": "[encoded data removed]",
      "text/plain": [
       "<Figure size 504x360 with 2 Axes>"
      ]
     },
     "metadata": {
      "needs_background": "light"
     },
     "output_type": "display_data"
    }
   ],
   "source": [
    "def calculate_normalized_conf_matrix(classification_predictions):\n",
    "    cf = np.zeros((2,2))\n",
    "    for y_true, y_pred in classification_predictions:\n",
    "        cf += confusion_matrix(y_true, y_pred)\n",
    "    return cf/cf.sum()\n",
    "\n",
    "class_labels_list = [\"Normal\", \"Anomalous\"]\n",
    "\n",
    "# Loop through the cached predictions and calculate the confusion matrices for\n",
    "# both classifiers.\n",
    "cf_rf = calculate_normalized_conf_matrix(classification_predictions_rf)\n",
    "\n",
    "# Initialize figure and axes objects in order to plot the two confusion matrices.\n",
    "fig, ax = plt.subplots(1, 1, figsize=(7, 5))\n",
    "\n",
    "# Plot the random forest confusion matrix.\n",
    "seaborn.heatmap(\n",
    "    cf_rf, cmap=\"Reds\", annot=cf_rf, square=True, cbar=True,\n",
    "    xticklabels=class_labels_list, yticklabels=class_labels_list,\n",
    "    ax=ax\n",
    ")\n",
    "\n",
    "# Add labels to the x-axis and the y-axis.\n",
    "ax.set_xlabel(\"Predicted\", fontsize=16)\n",
    "ax.set_ylabel(\"True\", fontsize=16)\n",
    "\n",
    "# Add a title to the figure.\n",
    "fig.suptitle(\"Confusion matrix for lightly optimized RF classifer\\nof ACCLIMA sensor stations\")\n",
    "\n",
    "plt.savefig(\"randomforest_confusion_matrix.png\", dpi=300)\n",
    "\n",
    "# Display the figure.\n",
    "fig.show()"
   ]
  },
  {
   "cell_type": "code",
   "execution_count": 74,
   "metadata": {},
   "outputs": [
    {
     "name": "stderr",
     "output_type": "stream",
     "text": [
      "/Users/garrettgraham/anaconda3/lib/python3.7/site-packages/ipykernel_launcher.py:33: UserWarning: Matplotlib is currently using module://ipykernel.pylab.backend_inline, which is a non-GUI backend, so cannot show the figure.\n"
     ]
    },
    {
     "data": {
      "image/png": "[encoded data removed]",
      "text/plain": [
       "<Figure size 504x360 with 2 Axes>"
      ]
     },
     "metadata": {
      "needs_background": "light"
     },
     "output_type": "display_data"
    }
   ],
   "source": [
    "def calculate_normalized_conf_matrix(classification_predictions):\n",
    "    cf = np.zeros((2,2))\n",
    "    for y_true, y_pred in classification_predictions:\n",
    "        cf += confusion_matrix(y_true, y_pred)\n",
    "    return cf/cf.sum()\n",
    "\n",
    "class_labels_list = [\"Normal\", \"Anomalous\"]\n",
    "\n",
    "# Loop through the cached predictions and calculate the confusion matrices for\n",
    "# both classifiers.\n",
    "cf_rf = calculate_normalized_conf_matrix(classification_predictions_rf)\n",
    "\n",
    "# Initialize figure and axes objects in order to plot the two confusion matrices.\n",
    "fig, ax = plt.subplots(1, 1, figsize=(7, 5))\n",
    "\n",
    "# Plot the random forest confusion matrix.\n",
    "seaborn.heatmap(\n",
    "    cf_rf, cmap=\"Reds\", annot=cf_rf, square=True, cbar=True,\n",
    "    xticklabels=class_labels_list, yticklabels=class_labels_list,\n",
    "    ax=ax\n",
    ")\n",
    "\n",
    "# Add labels to the x-axis and the y-axis.\n",
    "ax.set_xlabel(\"Predicted\", fontsize=16)\n",
    "ax.set_ylabel(\"True\", fontsize=16)\n",
    "\n",
    "# Add a title to the figure.\n",
    "fig.suptitle(\"Confusion matrix for lightly optimized RF classifer\\nof ACCLIMA sensor stations\")\n",
    "\n",
    "plt.savefig(\"randomforest_confusion_matrix.png\", dpi=300)\n",
    "\n",
    "# Display the figure.\n",
    "fig.show()"
   ]
  },
  {
   "cell_type": "code",
   "execution_count": 75,
   "metadata": {},
   "outputs": [
    {
     "data": {
      "text/plain": [
       "array([[0.80952394, 0.07426535],\n",
       "       [0.10816656, 0.00804415]])"
      ]
     },
     "execution_count": 75,
     "metadata": {},
     "output_type": "execute_result"
    }
   ],
   "source": [
    "cf_rf\n",
    "\n",
    "# # Previous cf_rf w/out Port Aransas filtered.\n",
    "# array([[0.88232525, 0.00146891],\n",
    "#        [0.00401041, 0.11219543]])"
   ]
  },
  {
   "cell_type": "code",
   "execution_count": 76,
   "metadata": {},
   "outputs": [
    {
     "name": "stdout",
     "output_type": "stream",
     "text": [
      "Accuracy:\n",
      "81.76%\n"
     ]
    }
   ],
   "source": [
    "print(\"Accuracy:\")\n",
    "print(str(np.round(100*(cf_rf[0,0]+cf_rf[1,1]), 2))+\"%\")\n",
    "\n",
    "# # Previous accuracy w/out Port Aransas filtered.\n",
    "# Accuracy:\n",
    "# 99.45%"
   ]
  },
  {
   "cell_type": "code",
   "execution_count": 77,
   "metadata": {},
   "outputs": [
    {
     "data": {
      "text/plain": [
       "-12.446611737010258"
      ]
     },
     "execution_count": 77,
     "metadata": {},
     "output_type": "execute_result"
    }
   ],
   "source": [
    "1-(cf_rf[1,0]/cf_rf[1,1])\n",
    "\n",
    "# # Previous percentage of correctly detected anomalies w/out Port Aransas filtered.\n",
    "# 0.9642551447274832"
   ]
  },
  {
   "cell_type": "markdown",
   "metadata": {},
   "source": [
    "# VERIFY THAT THIS IS PRODUCING SANE RESULTS"
   ]
  },
  {
   "cell_type": "code",
   "execution_count": 102,
   "metadata": {},
   "outputs": [],
   "source": [
    "y_true, y_pred = classification_predictions_rf[0]"
   ]
  },
  {
   "cell_type": "code",
   "execution_count": 103,
   "metadata": {},
   "outputs": [],
   "source": [
    "# for y_true, y_pred in classification_predictions_rf:\n",
    "#     print(y_true.sum(), y_pred.sum())"
   ]
  },
  {
   "cell_type": "code",
   "execution_count": 104,
   "metadata": {},
   "outputs": [
    {
     "name": "stderr",
     "output_type": "stream",
     "text": [
      "/Users/garrettgraham/anaconda3/lib/python3.7/site-packages/ipykernel_launcher.py:5: UserWarning: Matplotlib is currently using module://ipykernel.pylab.backend_inline, which is a non-GUI backend, so cannot show the figure.\n",
      "  \"\"\"\n"
     ]
    },
    {
     "data": {
      "image/png": "[encoded data removed]",
      "text/plain": [
       "<Figure size 432x288 with 2 Axes>"
      ]
     },
     "metadata": {
      "needs_background": "light"
     },
     "output_type": "display_data"
    }
   ],
   "source": [
    "fig, ax = plt.subplots(2, 1)\n",
    "ax[0].plot(y_true, label=\"True\", alpha=0.5 )\n",
    "ax[1].plot(y_pred, label=\"Predicted\", alpha=0.5 )\n",
    "fig.legend()\n",
    "fig.show()"
   ]
  },
  {
   "cell_type": "code",
   "execution_count": 105,
   "metadata": {},
   "outputs": [],
   "source": [
    "# for y_true, y_pred in classification_predictions_rf:\n",
    "#     fig, ax = plt.subplots(2, 1)\n",
    "#     ax[0].plot(y_true, label=\"True\", alpha=0.5 )\n",
    "#     ax[1].plot(y_pred, label=\"Predicted\", alpha=0.5 )\n",
    "#     fig.legend()\n",
    "#     fig.show()"
   ]
  },
  {
   "cell_type": "code",
   "execution_count": 106,
   "metadata": {},
   "outputs": [],
   "source": [
    "# num_ticks = 8\n",
    "# replacement_x_ticks = [i*int(idxs_y_predict.max()/(num_ticks-1)) for i in range(num_ticks)]\n",
    "# replacement_x_tick_labels = [label/24/365 for label in replacement_x_ticks]"
   ]
  },
  {
   "cell_type": "code",
   "execution_count": 148,
   "metadata": {},
   "outputs": [
    {
     "data": {
      "text/plain": [
       "['−20000']"
      ]
     },
     "execution_count": 148,
     "metadata": {},
     "output_type": "execute_result"
    }
   ],
   "source": [
    "x_tick_labels = [item.get_text() for item in ax[1].get_xticklabels() if item.get_text()[0]!=\"-\"]\n",
    "x_tick_labels[0].split(\"-\")"
   ]
  },
  {
   "cell_type": "code",
   "execution_count": 161,
   "metadata": {},
   "outputs": [
    {
     "name": "stderr",
     "output_type": "stream",
     "text": [
      "/Users/garrettgraham/anaconda3/lib/python3.7/site-packages/ipykernel_launcher.py:39: UserWarning: Matplotlib is currently using module://ipykernel.pylab.backend_inline, which is a non-GUI backend, so cannot show the figure.\n"
     ]
    },
    {
     "data": {
      "image/png": "[encoded data removed]",
      "text/plain": [
       "<Figure size 504x504 with 2 Axes>"
      ]
     },
     "metadata": {
      "needs_background": "light"
     },
     "output_type": "display_data"
    }
   ],
   "source": [
    "idxs_y_true = np.where(y_true==1)[0]\n",
    "idxs_y_predict = np.where(y_pred==1)[0]\n",
    "\n",
    "alpha = 0.5\n",
    "\n",
    "fig, ax = plt.subplots(2, 1, figsize=(7, 7), sharex=True)\n",
    "ymin, ymax = [0], [1]\n",
    "\n",
    "ax[0].vlines(\n",
    "    idxs_y_true,\n",
    "    ymin, \n",
    "    ymax,\n",
    "    label=\"True\", \n",
    "    color=\"r\", \n",
    "    alpha=alpha\n",
    ")\n",
    "ax[0].tick_params(axis=\"x\", bottom=False)\n",
    "ax[0].tick_params(axis=\"y\", left=False, labelleft=False)\n",
    "ax[0].set_title(\"Actual anomalies\")\n",
    "\n",
    "\n",
    "ax[1].vlines(idxs_y_predict, ymin, ymax, label=\"Predicted\", color=\"orange\", alpha=alpha)\n",
    "ax[1].tick_params(axis=\"y\", left=False, labelleft=False)\n",
    "\n",
    "ax[1].set_xticklabels(x_tick_labels, rotation=45)\n",
    "ax[1].set_xlabel(\"Sequential data points (hrs)\")\n",
    "\n",
    "ax[1].set_title(\"Predicted anomalies\")\n",
    "\n",
    "# x_tick_labels = [item.get_text() for item in ax[1].get_xticklabels()]\n",
    "# # ax[1].set_xticks(idxs_y_predict)\n",
    "\n",
    "# fig.legend(loc=\"upper right\", shadow=False, fancybox=True)\n",
    "\n",
    "fig.suptitle(\"Classifier detection of ACCLIMA soil moisture\\nsensor anomalies\", fontsize=16, y=0.995,)\n",
    "\n",
    "# plt.tight_layout()\n",
    "fig.savefig(\"../plots/test.pdf\")\n",
    "fig.show()"
   ]
  },
  {
   "cell_type": "markdown",
   "metadata": {},
   "source": [
    "# LOOP OVER ALL FOLDS AND PLOT"
   ]
  },
  {
   "cell_type": "code",
   "execution_count": 161,
   "metadata": {},
   "outputs": [],
   "source": [
    "for idx, (y_true, y_pred) in enumerate(classification_predictions_rf):\n",
    "\n",
    "    idxs_y_true = np.where(y_true==1)[0]\n",
    "    idxs_y_predict = np.where(y_pred==1)[0]\n",
    "\n",
    "    alpha = 0.5\n",
    "\n",
    "    fig, ax = plt.subplots(2, 1, figsize=(7, 7), sharex=True)\n",
    "    ymin, ymax = [0], [1]\n",
    "\n",
    "    ax[0].vlines(\n",
    "        idxs_y_true,\n",
    "        ymin, \n",
    "        ymax,\n",
    "        label=\"True\", \n",
    "        color=\"r\", \n",
    "        alpha=alpha\n",
    "    )\n",
    "    ax[0].tick_params(axis=\"x\", bottom=False)\n",
    "    ax[0].tick_params(axis=\"y\", left=False, labelleft=False)\n",
    "    ax[0].set_title(\"Actual anomalies\")\n",
    "\n",
    "\n",
    "    ax[1].vlines(idxs_y_predict, ymin, ymax, label=\"Predicted\", color=\"orange\", alpha=alpha)\n",
    "    ax[1].tick_params(axis=\"y\", left=False, labelleft=False)\n",
    "\n",
    "    ax[1].set_xticklabels(x_tick_labels, rotation=45)\n",
    "    ax[1].set_xlabel(\"Sequential data points (hrs)\")\n",
    "\n",
    "    ax[1].set_title(\"Predicted anomalies\")\n",
    "\n",
    "    # x_tick_labels = [item.get_text() for item in ax[1].get_xticklabels()]\n",
    "    # # ax[1].set_xticks(idxs_y_predict)\n",
    "\n",
    "    # fig.legend(loc=\"upper right\", shadow=False, fancybox=True)\n",
    "\n",
    "    fig.suptitle(\"Classifier detection of ACCLIMA soil moisture\\nsensor anomalies\", fontsize=16, y=0.995,)\n",
    "\n",
    "    # plt.tight_layout()\n",
    "    fig.savefig(\"../plots/time_series_actual_v_predict/time_series_actual_v_predict_0\"+str(idx)+\".pdf\")\n",
    "    fig.show()"
   ]
  },
  {
   "cell_type": "code",
   "execution_count": null,
   "metadata": {},
   "outputs": [],
   "source": []
  },
  {
   "cell_type": "markdown",
   "metadata": {},
   "source": [
    "# %%%%%%%%%%%%%%%%%%%%%%%%%%%%%%%%%%%%%%\n",
    "# %%%%%%%%%    IN PROGRESS    %%%%%%%%%%\n",
    "# %%%%%%%%%%%%%%%%%%%%%%%%%%%%%%%%%%%%%%"
   ]
  },
  {
   "cell_type": "markdown",
   "metadata": {},
   "source": [
    "# Identify single station with many anomalies to utilize as a plotting candidate"
   ]
  },
  {
   "cell_type": "code",
   "execution_count": 47,
   "metadata": {},
   "outputs": [
    {
     "name": "stdout",
     "output_type": "stream",
     "text": [
      "station ID: 03054\n",
      "number of errors:\n",
      " 682\n",
      "##################################################\n",
      "station ID: 03728\n",
      "number of errors:\n",
      " 15\n",
      "##################################################\n",
      "station ID: 03758\n",
      "number of errors:\n",
      " 0\n",
      "##################################################\n",
      "station ID: 04127\n",
      "number of errors:\n",
      " 15208\n",
      "##################################################\n",
      "station ID: 04141\n",
      "number of errors:\n",
      " 34\n",
      "##################################################\n",
      "station ID: 04236\n",
      "number of errors:\n",
      " 0\n",
      "##################################################\n",
      "station ID: 04990\n",
      "number of errors:\n",
      " 13510\n",
      "##################################################\n",
      "station ID: 04994\n",
      "number of errors:\n",
      " 66509\n",
      "##################################################\n",
      "station ID: 13301\n",
      "number of errors:\n",
      " 6303\n",
      "##################################################\n",
      "station ID: 23906\n",
      "number of errors:\n",
      " 9081\n",
      "##################################################\n",
      "station ID: 23909\n",
      "number of errors:\n",
      " 5612\n",
      "##################################################\n",
      "station ID: 26563\n",
      "number of errors:\n",
      " 144767\n",
      "##################################################\n",
      "station ID: 53132\n",
      "number of errors:\n",
      " 60\n",
      "##################################################\n",
      "station ID: 53152\n",
      "number of errors:\n",
      " 33\n",
      "##################################################\n",
      "station ID: 53155\n",
      "number of errors:\n",
      " 8841.0\n",
      "##################################################\n",
      "station ID: 53877\n",
      "number of errors:\n",
      " 15\n",
      "##################################################\n",
      "station ID: 53960\n",
      "number of errors:\n",
      " 15\n",
      "##################################################\n",
      "station ID: 53968\n",
      "number of errors:\n",
      " 0\n",
      "##################################################\n",
      "station ID: 54808\n",
      "number of errors:\n",
      " 18246\n",
      "##################################################\n",
      "station ID: 54811\n",
      "number of errors:\n",
      " 24232\n",
      "##################################################\n",
      "station ID: 54933\n",
      "number of errors:\n",
      " 67065\n",
      "##################################################\n",
      "station ID: 63826\n",
      "number of errors:\n",
      " 15\n",
      "##################################################\n",
      "station ID: 63828\n",
      "number of errors:\n",
      " 21\n",
      "##################################################\n",
      "station ID: 63829\n",
      "number of errors:\n",
      " 4\n",
      "##################################################\n",
      "station ID: 63831\n",
      "number of errors:\n",
      " 0\n",
      "##################################################\n",
      "station ID: 63849\n",
      "number of errors:\n",
      " 0\n",
      "##################################################\n",
      "station ID: 63850\n",
      "number of errors:\n",
      " 15\n",
      "##################################################\n",
      "station ID: 63855\n",
      "number of errors:\n",
      " 11103\n",
      "##################################################\n",
      "station ID: 63856\n",
      "number of errors:\n",
      " 15\n",
      "##################################################\n",
      "station ID: 63857\n",
      "number of errors:\n",
      " 15\n",
      "##################################################\n",
      "station ID: 63858\n",
      "number of errors:\n",
      " 4\n",
      "##################################################\n",
      "station ID: 63869\n",
      "number of errors:\n",
      " 585\n",
      "##################################################\n",
      "station ID: 64756\n",
      "number of errors:\n",
      " 33213\n",
      "##################################################\n",
      "station ID: 64758\n",
      "number of errors:\n",
      " 7737\n",
      "##################################################\n",
      "station ID: 92827\n",
      "number of errors:\n",
      " 0\n",
      "##################################################\n",
      "station ID: 93243\n",
      "number of errors:\n",
      " 6055\n",
      "##################################################\n",
      "station ID: 94074\n",
      "number of errors:\n",
      " 41977\n",
      "##################################################\n",
      "station ID: 94644\n",
      "number of errors:\n",
      " 46060\n",
      "##################################################\n",
      "station ID: 94995\n",
      "number of errors:\n",
      " 24925\n",
      "##################################################\n",
      "station ID: UN\n",
      "number of errors:\n",
      " 213.0\n",
      "##################################################\n"
     ]
    }
   ],
   "source": [
    "for station_idx, target_df in targets_dict.items(): \n",
    "    if target_df.shape[1] == 15:\n",
    "        print(\"station ID:\", station_idx)\n",
    "        print(\"number of errors:\\n\", target_df.sum().sum())\n",
    "        print(\"##################################################\")"
   ]
  },
  {
   "cell_type": "markdown",
   "metadata": {},
   "source": [
    "### Use these and plot the different time series, highlighting the ground truth"
   ]
  },
  {
   "cell_type": "code",
   "execution_count": 155,
   "metadata": {},
   "outputs": [
    {
     "data": {
      "image/png": "[encoded data removed]",
      "text/plain": [
       "<Figure size 432x288 with 1 Axes>"
      ]
     },
     "metadata": {
      "needs_background": "light"
     },
     "output_type": "display_data"
    }
   ],
   "source": [
    "# predict_station_id = \"04990\"\n",
    "# predict_station_id = \"23909\"\n",
    "predict_station_id = \"94995\"\n",
    "\n",
    "\n",
    "features_df = copy.deepcopy(features_dict[predict_station_id])\n",
    "target_df = copy.deepcopy(targets_dict[predict_station_id])\n",
    "\n",
    "target_series = target_df.sum(axis=1)\n",
    "target_series[target_series > 1] = 1\n",
    "\n",
    "# Plot the entire time course to check \n",
    "seaborn.lineplot(x=target_series.index, y=target_series.values,)\n",
    "plt.show()"
   ]
  },
  {
   "cell_type": "code",
   "execution_count": 156,
   "metadata": {},
   "outputs": [
    {
     "data": {
      "image/png": "[encoded data removed]",
      "text/plain": [
       "<Figure size 432x288 with 1 Axes>"
      ]
     },
     "metadata": {
      "needs_background": "light"
     },
     "output_type": "display_data"
    }
   ],
   "source": [
    "plot_start_prcnt = 50\n",
    "plot_start_index = int(np.ceil(plot_start_prcnt*0.01*target_series.shape[0]))\n",
    "seaborn.lineplot(x=target_series.index[plot_start_index:], y=target_series.values[plot_start_index:])\n",
    "plt.show()"
   ]
  },
  {
   "cell_type": "code",
   "execution_count": 157,
   "metadata": {},
   "outputs": [
    {
     "data": {
      "image/png": "[encoded data removed]",
      "text/plain": [
       "<Figure size 432x288 with 1 Axes>"
      ]
     },
     "metadata": {
      "needs_background": "light"
     },
     "output_type": "display_data"
    }
   ],
   "source": [
    "seaborn.lineplot(\n",
    "    data=features_df.iloc[plot_start_index:,:-2],\n",
    "    dashes=False,\n",
    "    legend=False,\n",
    ")\n",
    "plt.show()"
   ]
  },
  {
   "cell_type": "markdown",
   "metadata": {},
   "source": [
    "# Train on everything but single station and then generate predictions for it"
   ]
  },
  {
   "cell_type": "code",
   "execution_count": 160,
   "metadata": {},
   "outputs": [
    {
     "data": {
      "text/plain": [
       "RandomForestClassifier(n_jobs=-1)"
      ]
     },
     "execution_count": 160,
     "metadata": {},
     "output_type": "execute_result"
    }
   ],
   "source": [
    "# Load up the list of the stations that made it through the scaling process.\n",
    "final_station_ids_list = [\n",
    "    stat_id \n",
    "    for stat_id in scaled_feats_dict.keys() \n",
    "    if stat_id!=predict_station_id\n",
    "]        \n",
    "features_dfs_list = [scaled_feats_dict[station_id] for station_id in final_station_ids_list]\n",
    "targets_dfs_list = [targets_dict[station_id] for station_id in final_station_ids_list]\n",
    "scaled_feats_df = pd.concat(features_dfs_list, axis=0)\n",
    "targs_df = pd.concat(targets_dfs_list, axis=0)\n",
    "combined_scaledfeats_targs_df = pd.concat([scaled_feats_df,targs_df], axis=1)\n",
    "combined_scaledfeats_targs_NONAN_df = combined_scaledfeats_targs_df.dropna(how=\"any\", axis=0)\n",
    "\n",
    "# Re-isolate the targets and then combine them into a 1-D pd.series. \n",
    "# Whenever a row has at least one anomaly, then we will collapse that row's \n",
    "# values to a single value of 1. Rows with no anomalies shall be labeled as 0.\n",
    "ml_targs_df = combined_scaledfeats_targs_NONAN_df.iloc[:, -15:]\n",
    "ml_1D_targs_series = ml_targs_df.sum(axis=1)\n",
    "ml_1D_targs_series[ml_1D_targs_series > 1] = 1\n",
    "ml_1D_targs_series = ml_1D_targs_series.astype(\"int\")\n",
    "\n",
    "# Re-isolate the ML-ready features.\n",
    "ml_feats_df = combined_scaledfeats_targs_NONAN_df.iloc[:, :15]\n",
    "\n",
    "X_train = ml_feats_df.values\n",
    "y_train = ml_1D_targs_series.values\n",
    "\n",
    "# Initialize a random forest (RF) classifier object with the best hyperparameter \n",
    "# sets from the grid search.\n",
    "rf_classifier = RandomForestClassifier(n_jobs=-1)\n",
    "\n",
    "# Fit the classifiers to the training data. This erases the training from any\n",
    "# previous iteration of the loop.\n",
    "rf_classifier.fit(X_train, y_train)"
   ]
  },
  {
   "cell_type": "markdown",
   "metadata": {},
   "source": [
    "#### Isolate station of interest for prediction"
   ]
  },
  {
   "cell_type": "code",
   "execution_count": 161,
   "metadata": {},
   "outputs": [],
   "source": [
    "scaled_feats_df = copy.deepcopy(scaled_feats_dict[predict_station_id])\n",
    "targs_df = copy.deepcopy(targets_dict[predict_station_id])\n",
    "combined_scaledfeats_targs_df = pd.concat([scaled_feats_df,targs_df], axis=1)\n",
    "combined_scaledfeats_targs_NONAN_df = combined_scaledfeats_targs_df.dropna(how=\"any\", axis=0)\n",
    "\n",
    "# Re-isolate the targets and then combine them into a 1-D pd.series. \n",
    "# Whenever a row has at least one anomaly, then we will collapse that row's \n",
    "# values to a single value of 1. Rows with no anomalies shall be labeled as 0.\n",
    "ml_targs_df = combined_scaledfeats_targs_NONAN_df.iloc[:, -15:]\n",
    "ml_1D_targs_series = ml_targs_df.sum(axis=1)\n",
    "ml_1D_targs_series[ml_1D_targs_series > 1] = 1\n",
    "ml_1D_targs_series = ml_1D_targs_series.astype(\"int\")\n",
    "\n",
    "# Re-isolate the ML-ready features.\n",
    "ml_feats_df = combined_scaledfeats_targs_NONAN_df.iloc[:, :15]\n",
    "\n",
    "X_predict = ml_feats_df.values\n",
    "y_predict = ml_1D_targs_series.values\n",
    "\n",
    "# Have the newly trained classifiers predict the classes of the withheld testing data.\n",
    "y_predicted_rf = rf_classifier.predict(X_predict)"
   ]
  },
  {
   "cell_type": "code",
   "execution_count": 162,
   "metadata": {},
   "outputs": [
    {
     "data": {
      "text/plain": [
       "(16686, 15)"
      ]
     },
     "execution_count": 162,
     "metadata": {},
     "output_type": "execute_result"
    }
   ],
   "source": [
    "X_predict.shape"
   ]
  },
  {
   "cell_type": "code",
   "execution_count": 163,
   "metadata": {},
   "outputs": [
    {
     "data": {
      "text/plain": [
       "(16686,)"
      ]
     },
     "execution_count": 163,
     "metadata": {},
     "output_type": "execute_result"
    }
   ],
   "source": [
    "y_predicted_rf.shape"
   ]
  },
  {
   "cell_type": "code",
   "execution_count": 164,
   "metadata": {},
   "outputs": [
    {
     "data": {
      "image/png": "[encoded data removed]",
      "text/plain": [
       "<Figure size 432x288 with 1 Axes>"
      ]
     },
     "metadata": {
      "needs_background": "light"
     },
     "output_type": "display_data"
    }
   ],
   "source": [
    "seaborn.lineplot(data=y_predict[plot_start_index:])\n",
    "plt.show()"
   ]
  },
  {
   "cell_type": "code",
   "execution_count": 165,
   "metadata": {},
   "outputs": [
    {
     "data": {
      "image/png": "[encoded data removed]",
      "text/plain": [
       "<Figure size 432x288 with 1 Axes>"
      ]
     },
     "metadata": {
      "needs_background": "light"
     },
     "output_type": "display_data"
    }
   ],
   "source": [
    "seaborn.lineplot(data=y_predicted_rf)\n",
    "plt.show()"
   ]
  },
  {
   "cell_type": "code",
   "execution_count": 103,
   "metadata": {},
   "outputs": [
    {
     "data": {
      "text/plain": [
       "(9746,)"
      ]
     },
     "execution_count": 103,
     "metadata": {},
     "output_type": "execute_result"
    }
   ],
   "source": [
    "target_series.index[plot_start_index:].shape"
   ]
  },
  {
   "cell_type": "code",
   "execution_count": 107,
   "metadata": {},
   "outputs": [
    {
     "data": {
      "text/plain": [
       "9747"
      ]
     },
     "execution_count": 107,
     "metadata": {},
     "output_type": "execute_result"
    }
   ],
   "source": [
    "plot_start_index"
   ]
  },
  {
   "cell_type": "code",
   "execution_count": 104,
   "metadata": {},
   "outputs": [
    {
     "data": {
      "text/plain": [
       "(710055,)"
      ]
     },
     "execution_count": 104,
     "metadata": {},
     "output_type": "execute_result"
    }
   ],
   "source": [
    "y[plot_start_index:].shape"
   ]
  },
  {
   "cell_type": "code",
   "execution_count": 102,
   "metadata": {},
   "outputs": [
    {
     "ename": "ValueError",
     "evalue": "arrays must all be same length",
     "output_type": "error",
     "traceback": [
      "\u001b[0;31m---------------------------------------------------------------------------\u001b[0m",
      "\u001b[0;31mValueError\u001b[0m                                Traceback (most recent call last)",
      "\u001b[0;32m<ipython-input-102-001dc836474e>\u001b[0m in \u001b[0;36m<module>\u001b[0;34m\u001b[0m\n\u001b[0;32m----> 1\u001b[0;31m \u001b[0mseaborn\u001b[0m\u001b[0;34m.\u001b[0m\u001b[0mlineplot\u001b[0m\u001b[0;34m(\u001b[0m\u001b[0mx\u001b[0m\u001b[0;34m=\u001b[0m\u001b[0mtarget_series\u001b[0m\u001b[0;34m.\u001b[0m\u001b[0mindex\u001b[0m\u001b[0;34m[\u001b[0m\u001b[0mplot_start_index\u001b[0m\u001b[0;34m:\u001b[0m\u001b[0;34m]\u001b[0m\u001b[0;34m,\u001b[0m \u001b[0my\u001b[0m\u001b[0;34m=\u001b[0m\u001b[0my\u001b[0m\u001b[0;34m[\u001b[0m\u001b[0mplot_start_index\u001b[0m\u001b[0;34m:\u001b[0m\u001b[0;34m]\u001b[0m\u001b[0;34m)\u001b[0m\u001b[0;34m\u001b[0m\u001b[0;34m\u001b[0m\u001b[0m\n\u001b[0m\u001b[1;32m      2\u001b[0m \u001b[0mplt\u001b[0m\u001b[0;34m.\u001b[0m\u001b[0mshow\u001b[0m\u001b[0;34m(\u001b[0m\u001b[0;34m)\u001b[0m\u001b[0;34m\u001b[0m\u001b[0;34m\u001b[0m\u001b[0m\n",
      "\u001b[0;32m~/anaconda3/lib/python3.7/site-packages/seaborn/relational.py\u001b[0m in \u001b[0;36mlineplot\u001b[0;34m(x, y, hue, size, style, data, palette, hue_order, hue_norm, sizes, size_order, size_norm, dashes, markers, style_order, units, estimator, ci, n_boot, seed, sort, err_style, err_kws, legend, ax, **kwargs)\u001b[0m\n\u001b[1;32m   1124\u001b[0m         \u001b[0mdashes\u001b[0m\u001b[0;34m=\u001b[0m\u001b[0mdashes\u001b[0m\u001b[0;34m,\u001b[0m \u001b[0mmarkers\u001b[0m\u001b[0;34m=\u001b[0m\u001b[0mmarkers\u001b[0m\u001b[0;34m,\u001b[0m \u001b[0mstyle_order\u001b[0m\u001b[0;34m=\u001b[0m\u001b[0mstyle_order\u001b[0m\u001b[0;34m,\u001b[0m\u001b[0;34m\u001b[0m\u001b[0;34m\u001b[0m\u001b[0m\n\u001b[1;32m   1125\u001b[0m         \u001b[0munits\u001b[0m\u001b[0;34m=\u001b[0m\u001b[0munits\u001b[0m\u001b[0;34m,\u001b[0m \u001b[0mestimator\u001b[0m\u001b[0;34m=\u001b[0m\u001b[0mestimator\u001b[0m\u001b[0;34m,\u001b[0m \u001b[0mci\u001b[0m\u001b[0;34m=\u001b[0m\u001b[0mci\u001b[0m\u001b[0;34m,\u001b[0m \u001b[0mn_boot\u001b[0m\u001b[0;34m=\u001b[0m\u001b[0mn_boot\u001b[0m\u001b[0;34m,\u001b[0m \u001b[0mseed\u001b[0m\u001b[0;34m=\u001b[0m\u001b[0mseed\u001b[0m\u001b[0;34m,\u001b[0m\u001b[0;34m\u001b[0m\u001b[0;34m\u001b[0m\u001b[0m\n\u001b[0;32m-> 1126\u001b[0;31m         \u001b[0msort\u001b[0m\u001b[0;34m=\u001b[0m\u001b[0msort\u001b[0m\u001b[0;34m,\u001b[0m \u001b[0merr_style\u001b[0m\u001b[0;34m=\u001b[0m\u001b[0merr_style\u001b[0m\u001b[0;34m,\u001b[0m \u001b[0merr_kws\u001b[0m\u001b[0;34m=\u001b[0m\u001b[0merr_kws\u001b[0m\u001b[0;34m,\u001b[0m \u001b[0mlegend\u001b[0m\u001b[0;34m=\u001b[0m\u001b[0mlegend\u001b[0m\u001b[0;34m,\u001b[0m\u001b[0;34m\u001b[0m\u001b[0;34m\u001b[0m\u001b[0m\n\u001b[0m\u001b[1;32m   1127\u001b[0m     )\n\u001b[1;32m   1128\u001b[0m \u001b[0;34m\u001b[0m\u001b[0m\n",
      "\u001b[0;32m~/anaconda3/lib/python3.7/site-packages/seaborn/relational.py\u001b[0m in \u001b[0;36m__init__\u001b[0;34m(self, x, y, hue, size, style, data, palette, hue_order, hue_norm, sizes, size_order, size_norm, dashes, markers, style_order, units, estimator, ci, n_boot, seed, sort, err_style, err_kws, legend)\u001b[0m\n\u001b[1;32m    693\u001b[0m \u001b[0;34m\u001b[0m\u001b[0m\n\u001b[1;32m    694\u001b[0m         plot_data = self.establish_variables(\n\u001b[0;32m--> 695\u001b[0;31m             \u001b[0mx\u001b[0m\u001b[0;34m,\u001b[0m \u001b[0my\u001b[0m\u001b[0;34m,\u001b[0m \u001b[0mhue\u001b[0m\u001b[0;34m,\u001b[0m \u001b[0msize\u001b[0m\u001b[0;34m,\u001b[0m \u001b[0mstyle\u001b[0m\u001b[0;34m,\u001b[0m \u001b[0munits\u001b[0m\u001b[0;34m,\u001b[0m \u001b[0mdata\u001b[0m\u001b[0;34m\u001b[0m\u001b[0;34m\u001b[0m\u001b[0m\n\u001b[0m\u001b[1;32m    696\u001b[0m         )\n\u001b[1;32m    697\u001b[0m \u001b[0;34m\u001b[0m\u001b[0m\n",
      "\u001b[0;32m~/anaconda3/lib/python3.7/site-packages/seaborn/relational.py\u001b[0m in \u001b[0;36mestablish_variables\u001b[0;34m(self, x, y, hue, size, style, units, data)\u001b[0m\n\u001b[1;32m    150\u001b[0m                 \u001b[0munits\u001b[0m\u001b[0;34m=\u001b[0m\u001b[0munits\u001b[0m\u001b[0;34m\u001b[0m\u001b[0;34m\u001b[0m\u001b[0m\n\u001b[1;32m    151\u001b[0m             )\n\u001b[0;32m--> 152\u001b[0;31m             \u001b[0mplot_data\u001b[0m \u001b[0;34m=\u001b[0m \u001b[0mpd\u001b[0m\u001b[0;34m.\u001b[0m\u001b[0mDataFrame\u001b[0m\u001b[0;34m(\u001b[0m\u001b[0mplot_data\u001b[0m\u001b[0;34m)\u001b[0m\u001b[0;34m\u001b[0m\u001b[0;34m\u001b[0m\u001b[0m\n\u001b[0m\u001b[1;32m    153\u001b[0m \u001b[0;34m\u001b[0m\u001b[0m\n\u001b[1;32m    154\u001b[0m         \u001b[0;31m# Option 3:\u001b[0m\u001b[0;34m\u001b[0m\u001b[0;34m\u001b[0m\u001b[0;34m\u001b[0m\u001b[0m\n",
      "\u001b[0;32m~/anaconda3/lib/python3.7/site-packages/pandas/core/frame.py\u001b[0m in \u001b[0;36m__init__\u001b[0;34m(self, data, index, columns, dtype, copy)\u001b[0m\n\u001b[1;32m    433\u001b[0m             )\n\u001b[1;32m    434\u001b[0m         \u001b[0;32melif\u001b[0m \u001b[0misinstance\u001b[0m\u001b[0;34m(\u001b[0m\u001b[0mdata\u001b[0m\u001b[0;34m,\u001b[0m \u001b[0mdict\u001b[0m\u001b[0;34m)\u001b[0m\u001b[0;34m:\u001b[0m\u001b[0;34m\u001b[0m\u001b[0;34m\u001b[0m\u001b[0m\n\u001b[0;32m--> 435\u001b[0;31m             \u001b[0mmgr\u001b[0m \u001b[0;34m=\u001b[0m \u001b[0minit_dict\u001b[0m\u001b[0;34m(\u001b[0m\u001b[0mdata\u001b[0m\u001b[0;34m,\u001b[0m \u001b[0mindex\u001b[0m\u001b[0;34m,\u001b[0m \u001b[0mcolumns\u001b[0m\u001b[0;34m,\u001b[0m \u001b[0mdtype\u001b[0m\u001b[0;34m=\u001b[0m\u001b[0mdtype\u001b[0m\u001b[0;34m)\u001b[0m\u001b[0;34m\u001b[0m\u001b[0;34m\u001b[0m\u001b[0m\n\u001b[0m\u001b[1;32m    436\u001b[0m         \u001b[0;32melif\u001b[0m \u001b[0misinstance\u001b[0m\u001b[0;34m(\u001b[0m\u001b[0mdata\u001b[0m\u001b[0;34m,\u001b[0m \u001b[0mma\u001b[0m\u001b[0;34m.\u001b[0m\u001b[0mMaskedArray\u001b[0m\u001b[0;34m)\u001b[0m\u001b[0;34m:\u001b[0m\u001b[0;34m\u001b[0m\u001b[0;34m\u001b[0m\u001b[0m\n\u001b[1;32m    437\u001b[0m             \u001b[0;32mimport\u001b[0m \u001b[0mnumpy\u001b[0m\u001b[0;34m.\u001b[0m\u001b[0mma\u001b[0m\u001b[0;34m.\u001b[0m\u001b[0mmrecords\u001b[0m \u001b[0;32mas\u001b[0m \u001b[0mmrecords\u001b[0m\u001b[0;34m\u001b[0m\u001b[0;34m\u001b[0m\u001b[0m\n",
      "\u001b[0;32m~/anaconda3/lib/python3.7/site-packages/pandas/core/internals/construction.py\u001b[0m in \u001b[0;36minit_dict\u001b[0;34m(data, index, columns, dtype)\u001b[0m\n\u001b[1;32m    252\u001b[0m             \u001b[0marr\u001b[0m \u001b[0;32mif\u001b[0m \u001b[0;32mnot\u001b[0m \u001b[0mis_datetime64tz_dtype\u001b[0m\u001b[0;34m(\u001b[0m\u001b[0marr\u001b[0m\u001b[0;34m)\u001b[0m \u001b[0;32melse\u001b[0m \u001b[0marr\u001b[0m\u001b[0;34m.\u001b[0m\u001b[0mcopy\u001b[0m\u001b[0;34m(\u001b[0m\u001b[0;34m)\u001b[0m \u001b[0;32mfor\u001b[0m \u001b[0marr\u001b[0m \u001b[0;32min\u001b[0m \u001b[0marrays\u001b[0m\u001b[0;34m\u001b[0m\u001b[0;34m\u001b[0m\u001b[0m\n\u001b[1;32m    253\u001b[0m         ]\n\u001b[0;32m--> 254\u001b[0;31m     \u001b[0;32mreturn\u001b[0m \u001b[0marrays_to_mgr\u001b[0m\u001b[0;34m(\u001b[0m\u001b[0marrays\u001b[0m\u001b[0;34m,\u001b[0m \u001b[0mdata_names\u001b[0m\u001b[0;34m,\u001b[0m \u001b[0mindex\u001b[0m\u001b[0;34m,\u001b[0m \u001b[0mcolumns\u001b[0m\u001b[0;34m,\u001b[0m \u001b[0mdtype\u001b[0m\u001b[0;34m=\u001b[0m\u001b[0mdtype\u001b[0m\u001b[0;34m)\u001b[0m\u001b[0;34m\u001b[0m\u001b[0;34m\u001b[0m\u001b[0m\n\u001b[0m\u001b[1;32m    255\u001b[0m \u001b[0;34m\u001b[0m\u001b[0m\n\u001b[1;32m    256\u001b[0m \u001b[0;34m\u001b[0m\u001b[0m\n",
      "\u001b[0;32m~/anaconda3/lib/python3.7/site-packages/pandas/core/internals/construction.py\u001b[0m in \u001b[0;36marrays_to_mgr\u001b[0;34m(arrays, arr_names, index, columns, dtype)\u001b[0m\n\u001b[1;32m     62\u001b[0m     \u001b[0;31m# figure out the index, if necessary\u001b[0m\u001b[0;34m\u001b[0m\u001b[0;34m\u001b[0m\u001b[0;34m\u001b[0m\u001b[0m\n\u001b[1;32m     63\u001b[0m     \u001b[0;32mif\u001b[0m \u001b[0mindex\u001b[0m \u001b[0;32mis\u001b[0m \u001b[0;32mNone\u001b[0m\u001b[0;34m:\u001b[0m\u001b[0;34m\u001b[0m\u001b[0;34m\u001b[0m\u001b[0m\n\u001b[0;32m---> 64\u001b[0;31m         \u001b[0mindex\u001b[0m \u001b[0;34m=\u001b[0m \u001b[0mextract_index\u001b[0m\u001b[0;34m(\u001b[0m\u001b[0marrays\u001b[0m\u001b[0;34m)\u001b[0m\u001b[0;34m\u001b[0m\u001b[0;34m\u001b[0m\u001b[0m\n\u001b[0m\u001b[1;32m     65\u001b[0m     \u001b[0;32melse\u001b[0m\u001b[0;34m:\u001b[0m\u001b[0;34m\u001b[0m\u001b[0;34m\u001b[0m\u001b[0m\n\u001b[1;32m     66\u001b[0m         \u001b[0mindex\u001b[0m \u001b[0;34m=\u001b[0m \u001b[0mensure_index\u001b[0m\u001b[0;34m(\u001b[0m\u001b[0mindex\u001b[0m\u001b[0;34m)\u001b[0m\u001b[0;34m\u001b[0m\u001b[0;34m\u001b[0m\u001b[0m\n",
      "\u001b[0;32m~/anaconda3/lib/python3.7/site-packages/pandas/core/internals/construction.py\u001b[0m in \u001b[0;36mextract_index\u001b[0;34m(data)\u001b[0m\n\u001b[1;32m    363\u001b[0m             \u001b[0mlengths\u001b[0m \u001b[0;34m=\u001b[0m \u001b[0mlist\u001b[0m\u001b[0;34m(\u001b[0m\u001b[0mset\u001b[0m\u001b[0;34m(\u001b[0m\u001b[0mraw_lengths\u001b[0m\u001b[0;34m)\u001b[0m\u001b[0;34m)\u001b[0m\u001b[0;34m\u001b[0m\u001b[0;34m\u001b[0m\u001b[0m\n\u001b[1;32m    364\u001b[0m             \u001b[0;32mif\u001b[0m \u001b[0mlen\u001b[0m\u001b[0;34m(\u001b[0m\u001b[0mlengths\u001b[0m\u001b[0;34m)\u001b[0m \u001b[0;34m>\u001b[0m \u001b[0;36m1\u001b[0m\u001b[0;34m:\u001b[0m\u001b[0;34m\u001b[0m\u001b[0;34m\u001b[0m\u001b[0m\n\u001b[0;32m--> 365\u001b[0;31m                 \u001b[0;32mraise\u001b[0m \u001b[0mValueError\u001b[0m\u001b[0;34m(\u001b[0m\u001b[0;34m\"arrays must all be same length\"\u001b[0m\u001b[0;34m)\u001b[0m\u001b[0;34m\u001b[0m\u001b[0;34m\u001b[0m\u001b[0m\n\u001b[0m\u001b[1;32m    366\u001b[0m \u001b[0;34m\u001b[0m\u001b[0m\n\u001b[1;32m    367\u001b[0m             \u001b[0;32mif\u001b[0m \u001b[0mhave_dicts\u001b[0m\u001b[0;34m:\u001b[0m\u001b[0;34m\u001b[0m\u001b[0;34m\u001b[0m\u001b[0m\n",
      "\u001b[0;31mValueError\u001b[0m: arrays must all be same length"
     ]
    }
   ],
   "source": [
    "seaborn.lineplot(x=target_series.index[plot_start_index:], y=y[plot_start_index:])\n",
    "plt.show()"
   ]
  },
  {
   "cell_type": "code",
   "execution_count": null,
   "metadata": {},
   "outputs": [],
   "source": []
  }
 ],
 "metadata": {
  "kernelspec": {
   "display_name": "Python 3",
   "language": "python",
   "name": "python3"
  },
  "language_info": {
   "codemirror_mode": {
    "name": "ipython",
    "version": 3
   },
   "file_extension": ".py",
   "mimetype": "text/x-python",
   "name": "python",
   "nbconvert_exporter": "python",
   "pygments_lexer": "ipython3",
   "version": "3.7.6"
  }
 },
 "nbformat": 4,
 "nbformat_minor": 4
}
