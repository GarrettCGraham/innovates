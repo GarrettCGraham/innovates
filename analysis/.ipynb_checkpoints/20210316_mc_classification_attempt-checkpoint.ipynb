{
 "cells": [
  {
   "cell_type": "code",
   "execution_count": 1,
   "metadata": {},
   "outputs": [],
   "source": [
    "import copy\n",
    "import matplotlib.pyplot as plt\n",
    "import numpy as np\n",
    "import os\n",
    "import pandas as pd\n",
    "\n",
    "from datetime import datetime\n",
    "from sklearn.decomposition import PCA\n",
    "from sklearn.preprocessing import StandardScaler"
   ]
  },
  {
   "cell_type": "code",
   "execution_count": 2,
   "metadata": {},
   "outputs": [],
   "source": [
    "data_dir = \"../data/multiclass/\"\n",
    "station_filenames_list = [\n",
    "    filename for filename in os.listdir(path=data_dir)\n",
    "    if filename!=\".DS_Store\"\n",
    "]\n",
    "\n",
    "file_path = \"../data/acclima_stations_id_list.txt\"\n",
    "acclima_stations_list = pd.read_csv(file_path, header=None).iloc[:,0].values.tolist()"
   ]
  },
  {
   "cell_type": "code",
   "execution_count": 3,
   "metadata": {},
   "outputs": [],
   "source": [
    "# Load features and targets into features and targets dictionaries, indexed\n",
    "# by station ID number.\n",
    "template_dict = {\n",
    "    test_station_id : None\n",
    "    for test_station_id in acclima_stations_list\n",
    "}\n",
    "features_dict,targets_dict = copy.deepcopy(template_dict), copy.deepcopy(template_dict)\n",
    "del(template_dict)\n",
    "\n",
    "pbar = ProgressBar()\n",
    "\n",
    "for station_id in pbar(acclima_stations_list):\n",
    "\n",
    "    temp_feats_df = pd.read_csv(\n",
    "        data_dir+station_id+\"_feats.pkl\",\n",
    "        index_col=\"UTC_START\"\n",
    "    )\n",
    "    temp_feats_df.index = pd.to_datetime(temp_feats_df.index, format=\"%Y-%m-%d %H:%M:%S\")\n",
    "    features_dict[station_id] = temp_feats_df\n",
    "    \n",
    "    temp_targs_df = pd.read_csv(\n",
    "        data_dir+station_id+\"_targs.pkl\",\n",
    "        index_col=\"UTC_START\"\n",
    "    )\n",
    "    temp_targs_df.index = pd.to_datetime(temp_targs_df.index, format=\"%Y-%m-%d %H:%M:%S\")\n",
    "    targets_dict[station_id] = temp_targs_df"
   ]
  },
  {
   "cell_type": "code",
   "execution_count": 4,
   "metadata": {},
   "outputs": [],
   "source": [
    "# Got the following station ID info from this URL:\n",
    "# https://mesonet.agron.iastate.edu/sites/site.php?station=23906&network=USCRN\n",
    "port_aransas_stat_id = \"23906\"\n",
    "feats_df_port_aransas = features_dict[port_aransas_stat_id]\n",
    "targs_df_port_aransas = targets_dict[port_aransas_stat_id]\n",
    "\n",
    "\n",
    "# Got the following date-exclusion idea from here:\n",
    "# https://stackoverflow.com/questions/55680603/pandas-filter-on-datetimeindex-by-excluding-date-range\n",
    "exclusion_dates = pd.date_range(start=\"2019-08-01\", end=\"2019-09-01\")\n",
    "\n",
    "features_dict[port_aransas_stat_id] = feats_df_port_aransas.loc[~feats_df_port_aransas.index.isin(exclusion_dates)]\n",
    "\n",
    "targets_dict[port_aransas_stat_id] = targs_df_port_aransas.loc[~targs_df_port_aransas.index.isin(exclusion_dates)]"
   ]
  },
  {
   "cell_type": "markdown",
   "metadata": {},
   "source": [
    "# Explore!"
   ]
  },
  {
   "cell_type": "code",
   "execution_count": 5,
   "metadata": {},
   "outputs": [],
   "source": [
    "scaled_feats_dict = {\n",
    "    stat_id : None\n",
    "    for stat_id in acclima_stations_list\n",
    "    if features_dict[stat_id].shape[1]==15\n",
    "}\n",
    "for stat_id in acclima_stations_list:\n",
    "    \n",
    "    df_to_scale = copy.deepcopy(features_dict[stat_id]).drop(columns=[\"p_official\", \"t_official\"])\n",
    "    \n",
    "    if df_to_scale.shape[1]==15:\n",
    "        df_to_scale[(df_to_scale == -99999)] = pd.NA\n",
    "        df_to_scale = df_to_scale.interpolate(method=\"time\", axis=0)\n",
    "        df_to_scale = df_to_scale.fillna(method=\"bfill\", axis=0)\n",
    "        scaler = StandardScaler(with_mean=True)\n",
    "        feats_scaled_array = scaler.fit_transform(df_to_scale)\n",
    "#         if np.isnan(feats_scaled_array).sum() == 0:\n",
    "        scaled_feats_dict[stat_id] = copy.deepcopy(feats_scaled_array)\n",
    "    \n",
    "    else:\n",
    "        continue\n",
    "\n",
    "t = [stat_tuple[1] for stat_tuple in scaled_feats_dict.items()]\n",
    "scaled_feats_array = np.concatenate(t, axis=0)"
   ]
  },
  {
   "cell_type": "code",
   "execution_count": 6,
   "metadata": {},
   "outputs": [
    {
     "data": {
      "image/png": "[encoded data removed]",
      "text/plain": [
       "<Figure size 432x288 with 1 Axes>"
      ]
     },
     "metadata": {
      "needs_background": "light"
     },
     "output_type": "display_data"
    },
    {
     "name": "stdout",
     "output_type": "stream",
     "text": [
      "The first 3 explain 0.5818076975995286 of the variance.\n"
     ]
    }
   ],
   "source": [
    "pca = PCA()\n",
    "pca_scaled_feats_array = pca.fit_transform(scaled_feats_array)\n",
    "evr = pca.explained_variance_ratio_\n",
    "x = [i for i in range(len(evr))]\n",
    "plt.scatter(x, evr)\n",
    "plt.title(\"PCA explained variance ratios over\\nall ACCLIMA stations with full sensor suite\")\n",
    "plt.xlabel(\"Principle component\")\n",
    "plt.ylabel(\"Explained variance ratio (%)\")\n",
    "\n",
    "plt.tight_layout()\n",
    "# plt.savefig(\"../plots/PCA_EVR_allstations_allsensors.png\", dpi=300)\n",
    "plt.show()\n",
    "num_PC_to_sum = 3\n",
    "print(\"The first\", num_PC_to_sum, \"explain\", sum(evr[:num_PC_to_sum]), \"of the variance.\")"
   ]
  },
  {
   "cell_type": "markdown",
   "metadata": {},
   "source": [
    "# Concatenate anomaly data for ML"
   ]
  },
  {
   "cell_type": "code",
   "execution_count": 7,
   "metadata": {},
   "outputs": [],
   "source": [
    "for stat_id in acclima_stations_list:\n",
    "    \n",
    "    df_to_scale = copy.deepcopy(features_dict[stat_id]).drop(columns=[\"p_official\", \"t_official\"])\n",
    "    \n",
    "    if df_to_scale.shape[1]==15:\n",
    "        df_to_scale[(df_to_scale == -99999)] = pd.NA\n",
    "        df_to_scale = df_to_scale.interpolate(method=\"time\", axis=0)\n",
    "        df_to_scale = df_to_scale.fillna(method=\"bfill\", axis=0)\n",
    "        scaler = StandardScaler(with_mean=True)\n",
    "        feats_scaled_array = scaler.fit_transform(df_to_scale)\n",
    "        feats_scaled_df = pd.DataFrame(data=feats_scaled_array, index=df_to_scale.index, columns=df_to_scale.columns)\n",
    "#         if np.isnan(feats_scaled_array).sum() == 0:\n",
    "        scaled_feats_dict[stat_id] = copy.deepcopy(feats_scaled_df)\n",
    "    else:\n",
    "        continue\n",
    "\n",
    "final_station_ids_list = [stat_id for stat_id in scaled_feats_dict.keys()]        \n",
    "\n",
    "features_dfs_list = [scaled_feats_dict[station_id] for station_id in final_station_ids_list]\n",
    "targets_dfs_list = [targets_dict[station_id] for station_id in final_station_ids_list]\n",
    "\n",
    "scaled_feats_df = pd.concat(features_dfs_list, axis=0)\n",
    "targs_df = pd.concat(targets_dfs_list, axis=0)"
   ]
  },
  {
   "cell_type": "code",
   "execution_count": 8,
   "metadata": {},
   "outputs": [],
   "source": [
    "combined_scaledfeats_targs_df = pd.concat([scaled_feats_df,targs_df], axis=1)\n",
    "\n",
    "# This takes a COUPLE MINUTES TO RUN. So, only re-run if necessary!!\n",
    "# # combined_scaledfeats_targs_df.to_csv(\"../data/combined_scaledfeats_targs_df.csv\")"
   ]
  },
  {
   "cell_type": "code",
   "execution_count": 9,
   "metadata": {},
   "outputs": [],
   "source": [
    "combined_scaledfeats_targs_NONAN_df = combined_scaledfeats_targs_df.dropna(how=\"any\", axis=0)"
   ]
  },
  {
   "cell_type": "code",
   "execution_count": 10,
   "metadata": {},
   "outputs": [],
   "source": [
    "# Re-isolate the targets and then combine them into a 1-D pd.series. \n",
    "# Whenever a row has at least one anomaly, then we will collapse that row's \n",
    "# values to a single value of 1. Rows with no anomalies shall be labeled as 0.\n",
    "ml_targs_df = combined_scaledfeats_targs_NONAN_df.iloc[:, -15:]\n",
    "ml_1D_targs_series = ml_targs_df.sum(axis=1)\n",
    "ml_1D_targs_series[ml_1D_targs_series > 1] = 1"
   ]
  },
  {
   "cell_type": "code",
   "execution_count": 11,
   "metadata": {},
   "outputs": [],
   "source": [
    "# Re-isolate the ML-ready features.\n",
    "ml_feats_df = combined_scaledfeats_targs_NONAN_df.iloc[:, :15]"
   ]
  },
  {
   "cell_type": "markdown",
   "metadata": {},
   "source": [
    "### Calculate the percentage of the ML-ready data that are anomalies"
   ]
  },
  {
   "cell_type": "code",
   "execution_count": 12,
   "metadata": {},
   "outputs": [
    {
     "name": "stdout",
     "output_type": "stream",
     "text": [
      "11.62% of the data are anomalies.\n"
     ]
    }
   ],
   "source": [
    "percentage_anomalies =\\\n",
    "    np.round(100*ml_1D_targs_series.sum()/ml_1D_targs_series.shape[0], 2)\n",
    "print(f\"{percentage_anomalies}% of the data are anomalies.\")"
   ]
  },
  {
   "cell_type": "markdown",
   "metadata": {},
   "source": [
    "# Attempt some ML! Yewwwwww!"
   ]
  },
  {
   "cell_type": "code",
   "execution_count": 13,
   "metadata": {},
   "outputs": [],
   "source": [
    "import seaborn\n",
    "\n",
    "from sklearn.metrics import confusion_matrix\n",
    "from sklearn.model_selection import cross_val_score, StratifiedKFold, GridSearchCV\n",
    "from sklearn.ensemble import RandomForestClassifier"
   ]
  },
  {
   "cell_type": "code",
   "execution_count": 14,
   "metadata": {},
   "outputs": [
    {
     "name": "stdout",
     "output_type": "stream",
     "text": [
      "0\n",
      "1\n",
      "2\n",
      "3\n",
      "4\n"
     ]
    }
   ],
   "source": [
    "X = ml_feats_df.values\n",
    "y = ml_1D_targs_series.values\n",
    "\n",
    "# Initialize a random forest (RF) classifier object with the best hyperparameter \n",
    "# sets from the grid search.\n",
    "rf_classifier = RandomForestClassifier(n_jobs=-1)\n",
    "\n",
    "# Initialize a stratified 5-fold cross-validation object.  Make certain that it\n",
    "# randomly shuffles the data. AND, since it's randomly shuffling the data, make\n",
    "# certain that its random state is set to 7 (an arbitrary choice: it simply\n",
    "# needs to have a constant random state seed).\n",
    "stratified_kfold_generator = StratifiedKFold(\n",
    "    n_splits=5,\n",
    "    shuffle=True,\n",
    "    random_state=7\n",
    ")\n",
    "\n",
    "# Iterate through each of the splits and train/test both classifiers. We will \n",
    "# store the predictions in the following lists, \"classfication predictions_rf\" \n",
    "# and \"classfication predictions_xgb\".\n",
    "classification_predictions_rf = list()\n",
    "for idx, (train, test) in enumerate(stratified_kfold_generator.split(X, y)):\n",
    "    \n",
    "    print(idx)\n",
    "    \n",
    "    # Fit the classifiers to the training data. This erases the training from any\n",
    "    # previous iteration of the loop.\n",
    "    rf_classifier.fit(X[train], y[train].ravel())\n",
    "\n",
    "    # Have the newly trained classifiers predict the classes of the withheld testing data.\n",
    "    y_predicted_rf = rf_classifier.predict(X[test])\n",
    "\n",
    "    # Add the true class labels and the predicted class labels to the storage lists.\n",
    "    classification_predictions_rf.append((y[test].ravel(), y_predicted_rf.ravel()))"
   ]
  },
  {
   "cell_type": "code",
   "execution_count": 15,
   "metadata": {},
   "outputs": [
    {
     "name": "stderr",
     "output_type": "stream",
     "text": [
      "/Users/garrettgraham/anaconda3/lib/python3.7/site-packages/ipykernel_launcher.py:33: UserWarning: Matplotlib is currently using module://ipykernel.pylab.backend_inline, which is a non-GUI backend, so cannot show the figure.\n"
     ]
    },
    {
     "data": {
      "image/png": "[encoded data removed]",
      "text/plain": [
       "<Figure size 504x360 with 2 Axes>"
      ]
     },
     "metadata": {
      "needs_background": "light"
     },
     "output_type": "display_data"
    }
   ],
   "source": [
    "def calculate_normalized_conf_matrix(classification_predictions):\n",
    "    cf = np.zeros((2,2))\n",
    "    for y_true, y_pred in classification_predictions:\n",
    "        cf += confusion_matrix(y_true, y_pred)\n",
    "    return cf/cf.sum()\n",
    "\n",
    "class_labels_list = [\"Normal\", \"Anomalous\"]\n",
    "\n",
    "# Loop through the cached predictions and calculate the confusion matrices for\n",
    "# both classifiers.\n",
    "cf_rf = calculate_normalized_conf_matrix(classification_predictions_rf)\n",
    "\n",
    "# Initialize figure and axes objects in order to plot the two confusion matrices.\n",
    "fig, ax = plt.subplots(1, 1, figsize=(7, 5))\n",
    "\n",
    "# Plot the random forest confusion matrix.\n",
    "seaborn.heatmap(\n",
    "    cf_rf, cmap=\"Reds\", annot=cf_rf, square=True, cbar=True,\n",
    "    xticklabels=class_labels_list, yticklabels=class_labels_list,\n",
    "    ax=ax\n",
    ")\n",
    "\n",
    "# Add labels to the x-axis and the y-axis.\n",
    "ax.set_xlabel(\"Predicted\", fontsize=16)\n",
    "ax.set_ylabel(\"True\", fontsize=16)\n",
    "\n",
    "# Add a title to the figure.\n",
    "fig.suptitle(\"Confusion matrix for lightly optimized RF classifer\\nof ACCLIMA sensor stations\")\n",
    "\n",
    "plt.savefig(\"randomforest_confusion_matrix.png\", dpi=300)\n",
    "\n",
    "# Display the figure.\n",
    "fig.show()"
   ]
  },
  {
   "cell_type": "code",
   "execution_count": 16,
   "metadata": {},
   "outputs": [
    {
     "data": {
      "text/plain": [
       "array([[0.8823122 , 0.00147708],\n",
       "       [0.00401193, 0.11219878]])"
      ]
     },
     "execution_count": 16,
     "metadata": {},
     "output_type": "execute_result"
    }
   ],
   "source": [
    "cf_rf\n",
    "\n",
    "# # Previous cf_rf w/out Port Aransas filtered.\n",
    "# array([[0.88232525, 0.00146891],\n",
    "#        [0.00401041, 0.11219543]])"
   ]
  },
  {
   "cell_type": "code",
   "execution_count": 17,
   "metadata": {},
   "outputs": [
    {
     "name": "stdout",
     "output_type": "stream",
     "text": [
      "Accuracy:\n",
      "99.45%\n"
     ]
    }
   ],
   "source": [
    "print(\"Accuracy:\")\n",
    "print(str(np.round(100*(cf_rf[0,0]+cf_rf[1,1]), 2))+\"%\")\n",
    "\n",
    "# # Previous accuracy w/out Port Aransas filtered.\n",
    "# Accuracy:\n",
    "# 99.45%"
   ]
  },
  {
   "cell_type": "code",
   "execution_count": 18,
   "metadata": {},
   "outputs": [
    {
     "data": {
      "text/plain": [
       "0.964242658050827"
      ]
     },
     "execution_count": 18,
     "metadata": {},
     "output_type": "execute_result"
    }
   ],
   "source": [
    "1-(cf_rf[1,0]/cf_rf[1,1])\n",
    "\n",
    "# # Previous percentage of correctly detected anomalies w/out Port Aransas filtered.\n",
    "# 0.9642551447274832"
   ]
  },
  {
   "cell_type": "code",
   "execution_count": null,
   "metadata": {},
   "outputs": [],
   "source": []
  }
 ],
 "metadata": {
  "kernelspec": {
   "display_name": "Python 3",
   "language": "python",
   "name": "python3"
  },
  "language_info": {
   "codemirror_mode": {
    "name": "ipython",
    "version": 3
   },
   "file_extension": ".py",
   "mimetype": "text/x-python",
   "name": "python",
   "nbconvert_exporter": "python",
   "pygments_lexer": "ipython3",
   "version": "3.7.6"
  }
 },
 "nbformat": 4,
 "nbformat_minor": 4
}
