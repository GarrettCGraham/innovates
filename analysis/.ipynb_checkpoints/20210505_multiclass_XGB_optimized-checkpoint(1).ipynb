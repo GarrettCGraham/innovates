{
 "cells": [
  {
   "cell_type": "markdown",
   "metadata": {},
   "source": [
    "# XGBoost w/random search  optimization\n",
    "\n",
    "Swapping to XGBoost as my classifier-of-choice.\n",
    "\n",
    "Will use random search in order to optimize. \n",
    "\n",
    "May use F1-macro score to account for the class imbalances (approx. 2% anomalous examples).\n",
    "\n"
   ]
  },
  {
   "cell_type": "code",
   "execution_count": 103,
   "metadata": {},
   "outputs": [],
   "source": [
    "# Load up the requisite libraries and submodules.\n",
    "import copy\n",
    "import matplotlib.pyplot as plt\n",
    "import numpy as np\n",
    "import os\n",
    "import pandas as pd\n",
    "import time\n",
    "import xgboost as xgb\n",
    "\n",
    "from datetime import datetime\n",
    "from dynomics import misc\n",
    "from dynomics import models\n",
    "from matplotlib.colors import LogNorm\n",
    "from sklearn.preprocessing import StandardScaler\n",
    "\n",
    "# Define file locations.\n",
    "DATA_DIR = \"../data/multiclass/\""
   ]
  },
  {
   "cell_type": "code",
   "execution_count": 14,
   "metadata": {},
   "outputs": [],
   "source": [
    "# Load up the station IDs. Some of the Accl\n",
    "station_filenames_list = [\n",
    "    filename for filename in os.listdir(path=DATA_DIR)\n",
    "    if (filename[-7:]==\".pickle\") and (\"53155\" not in filename)\n",
    "]\n",
    "\n",
    "# List of \n",
    "stations_id_list = list(\n",
    "    set(\n",
    "        filename.split(\"_\")[2] for filename in station_filenames_list\n",
    "    )\n",
    ")"
   ]
  },
  {
   "cell_type": "code",
   "execution_count": 15,
   "metadata": {},
   "outputs": [],
   "source": [
    "# Load features and targets into features and targets dictionaries, indexed\n",
    "# by station ID number.\n",
    "template_dict = {\n",
    "    station_id : None\n",
    "    for station_id in acclima_stations_list\n",
    "    if station_id!=\"53155\"     # Station 53155's sensor data had data missing for at least one sensor\n",
    "                               # at literally every time point, so my data preprocessing eliminated it. \n",
    "}\n",
    "features_dict,targets_dict = copy.deepcopy(template_dict), copy.deepcopy(template_dict)\n",
    "del(template_dict)\n",
    "\n",
    "for fname in station_filenames_list:\n",
    "    station_id = fname.split(\"_\")[2].split(\".\")[0]\n",
    "    if station_id not in acclima_stations_list:\n",
    "        continue\n",
    "    elif station_id=='53155':\n",
    "        continue\n",
    "    elif \"features\" in fname:\n",
    "        features_dict[station_id] = pd.read_pickle(\n",
    "            data_dir+fname,\n",
    "        )\n",
    "    elif \"targets\" in fname:\n",
    "        targets_dict[station_id] = pd.read_pickle(\n",
    "            data_dir+fname,\n",
    "        )"
   ]
  },
  {
   "cell_type": "code",
   "execution_count": 16,
   "metadata": {},
   "outputs": [],
   "source": [
    "final_stations_list = [\n",
    "    station_id for station_id in features_dict.keys()\n",
    "]"
   ]
  },
  {
   "cell_type": "code",
   "execution_count": 17,
   "metadata": {},
   "outputs": [],
   "source": [
    "# Got the following station ID info from this URL:\n",
    "# https://mesonet.agron.iastate.edu/sites/site.php?station=23906&network=USCRN\n",
    "port_aransas_stat_id = \"23906\"\n",
    "feats_df_port_aransas = features_dict[port_aransas_stat_id]\n",
    "targs_df_port_aransas = targets_dict[port_aransas_stat_id]\n",
    "\n",
    "# Got the following date-exclusion idea from here:\n",
    "# https://stackoverflow.com/questions/55680603/pandas-filter-on-datetimeindex-by-excluding-date-range\n",
    "exclusion_dates = pd.date_range(start=\"2019-08-01\", end=\"2019-09-01\")\n",
    "\n",
    "features_dict[port_aransas_stat_id] = feats_df_port_aransas.loc[~feats_df_port_aransas.index.isin(exclusion_dates)]\n",
    "\n",
    "targets_dict[port_aransas_stat_id] = targs_df_port_aransas.loc[~targs_df_port_aransas.index.isin(exclusion_dates)]"
   ]
  },
  {
   "cell_type": "markdown",
   "metadata": {},
   "source": [
    "# Define ML functions"
   ]
  },
  {
   "cell_type": "code",
   "execution_count": 78,
   "metadata": {},
   "outputs": [],
   "source": [
    "def check_mkdirs(*paths):\n",
    "    for path in paths:\n",
    "        if not os.path.isdir(path):\n",
    "            os.makedirs(path)\n",
    "    return\n",
    "\n",
    "\n",
    "def confusion_score_model(\n",
    "    classer,\n",
    "    feature_frame,\n",
    "    target_frame,\n",
    "    cv_splits=None,\n",
    "    **fitting_kwargs\n",
    "):\n",
    "    ''' Construct the training and testing confusion matrixes for classer on\n",
    "        data\n",
    "        Input:\n",
    "            classer : sklearn.Estimator\n",
    "                a classifiers to train and score\n",
    "            feature_frame : DataFrame\n",
    "                A dataframe representing the features extracted from a set of\n",
    "                expeirments.\n",
    "            target_frame : DataFrame\n",
    "                a 1d representation of induction state at each time point in\n",
    "                feature_frame\n",
    "            cv_splits : [([],[])]\n",
    "                A list of (train,test) splits which should be used for cross\n",
    "                validation\n",
    "        Return: (pandas.DataFrame, pandas.DataFrame)\n",
    "            A tuple containing a DataFrame representing the confusion matrix\n",
    "            during cross validation and a DataFrame representing the\n",
    "            confusion matrix during training. i.e. (test_scores, train_scores)\n",
    "    '''\n",
    "    # Create variables to store conf matrix values during cross validation\n",
    "    unique_labels = target_frame.iloc[:, 0].unique()\n",
    "    num_labels = len(unique_labels)\n",
    "    test_mat = np.zeros((num_labels, num_labels))\n",
    "    train_mat = np.zeros((num_labels, num_labels))\n",
    "    # perform cross validation\n",
    "    for split_idx, (train, test) in enumerate(cv_splits):\n",
    "        print(\"##################################################\")\n",
    "        print(\"         ###### Processing \"+str(split_idx+1)+\" of \"+str(len(cv_splits))+\" ######\")\n",
    "        print(\"            \" + time.ctime())\n",
    "        print(\"##################################################\")\n",
    "        # get train and test splits\n",
    "        train_X = feature_frame.values[train]\n",
    "        train_y = target_frame.values.ravel()[train]\n",
    "        test_X = feature_frame.values[test]\n",
    "        test_y = target_frame.values.ravel()[test]\n",
    "        \n",
    "        # fit training data\n",
    "        classer.fit(\n",
    "            train_X, train_y, \n",
    "            eval_set=[(test_X, test_y)], \n",
    "            verbose=False,\n",
    "            **fitting_kwargs\n",
    "        )\n",
    "        \n",
    "        # Predict for training data and update confusion matrix\n",
    "        train_p = classer.predict(train_X)\n",
    "        temp = models.confusion_matrix(train_y, train_p, labels=unique_labels)\n",
    "        train_mat += temp / temp.sum().sum() / len(cv_splits)\n",
    "        # Predict for testing data and update confusion matrix\n",
    "        test_p = classer.predict(test_X)\n",
    "        temp = models.confusion_matrix(test_y, test_p, labels=unique_labels)\n",
    "        test_mat += temp / temp.sum().sum() / len(cv_splits)\n",
    "    # define helper to handle converting matrixes to dataframes\n",
    "    def to_frame(mat):\n",
    "        mat = pd.DataFrame(data=mat, index=unique_labels, columns=unique_labels)\n",
    "        mat.loc[:, 'sum'] = mat.sum(axis=1)\n",
    "        mat.loc['sum', :] = mat.sum(axis=0)\n",
    "        mat.index.name='True Label'\n",
    "        mat.columns.name='Predicted Label'\n",
    "        return mat\n",
    "    # convert matrixes to dataframes and return\n",
    "    return (to_frame(train_mat), to_frame(test_mat))\n",
    "\n",
    "def fix_conf_mat_labels(conf_mat):\n",
    "    # Format metal names so as to remove the remnants of tuple-formatting,\n",
    "    # which is an artifact of the MySQL database and its concentration \n",
    "    # specifications.\n",
    "    new_confusion_matrix_labels = [\n",
    "        label.split(\"'\")[1] \n",
    "        if \"'\" in label else label\n",
    "        for label in conf_mat.index.values\n",
    "    ]\n",
    "    conf_mat.index = new_confusion_matrix_labels\n",
    "    conf_mat.columns = new_confusion_matrix_labels\n",
    "    return conf_mat\n",
    "\n",
    "# def save_kwargs(kwargs_dict, kwargs_dict_name, data_save_dir):\n",
    "#     with open(data_save_dir+kwargs_dict_name+\".txt\", \"w\") as output_file:\n",
    "#         output_file.write(json.dumps(kwargs_dict))"
   ]
  },
  {
   "cell_type": "markdown",
   "metadata": {},
   "source": [
    "# Concatenate anomaly data for ML"
   ]
  },
  {
   "cell_type": "code",
   "execution_count": 18,
   "metadata": {},
   "outputs": [],
   "source": [
    "scaled_feats_dict = {\n",
    "    stat_id : None\n",
    "    for stat_id in final_stations_list\n",
    "    if features_dict[stat_id].shape[1]==15\n",
    "}\n",
    "for stat_id in final_stations_list:\n",
    "    \n",
    "    df_to_scale = copy.deepcopy(features_dict[stat_id]).drop(columns=[\"p_official\", \"t_official\"])\n",
    "    \n",
    "    if df_to_scale.shape[1]==15:\n",
    "#         df_to_scale[(df_to_scale == -99999)] = pd.NA\n",
    "#         df_to_scale = df_to_scale.interpolate(method=\"time\", axis=0)\n",
    "#         df_to_scale = df_to_scale.fillna(method=\"bfill\", axis=0)\n",
    "        scaler = StandardScaler(with_mean=True)\n",
    "        feats_scaled_array = scaler.fit_transform(df_to_scale)\n",
    "#         if np.isnan(feats_scaled_array).sum() == 0:\n",
    "        scaled_feats_dict[stat_id] = copy.deepcopy(feats_scaled_array)\n",
    "    \n",
    "    else:\n",
    "        continue\n",
    "\n",
    "t = [stat_tuple[1] for stat_tuple in scaled_feats_dict.items()]\n",
    "scaled_feats_array = np.concatenate(t, axis=0)"
   ]
  },
  {
   "cell_type": "code",
   "execution_count": 19,
   "metadata": {},
   "outputs": [],
   "source": [
    "for stat_id in final_stations_list:\n",
    "    \n",
    "    df_to_scale = copy.deepcopy(features_dict[stat_id]).drop(columns=[\"p_official\", \"t_official\"])\n",
    "    \n",
    "    if df_to_scale.shape[1]==15:\n",
    "#         df_to_scale[(df_to_scale == -99999)] = pd.NA\n",
    "#         df_to_scale = df_to_scale.interpolate(method=\"time\", axis=0)\n",
    "#         df_to_scale = df_to_scale.fillna(method=\"bfill\", axis=0)\n",
    "        scaler = StandardScaler(with_mean=True)\n",
    "        feats_scaled_array = scaler.fit_transform(df_to_scale)\n",
    "        feats_scaled_df = pd.DataFrame(data=feats_scaled_array, index=df_to_scale.index, columns=df_to_scale.columns)\n",
    "#         if np.isnan(feats_scaled_array).sum() == 0:\n",
    "        scaled_feats_dict[stat_id] = copy.deepcopy(feats_scaled_df)\n",
    "    else:\n",
    "        continue\n",
    "\n",
    "final_station_ids_list = [stat_id for stat_id in scaled_feats_dict.keys()]        \n",
    "\n",
    "features_dfs_list = [scaled_feats_dict[station_id] for station_id in final_station_ids_list]\n",
    "targets_dfs_list = [targets_dict[station_id] for station_id in final_station_ids_list]\n",
    "\n",
    "scaled_feats_df = pd.concat(features_dfs_list, axis=0)\n",
    "targs_df = pd.concat(targets_dfs_list, axis=0)"
   ]
  },
  {
   "cell_type": "code",
   "execution_count": 20,
   "metadata": {},
   "outputs": [],
   "source": [
    "combined_scaledfeats_targs_df = pd.concat([scaled_feats_df,targs_df], axis=1)\n",
    "\n",
    "# This takes a COUPLE MINUTES TO RUN. So, only re-run if necessary!!\n",
    "# # combined_scaledfeats_targs_df.to_csv(\"../data/combined_scaledfeats_targs_df.csv\")"
   ]
  },
  {
   "cell_type": "code",
   "execution_count": 21,
   "metadata": {},
   "outputs": [
    {
     "name": "stdout",
     "output_type": "stream",
     "text": [
      "(627937, 16)\n"
     ]
    }
   ],
   "source": [
    "print(combined_scaledfeats_targs_df.shape)"
   ]
  },
  {
   "cell_type": "code",
   "execution_count": 22,
   "metadata": {},
   "outputs": [],
   "source": [
    "combined_scaledfeats_targs_NONAN_df = combined_scaledfeats_targs_df.dropna(how=\"any\", axis=0)"
   ]
  },
  {
   "cell_type": "code",
   "execution_count": 23,
   "metadata": {},
   "outputs": [],
   "source": [
    "# Re-isolate the targets and then combine them into a 1-D pd.series. \n",
    "# Whenever a row has at least one anomaly, then we will collapse that row's \n",
    "# values to a single value of 1. Rows with no anomalies shall be labeled as 0.\n",
    "ml_targs_df = combined_scaledfeats_targs_NONAN_df.iloc[:, 15]"
   ]
  },
  {
   "cell_type": "code",
   "execution_count": 24,
   "metadata": {},
   "outputs": [],
   "source": [
    "# Re-isolate the ML-ready features.\n",
    "ml_feats_df = combined_scaledfeats_targs_NONAN_df.iloc[:, :15]"
   ]
  },
  {
   "cell_type": "markdown",
   "metadata": {},
   "source": [
    "### Calculate the percentage of the ML-ready data that are anomalies"
   ]
  },
  {
   "cell_type": "code",
   "execution_count": 70,
   "metadata": {},
   "outputs": [
    {
     "name": "stdout",
     "output_type": "stream",
     "text": [
      "2.32% of the data are anomalies.\n"
     ]
    }
   ],
   "source": [
    "percentage_anomalies = np.round(100 * (ml_targs_df != \"\").sum()/ml_targs_df.shape[0], 2 )\n",
    "\n",
    "print(f\"{percentage_anomalies}% of the data are anomalies.\")"
   ]
  },
  {
   "cell_type": "code",
   "execution_count": 34,
   "metadata": {},
   "outputs": [
    {
     "name": "stdout",
     "output_type": "stream",
     "text": [
      "Makeup by class\n",
      "###############\n",
      "normal: 97.68 %\n",
      "spike: 0.52 %\n",
      "noise: 1.8 %\n"
     ]
    }
   ],
   "source": [
    "print(\"Makeup by class\")\n",
    "print(\"###############\")\n",
    "for label in ml_targs_df.unique():\n",
    "    num_labels = (ml_targs_df == label).sum()\n",
    "    if label==\"\":\n",
    "        label=\"normal\"\n",
    "    print(label+\":\", np.round(100*num_labels/ml_targs_df.shape[0],2),\"%\")"
   ]
  },
  {
   "cell_type": "markdown",
   "metadata": {},
   "source": [
    "# Attempt some ML! Yewwwwww!"
   ]
  },
  {
   "cell_type": "code",
   "execution_count": 40,
   "metadata": {},
   "outputs": [],
   "source": [
    "from sklearn.model_selection import StratifiedShuffleSplit"
   ]
  },
  {
   "cell_type": "code",
   "execution_count": 92,
   "metadata": {},
   "outputs": [],
   "source": [
    "features = combined_scaledfeats_targs_NONAN_df.iloc[:,0:15]\n",
    "\n",
    "targets = combined_scaledfeats_targs_NONAN_df[\"TAGS\"].to_frame()\n",
    "\n",
    "cv = StratifiedShuffleSplit(n_splits=5, random_state=7)\n",
    "\n",
    "splits = [split_indices for split_indices in cv.split(features.values, targets.values)]\n",
    "\n",
    "classer_init_kwargs = {\n",
    "    \"n_estimators\":1000,\n",
    "    \"learning_rate\":0.5,\n",
    "    \"n_jobs\":-1,\n",
    "    \"objective\":\"multi:softmax\",\n",
    "}\n",
    "\n",
    "fitting_kwargs = {\n",
    "    \"early_stopping_rounds\":50,\n",
    "    \"eval_metric\":\"merror\"\n",
    "}\n",
    "\n",
    "modding_dirs = \"untuned_classifier/\"\n",
    "\n",
    "# Define caching directories.\n",
    "master_dir = \"20210504_XGB_MC/\"\n",
    "plot_dir = \"plots/\" + master_dir + modding_dirs\n",
    "data_save_dir = \"data/\" + master_dir + modding_dirs\n",
    "check_mkdirs(plot_dir, data_save_dir)\n",
    "\n",
    "# Initialize classifier object.\n",
    "classer = xgb.XGBClassifier(**classer_init_kwargs)\n",
    "\n",
    "# Calculate the training and testing confusion matrices with the classifier and \n",
    "train_df, test_df = confusion_score_model(\n",
    "    classer,\n",
    "    features,\n",
    "    targets,\n",
    "    cv_splits=splits, \n",
    "    **fitting_kwargs\n",
    ")\n",
    "\n",
    "train_df = fix_conf_mat_labels(train_df)\n",
    "test_df = fix_conf_mat_labels(test_df)"
   ]
  },
  {
   "cell_type": "code",
   "execution_count": 94,
   "metadata": {},
   "outputs": [
    {
     "ename": "NameError",
     "evalue": "name 'json' is not defined",
     "output_type": "error",
     "traceback": [
      "\u001b[0;31m---------------------------------------------------------------------------\u001b[0m",
      "\u001b[0;31mNameError\u001b[0m                                 Traceback (most recent call last)",
      "\u001b[0;32m<ipython-input-94-d04b0ce933bb>\u001b[0m in \u001b[0;36m<module>\u001b[0;34m\u001b[0m\n\u001b[1;32m      7\u001b[0m )\n\u001b[1;32m      8\u001b[0m \u001b[0;34m\u001b[0m\u001b[0m\n\u001b[0;32m----> 9\u001b[0;31m \u001b[0msave_kwargs\u001b[0m\u001b[0;34m(\u001b[0m\u001b[0mclasser_init_kwargs\u001b[0m\u001b[0;34m,\u001b[0m \u001b[0;34m\"classer_init_kwargs\"\u001b[0m\u001b[0;34m,\u001b[0m \u001b[0mdata_save_dir\u001b[0m\u001b[0;34m)\u001b[0m\u001b[0;34m\u001b[0m\u001b[0;34m\u001b[0m\u001b[0m\n\u001b[0m\u001b[1;32m     10\u001b[0m \u001b[0msave_kwargs\u001b[0m\u001b[0;34m(\u001b[0m\u001b[0mfitting_kwargs\u001b[0m\u001b[0;34m,\u001b[0m \u001b[0;34m\"fitting_kwargs\"\u001b[0m\u001b[0;34m,\u001b[0m \u001b[0mdata_save_dir\u001b[0m\u001b[0;34m)\u001b[0m\u001b[0;34m\u001b[0m\u001b[0;34m\u001b[0m\u001b[0m\n",
      "\u001b[0;32m<ipython-input-35-6b60c74c8f29>\u001b[0m in \u001b[0;36msave_kwargs\u001b[0;34m(kwargs_dict, kwargs_dict_name, data_save_dir)\u001b[0m\n\u001b[1;32m     84\u001b[0m \u001b[0;32mdef\u001b[0m \u001b[0msave_kwargs\u001b[0m\u001b[0;34m(\u001b[0m\u001b[0mkwargs_dict\u001b[0m\u001b[0;34m,\u001b[0m \u001b[0mkwargs_dict_name\u001b[0m\u001b[0;34m,\u001b[0m \u001b[0mdata_save_dir\u001b[0m\u001b[0;34m)\u001b[0m\u001b[0;34m:\u001b[0m\u001b[0;34m\u001b[0m\u001b[0;34m\u001b[0m\u001b[0m\n\u001b[1;32m     85\u001b[0m     \u001b[0;32mwith\u001b[0m \u001b[0mopen\u001b[0m\u001b[0;34m(\u001b[0m\u001b[0mdata_save_dir\u001b[0m\u001b[0;34m+\u001b[0m\u001b[0mkwargs_dict_name\u001b[0m\u001b[0;34m+\u001b[0m\u001b[0;34m\".txt\"\u001b[0m\u001b[0;34m,\u001b[0m \u001b[0;34m\"w\"\u001b[0m\u001b[0;34m)\u001b[0m \u001b[0;32mas\u001b[0m \u001b[0moutput_file\u001b[0m\u001b[0;34m:\u001b[0m\u001b[0;34m\u001b[0m\u001b[0;34m\u001b[0m\u001b[0m\n\u001b[0;32m---> 86\u001b[0;31m         \u001b[0moutput_file\u001b[0m\u001b[0;34m.\u001b[0m\u001b[0mwrite\u001b[0m\u001b[0;34m(\u001b[0m\u001b[0mjson\u001b[0m\u001b[0;34m.\u001b[0m\u001b[0mdumps\u001b[0m\u001b[0;34m(\u001b[0m\u001b[0mkwargs_dict\u001b[0m\u001b[0;34m)\u001b[0m\u001b[0;34m)\u001b[0m\u001b[0;34m\u001b[0m\u001b[0;34m\u001b[0m\u001b[0m\n\u001b[0m",
      "\u001b[0;31mNameError\u001b[0m: name 'json' is not defined"
     ]
    }
   ],
   "source": [
    "# Cache the confusion matrices.\n",
    "misc.pickle_dump(\n",
    "    data_save_dir+\"train_df_\"+modding_dirs[:-1]+\".pickle\", train_df\n",
    ")\n",
    "misc.pickle_dump(\n",
    "    data_save_dir+\"test_df_\"+modding_dirs[:-1]+\".pickle\", test_df\n",
    ")\n",
    "\n",
    "# save_kwargs(classer_init_kwargs, \"classer_init_kwargs\", data_save_dir)\n",
    "# save_kwargs(fitting_kwargs, \"fitting_kwargs\", data_save_dir)"
   ]
  },
  {
   "cell_type": "code",
   "execution_count": 105,
   "metadata": {},
   "outputs": [
    {
     "data": {
      "image/png": "[encoded data removed]",
      "text/plain": [
       "<Figure size 1008x720 with 2 Axes>"
      ]
     },
     "metadata": {
      "needs_background": "light"
     },
     "output_type": "display_data"
    },
    {
     "data": {
      "image/png": "[encoded data removed]",
      "text/plain": [
       "<Figure size 1008x720 with 2 Axes>"
      ]
     },
     "metadata": {
      "needs_background": "light"
     },
     "output_type": "display_data"
    }
   ],
   "source": [
    "def plot_confusion_matrix(\n",
    "        cm_df,\n",
    "        title=None,\n",
    "        cmap=plt.cm.Blues,\n",
    "        fontsize=12,\n",
    "        fontcolor=None,\n",
    "        num_round=4,\n",
    "        plot_top=0.88,\n",
    "        cbar_ticks=None,\n",
    "        cbar_min_divisor=2,\n",
    "        figsize=None\n",
    "):\n",
    "    \"\"\"\n",
    "    Create and return a matplotlib figure representing a confusion matrix.\n",
    "\n",
    "    Input:\n",
    "        cm_df : pandas.DataFrame\n",
    "            a pandas dataframe representing a confusion matrix\n",
    "        title : str\n",
    "            a plot title\n",
    "        cmap : color map\n",
    "            some pyplot colormap to use in plotting\n",
    "        fontsize : int\n",
    "            how large the text in each posititon of the matrix should be\n",
    "        fontcolor : str\n",
    "            the color that the text in each position of the matrix\n",
    "    Return: pyplot.figure\n",
    "        a figure object representing the plot\n",
    "\"\"\"\n",
    "\n",
    "    # Set figure title.\n",
    "    if title is None:\n",
    "        title = 'Confusion matrix'\n",
    "\n",
    "    # Set figure fontcolor.\n",
    "    if fontcolor is None:\n",
    "        fontcolor = \"black\"\n",
    "    \n",
    "    if figsize is None:\n",
    "        figsize = (14, 10)\n",
    "\n",
    "    conf_mat = cm_df.values\n",
    "    conf_mat_nozeros = cm_df.copy()\n",
    "    #     conf_mat_nozeros['Sum'] = 0\n",
    "    #     conf_mat_nozeros.loc['Sum'] = 0\n",
    "    conf_mat_nozeros = conf_mat_nozeros.values\n",
    "\n",
    "    # Get class names.\n",
    "    classes = cm_df.index\n",
    "\n",
    "    # Set color bar ticks and format their labels.\n",
    "    if cbar_ticks is None:\n",
    "        cbar_ticks = [0.001, 0.01, 0.1, 0.2, 0.4, 0.8, 1.0]\n",
    "    cbar_tick_labels = [str(label) for label in cbar_ticks]\n",
    "\n",
    "    # Set color bar minimum and maximum.\n",
    "    cbar_min = np.min(\n",
    "        [i for i in cm_df.values.ravel() if i > 0]) / cbar_min_divisor\n",
    "    cbar_max = np.max([i for i in cm_df.values.ravel() if i < 1])\n",
    "\n",
    "    # Eliminate actual zeros from plotting data.\n",
    "    for i, row in enumerate(conf_mat):\n",
    "        for j, col in enumerate(row):\n",
    "            if col < cbar_min:\n",
    "                conf_mat_nozeros[i, j] = cbar_min\n",
    "\n",
    "    # Initialize figure and axes objects and plot colored cells.\n",
    "    fig, ax = plt.subplots(\n",
    "        1,\n",
    "        1,\n",
    "        figsize=figsize\n",
    "    )\n",
    "    cax = ax.imshow(\n",
    "        conf_mat_nozeros,\n",
    "        interpolation='nearest',\n",
    "        cmap=cmap,\n",
    "        norm=LogNorm(vmin=cbar_min, vmax=cbar_max)\n",
    "    )\n",
    "\n",
    "    # Add color bar, figure title, labels, and axis ticks.\n",
    "    cbar = fig.colorbar(cax, ax=ax, ticks=cbar_ticks)\n",
    "    cbar.ax.set_yticklabels(cbar_tick_labels)\n",
    "    fig.suptitle(\n",
    "        title,\n",
    "        **{'x': 0.53, 'y': 0.97}\n",
    "    )\n",
    "    ax.set_ylabel('True label')\n",
    "    ax.set_xlabel('Predicted label')\n",
    "    ticks = list(range(len(classes)))\n",
    "    plt.xticks(ticks, classes, rotation=45)\n",
    "    plt.yticks(ticks, classes)\n",
    "    ax.tick_params(axis=u'both', which=u'both', length=0)\n",
    "\n",
    "    # Add numerical values to the matrix's cells.\n",
    "    for i in range(conf_mat.shape[0]):\n",
    "        for j in range(conf_mat.shape[1]):\n",
    "            ax.text(\n",
    "                j,\n",
    "                i,\n",
    "                # conf_mat[i, j],\n",
    "                '{results:.{digits}f}'.format(\n",
    "                    results=conf_mat[i, j],\n",
    "                    digits=num_round\n",
    "                    ),\n",
    "                horizontalalignment=\"center\",\n",
    "                color=fontcolor,\n",
    "                fontsize=fontsize\n",
    "            )\n",
    "\n",
    "#     # Add borders to the summation row and column.\n",
    "#     p = patches.Rectangle(\n",
    "#         (-0.45, 6.5),\n",
    "#         7.9,\n",
    "#         0.95,\n",
    "#         fill=False,\n",
    "#         linewidth=3,\n",
    "#         edgecolor='black'\n",
    "#     )\n",
    "#     ax.add_patch(p)\n",
    "#     p = patches.Rectangle(\n",
    "#         (6.5, -0.45),\n",
    "#         0.95,\n",
    "#         7.9,\n",
    "#         fill=False,\n",
    "#         linewidth=3,\n",
    "#         edgecolor='black'\n",
    "#     )\n",
    "#     ax.add_patch(p)\n",
    "\n",
    "    # Format final image for saving.\n",
    "    plt.tight_layout()\n",
    "    plt.subplots_adjust(top=plot_top)\n",
    "\n",
    "    return fig, ax\n",
    "\n",
    "\n",
    "# Plot the confusion matrices.\n",
    "fig, ax = plot_confusion_matrix(\n",
    "    train_df.divide(train_df[\"sum\"], axis=0),\n",
    "    title=\"Train CM\",\n",
    ")\n",
    "fig.savefig(plot_dir+\"train_df_\"+modding_dirs[:-1]+\".pdf\")\n",
    "\n",
    "fig, ax = plot_confusion_matrix(\n",
    "    test_df.divide(test_df[\"sum\"], axis=0),\n",
    "    title=\"Test CM\",\n",
    ")\n",
    "fig.savefig(plot_dir+\"test_df_\"+modding_dirs[:-1]+\".pdf\")"
   ]
  },
  {
   "cell_type": "code",
   "execution_count": 139,
   "metadata": {},
   "outputs": [],
   "source": [
    "col_idx_names = [\"\", \"spike\", \"noise\", \"sum\"]\n",
    "\n",
    "RF_cf = np.array(\n",
    "    [[9.76582046e-01, 1.86324424e-04, 3.98129112e-05, 0], \n",
    "     [4.92087582e-04, 1.74587578e-02, 0.00000000e+00, 0], \n",
    "     [3.39206003e-04, 1.59251645e-06, 4.90017311e-03, 0], \n",
    "    ]\n",
    ")\n",
    "\n",
    "RF_cf_df = pd.DataFrame(\n",
    "    data=RF_cf, \n",
    "    columns=col_idx_names, \n",
    "    index=[\"\", \"spike\", \"noise\",]\n",
    ")\n",
    "\n",
    "RF_cf_df.loc[:, \"sum\"] = RF_cf_df.sum(axis=0)\n",
    "# RF_cf_df.loc[\"sum\", :] = RF_cf.sum(axis=1)"
   ]
  },
  {
   "cell_type": "code",
   "execution_count": 141,
   "metadata": {},
   "outputs": [
    {
     "data": {
      "image/png": "[encoded data removed]",
      "text/plain": [
       "<Figure size 1008x720 with 2 Axes>"
      ]
     },
     "metadata": {
      "needs_background": "light"
     },
     "output_type": "display_data"
    }
   ],
   "source": [
    "# Plot the confusion matrices.\n",
    "fig, ax = plot_confusion_matrix(\n",
    "    RF_cf_df.divide(RF_cf_df[\"sum\"], axis=0),\n",
    "    title=\"RF test CM\",\n",
    ")\n",
    "fig.savefig(plot_dir+\"RF_test_df_\"+modding_dirs[:-1]+\".pdf\")"
   ]
  }
 ],
 "metadata": {
  "kernelspec": {
   "display_name": "Python 3",
   "language": "python",
   "name": "python3"
  },
  "language_info": {
   "codemirror_mode": {
    "name": "ipython",
    "version": 3
   },
   "file_extension": ".py",
   "mimetype": "text/x-python",
   "name": "python",
   "nbconvert_exporter": "python",
   "pygments_lexer": "ipython3",
   "version": "3.8.5"
  }
 },
 "nbformat": 4,
 "nbformat_minor": 4
}
