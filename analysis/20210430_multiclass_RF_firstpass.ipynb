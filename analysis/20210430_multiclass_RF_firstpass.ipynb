{
 "cells": [
  {
   "cell_type": "code",
   "execution_count": 51,
   "metadata": {},
   "outputs": [],
   "source": [
    "import copy\n",
    "import matplotlib.pyplot as plt\n",
    "import numpy as np\n",
    "import os\n",
    "import pandas as pd\n",
    "\n",
    "from datetime import datetime\n",
    "from matplotlib.colors import LogNorm\n",
    "from sklearn.decomposition import PCA\n",
    "from sklearn.preprocessing import StandardScaler"
   ]
  },
  {
   "cell_type": "code",
   "execution_count": 4,
   "metadata": {},
   "outputs": [],
   "source": [
    "data_dir = \"../data/multiclass/\"\n",
    "station_filenames_list = [\n",
    "    filename for filename in os.listdir(path=data_dir)\n",
    "    if filename[-7:]==\".pickle\"\n",
    "]\n",
    "\n",
    "file_path = \"../data/acclima_stations_id_list.txt\"\n",
    "acclima_stations_list = pd.read_csv(file_path, header=None).iloc[:,0].values.tolist()"
   ]
  },
  {
   "cell_type": "code",
   "execution_count": 5,
   "metadata": {},
   "outputs": [],
   "source": [
    "# Load features and targets into features and targets dictionaries, indexed\n",
    "# by station ID number.\n",
    "template_dict = {\n",
    "    station_id : None\n",
    "    for station_id in acclima_stations_list\n",
    "    if station_id!=\"53155\"\n",
    "}\n",
    "features_dict,targets_dict = copy.deepcopy(template_dict), copy.deepcopy(template_dict)\n",
    "del(template_dict)\n",
    "\n",
    "for fname in station_filenames_list:\n",
    "    station_id = fname.split(\"_\")[2].split(\".\")[0]\n",
    "    if station_id not in acclima_stations_list:\n",
    "        continue\n",
    "    elif station_id=='53155':\n",
    "        continue\n",
    "    elif \"features\" in fname:\n",
    "        features_dict[station_id] = pd.read_pickle(\n",
    "            data_dir+fname,\n",
    "        )\n",
    "    elif \"targets\" in fname:\n",
    "        targets_dict[station_id] = pd.read_pickle(\n",
    "            data_dir+fname,\n",
    "        )"
   ]
  },
  {
   "cell_type": "code",
   "execution_count": 6,
   "metadata": {},
   "outputs": [],
   "source": [
    "final_stations_list = [\n",
    "    station_id for station_id in features_dict.keys()\n",
    "]"
   ]
  },
  {
   "cell_type": "code",
   "execution_count": 7,
   "metadata": {},
   "outputs": [],
   "source": [
    "# Got the following station ID info from this URL:\n",
    "# https://mesonet.agron.iastate.edu/sites/site.php?station=23906&network=USCRN\n",
    "port_aransas_stat_id = \"23906\"\n",
    "feats_df_port_aransas = features_dict[port_aransas_stat_id]\n",
    "targs_df_port_aransas = targets_dict[port_aransas_stat_id]\n",
    "\n",
    "# Got the following date-exclusion idea from here:\n",
    "# https://stackoverflow.com/questions/55680603/pandas-filter-on-datetimeindex-by-excluding-date-range\n",
    "exclusion_dates = pd.date_range(start=\"2019-08-01\", end=\"2019-09-01\")\n",
    "\n",
    "features_dict[port_aransas_stat_id] = feats_df_port_aransas.loc[~feats_df_port_aransas.index.isin(exclusion_dates)]\n",
    "\n",
    "targets_dict[port_aransas_stat_id] = targs_df_port_aransas.loc[~targs_df_port_aransas.index.isin(exclusion_dates)]"
   ]
  },
  {
   "cell_type": "markdown",
   "metadata": {},
   "source": [
    "# Explore!"
   ]
  },
  {
   "cell_type": "code",
   "execution_count": 10,
   "metadata": {},
   "outputs": [],
   "source": [
    "scaled_feats_dict = {\n",
    "    stat_id : None\n",
    "    for stat_id in final_stations_list\n",
    "    if features_dict[stat_id].shape[1]==15\n",
    "}\n",
    "for stat_id in final_stations_list:\n",
    "    \n",
    "    df_to_scale = copy.deepcopy(features_dict[stat_id]).drop(columns=[\"p_official\", \"t_official\"])\n",
    "    \n",
    "    if df_to_scale.shape[1]==15:\n",
    "#         df_to_scale[(df_to_scale == -99999)] = pd.NA\n",
    "#         df_to_scale = df_to_scale.interpolate(method=\"time\", axis=0)\n",
    "#         df_to_scale = df_to_scale.fillna(method=\"bfill\", axis=0)\n",
    "        scaler = StandardScaler(with_mean=True)\n",
    "        feats_scaled_array = scaler.fit_transform(df_to_scale)\n",
    "#         if np.isnan(feats_scaled_array).sum() == 0:\n",
    "        scaled_feats_dict[stat_id] = copy.deepcopy(feats_scaled_array)\n",
    "    \n",
    "    else:\n",
    "        continue\n",
    "\n",
    "t = [stat_tuple[1] for stat_tuple in scaled_feats_dict.items()]\n",
    "scaled_feats_array = np.concatenate(t, axis=0)"
   ]
  },
  {
   "cell_type": "code",
   "execution_count": 11,
   "metadata": {},
   "outputs": [
    {
     "data": {
      "image/png": "[encoded data removed]",
      "text/plain": [
       "<Figure size 432x288 with 1 Axes>"
      ]
     },
     "metadata": {
      "needs_background": "light"
     },
     "output_type": "display_data"
    },
    {
     "name": "stdout",
     "output_type": "stream",
     "text": [
      "The first 3 explain 0.5792524612640002 of the variance.\n"
     ]
    }
   ],
   "source": [
    "pca = PCA()\n",
    "pca_scaled_feats_array = pca.fit_transform(scaled_feats_array)\n",
    "evr = pca.explained_variance_ratio_\n",
    "x = [i for i in range(len(evr))]\n",
    "plt.scatter(x, evr)\n",
    "plt.title(\"PCA explained variance ratios over\\nall ACCLIMA stations with full sensor suite\")\n",
    "plt.xlabel(\"Principle component\")\n",
    "plt.ylabel(\"Explained variance ratio (%)\")\n",
    "\n",
    "plt.tight_layout()\n",
    "# plt.savefig(\"../plots/PCA_EVR_allstations_allsensors.png\", dpi=300)\n",
    "plt.show()\n",
    "num_PC_to_sum = 3\n",
    "print(\"The first\", num_PC_to_sum, \"explain\", sum(evr[:num_PC_to_sum]), \"of the variance.\")"
   ]
  },
  {
   "cell_type": "markdown",
   "metadata": {},
   "source": [
    "# Concatenate anomaly data for ML"
   ]
  },
  {
   "cell_type": "code",
   "execution_count": 12,
   "metadata": {},
   "outputs": [],
   "source": [
    "for stat_id in final_stations_list:\n",
    "    \n",
    "    df_to_scale = copy.deepcopy(features_dict[stat_id]).drop(columns=[\"p_official\", \"t_official\"])\n",
    "    \n",
    "    if df_to_scale.shape[1]==15:\n",
    "#         df_to_scale[(df_to_scale == -99999)] = pd.NA\n",
    "#         df_to_scale = df_to_scale.interpolate(method=\"time\", axis=0)\n",
    "#         df_to_scale = df_to_scale.fillna(method=\"bfill\", axis=0)\n",
    "        scaler = StandardScaler(with_mean=True)\n",
    "        feats_scaled_array = scaler.fit_transform(df_to_scale)\n",
    "        feats_scaled_df = pd.DataFrame(data=feats_scaled_array, index=df_to_scale.index, columns=df_to_scale.columns)\n",
    "#         if np.isnan(feats_scaled_array).sum() == 0:\n",
    "        scaled_feats_dict[stat_id] = copy.deepcopy(feats_scaled_df)\n",
    "    else:\n",
    "        continue\n",
    "\n",
    "final_station_ids_list = [stat_id for stat_id in scaled_feats_dict.keys()]        \n",
    "\n",
    "features_dfs_list = [scaled_feats_dict[station_id] for station_id in final_station_ids_list]\n",
    "targets_dfs_list = [targets_dict[station_id] for station_id in final_station_ids_list]\n",
    "\n",
    "scaled_feats_df = pd.concat(features_dfs_list, axis=0)\n",
    "targs_df = pd.concat(targets_dfs_list, axis=0)"
   ]
  },
  {
   "cell_type": "code",
   "execution_count": 13,
   "metadata": {},
   "outputs": [],
   "source": [
    "combined_scaledfeats_targs_df = pd.concat([scaled_feats_df,targs_df], axis=1)\n",
    "\n",
    "# This takes a COUPLE MINUTES TO RUN. So, only re-run if necessary!!\n",
    "# # combined_scaledfeats_targs_df.to_csv(\"../data/combined_scaledfeats_targs_df.csv\")"
   ]
  },
  {
   "cell_type": "code",
   "execution_count": 14,
   "metadata": {},
   "outputs": [
    {
     "name": "stdout",
     "output_type": "stream",
     "text": [
      "(627937, 16)\n"
     ]
    }
   ],
   "source": [
    "print(combined_scaledfeats_targs_df.shape)"
   ]
  },
  {
   "cell_type": "code",
   "execution_count": 15,
   "metadata": {},
   "outputs": [],
   "source": [
    "combined_scaledfeats_targs_NONAN_df = combined_scaledfeats_targs_df.dropna(how=\"any\", axis=0)"
   ]
  },
  {
   "cell_type": "code",
   "execution_count": 16,
   "metadata": {},
   "outputs": [],
   "source": [
    "# Re-isolate the targets and then combine them into a 1-D pd.series. \n",
    "# Whenever a row has at least one anomaly, then we will collapse that row's \n",
    "# values to a single value of 1. Rows with no anomalies shall be labeled as 0.\n",
    "ml_targs_df = combined_scaledfeats_targs_NONAN_df.iloc[:, 15]"
   ]
  },
  {
   "cell_type": "code",
   "execution_count": 17,
   "metadata": {},
   "outputs": [],
   "source": [
    "# Re-isolate the ML-ready features.\n",
    "ml_feats_df = combined_scaledfeats_targs_NONAN_df.iloc[:, :15]"
   ]
  },
  {
   "cell_type": "markdown",
   "metadata": {},
   "source": [
    "### Calculate the percentage of the ML-ready data that are anomalies"
   ]
  },
  {
   "cell_type": "code",
   "execution_count": 18,
   "metadata": {},
   "outputs": [
    {
     "name": "stdout",
     "output_type": "stream",
     "text": [
      "2.32% of the data are anomalies.\n"
     ]
    }
   ],
   "source": [
    "percentage_anomalies = np.round(100 * (ml_targs_df != \"\").sum()/ml_targs_df.shape[0], 2 )\n",
    "\n",
    "print(f\"{percentage_anomalies}% of the data are anomalies.\")"
   ]
  },
  {
   "cell_type": "markdown",
   "metadata": {},
   "source": [
    "# Attempt some ML! Yewwwwww!"
   ]
  },
  {
   "cell_type": "code",
   "execution_count": 19,
   "metadata": {},
   "outputs": [],
   "source": [
    "import seaborn\n",
    "\n",
    "from sklearn.metrics import confusion_matrix\n",
    "from sklearn.model_selection import cross_val_score, StratifiedKFold, GridSearchCV\n",
    "from sklearn.ensemble import RandomForestClassifier"
   ]
  },
  {
   "cell_type": "code",
   "execution_count": 27,
   "metadata": {},
   "outputs": [
    {
     "name": "stdout",
     "output_type": "stream",
     "text": [
      "0\n",
      "1\n",
      "2\n",
      "3\n",
      "4\n"
     ]
    }
   ],
   "source": [
    "X = ml_feats_df.values\n",
    "y = ml_targs_df.values\n",
    "\n",
    "# Initialize a random forest (RF) classifier object with the best hyperparameter \n",
    "# sets from the grid search.\n",
    "rf_classifier = RandomForestClassifier(n_jobs=-1)\n",
    "\n",
    "# Initialize a stratified 5-fold cross-validation object.  Make certain that it\n",
    "# randomly shuffles the data. AND, since it's randomly shuffling the data, make\n",
    "# certain that its random state is set to 7 (an arbitrary choice: it simply\n",
    "# needs to have a constant random state seed).\n",
    "stratified_kfold_generator = StratifiedKFold(\n",
    "    n_splits=5,\n",
    "    shuffle=True,\n",
    "    random_state=7\n",
    ")\n",
    "\n",
    "# Iterate through each of the splits and train/test both classifiers. We will \n",
    "# store the predictions in the following lists, \"classfication predictions_rf\" \n",
    "# and \"classfication predictions_xgb\".\n",
    "classification_train_rf = list()\n",
    "classification_test_rf = list()\n",
    "for idx, (train, test) in enumerate(stratified_kfold_generator.split(X, y)):\n",
    "    \n",
    "    print(idx)\n",
    "    \n",
    "    # Fit the classifiers to the training data. This erases the training from any\n",
    "    # previous iteration of the loop.\n",
    "    rf_classifier.fit(X[train], y[train].ravel())\n",
    "\n",
    "    # Have the newly trained classifiers predict the classes of the withheld testing data.\n",
    "    y_train_rf = rf_classifier.predict(X[train])\n",
    "    y_test_rf = rf_classifier.predict(X[test])\n",
    "\n",
    "    # Add the true class labels and the predicted class labels to the storage lists.\n",
    "    classification_train_rf.append((y[train].ravel(), y_train_rf.ravel()))\n",
    "    classification_test_rf.append((y[test].ravel(), y_test_rf.ravel()))"
   ]
  },
  {
   "cell_type": "code",
   "execution_count": 30,
   "metadata": {},
   "outputs": [
    {
     "name": "stderr",
     "output_type": "stream",
     "text": [
      "<ipython-input-30-b27c2bd03802>:33: UserWarning: Matplotlib is currently using module://ipykernel.pylab.backend_inline, which is a non-GUI backend, so cannot show the figure.\n",
      "  fig.show()\n"
     ]
    },
    {
     "data": {
      "image/png": "[encoded data removed]",
      "text/plain": [
       "<Figure size 504x360 with 2 Axes>"
      ]
     },
     "metadata": {
      "needs_background": "light"
     },
     "output_type": "display_data"
    }
   ],
   "source": [
    "def calculate_normalized_conf_matrix(classification_predictions):\n",
    "    cf = np.zeros((3,3))\n",
    "    for y_true, y_pred in classification_predictions:\n",
    "        cf += confusion_matrix(y_true, y_pred)\n",
    "    return cf/cf.sum()\n",
    "\n",
    "class_labels_list = [\"normal\", \"spike\", \"noise\"]\n",
    "\n",
    "# Loop through the cached predictions and calculate the confusion matrices for\n",
    "# both classifiers.\n",
    "cf_rf = calculate_normalized_conf_matrix(classification_test_rf)\n",
    "\n",
    "# Initialize figure and axes objects in order to plot the two confusion matrices.\n",
    "fig, ax = plt.subplots(1, 1, figsize=(7, 5))\n",
    "\n",
    "# Plot the random forest confusion matrix.\n",
    "seaborn.heatmap(\n",
    "    cf_rf, cmap=\"Reds\", annot=cf_rf, square=True, cbar=True,\n",
    "    xticklabels=class_labels_list, yticklabels=class_labels_list,\n",
    "    ax=ax\n",
    ")\n",
    "\n",
    "# Add labels to the x-axis and the y-axis.\n",
    "ax.set_xlabel(\"Predicted\", fontsize=16)\n",
    "ax.set_ylabel(\"True\", fontsize=16)\n",
    "\n",
    "# Add a title to the figure.\n",
    "fig.suptitle(\"Confusion matrix for lightly optimized RF classifer\\nof ACCLIMA sensor stations\")\n",
    "\n",
    "# plt.savefig(\"randomforest_confusion_matrix.png\", dpi=300)\n",
    "\n",
    "# Display the figure.\n",
    "fig.show()"
   ]
  },
  {
   "cell_type": "code",
   "execution_count": 32,
   "metadata": {},
   "outputs": [
    {
     "name": "stdout",
     "output_type": "stream",
     "text": [
      "confusion matrix: [[9.76572491e-01 1.87916941e-04 4.77754934e-05]\n",
      " [5.00050164e-04 1.74507952e-02 0.00000000e+00]\n",
      " [3.43983552e-04 1.59251645e-06 4.89539556e-03]]\n",
      "accuracy: 99.89%\n",
      "spikes: 97.21%\n",
      "noise: 93.41%\n"
     ]
    }
   ],
   "source": [
    "print(\"confusion matrix:\", cf_rf)\n",
    "\n",
    "# # Previous cf_rf w/out Port Aransas filtered.\n",
    "# array([[0.88232525, 0.00146891],\n",
    "#        [0.00401041, 0.11219543]])\n",
    "\n",
    "print(\n",
    "    \"accuracy:\", \n",
    "    str(np.round(100*(cf_rf[0,0]+cf_rf[1,1]+cf_rf[2,2]), 2))+\"%\"\n",
    ")\n",
    "\n",
    "# Look at how it performs on various anomalies.\n",
    "# Spikes.\n",
    "\n",
    "print(\n",
    "    \"spikes:\", \n",
    "    str(np.round(100*cf_rf[1,1]/cf_rf[1].sum(), 2))+\"%\"\n",
    ")\n",
    "\n",
    "# Noise.\n",
    "print(\n",
    "    \"noise:\",\n",
    "    str(np.round(100*cf_rf[2,2]/cf_rf[2].sum(), 2))+\"%\"\n",
    ")"
   ]
  },
  {
   "cell_type": "markdown",
   "metadata": {},
   "source": [
    "# Plot training and testing confusion matrices"
   ]
  },
  {
   "cell_type": "code",
   "execution_count": 53,
   "metadata": {},
   "outputs": [],
   "source": [
    "def plot_confusion_matrix(\n",
    "        cm_df,\n",
    "        title=None,\n",
    "        cmap=plt.cm.Blues,\n",
    "        fontsize=12,\n",
    "        fontcolor=None,\n",
    "        num_round=4,\n",
    "        plot_top=0.88,\n",
    "        cbar_ticks=None,\n",
    "        cbar_min_divisor=2,\n",
    "        figsize=None\n",
    "):\n",
    "    \"\"\"\n",
    "    Create and return a matplotlib figure representing a confusion matrix.\n",
    "\n",
    "    Input:\n",
    "        cm_df : pandas.DataFrame\n",
    "            a pandas dataframe representing a confusion matrix\n",
    "        title : str\n",
    "            a plot title\n",
    "        cmap : color map\n",
    "            some pyplot colormap to use in plotting\n",
    "        fontsize : int\n",
    "            how large the text in each posititon of the matrix should be\n",
    "        fontcolor : str\n",
    "            the color that the text in each position of the matrix\n",
    "    Return: pyplot.figure\n",
    "        a figure object representing the plot\n",
    "\"\"\"\n",
    "\n",
    "    # Set figure title.\n",
    "    if title is None:\n",
    "        title = 'Confusion matrix'\n",
    "\n",
    "    # Set figure fontcolor.\n",
    "    if fontcolor is None:\n",
    "        fontcolor = \"black\"\n",
    "    \n",
    "    if figsize is None:\n",
    "        figsize = (14, 10)\n",
    "\n",
    "    conf_mat = cm_df.values\n",
    "    conf_mat_nozeros = cm_df.copy()\n",
    "    #     conf_mat_nozeros['Sum'] = 0\n",
    "    #     conf_mat_nozeros.loc['Sum'] = 0\n",
    "    conf_mat_nozeros = conf_mat_nozeros.values\n",
    "\n",
    "    # Get class names.\n",
    "    classes = cm_df.index\n",
    "\n",
    "    # Set color bar ticks and format their labels.\n",
    "    if cbar_ticks is None:\n",
    "        cbar_ticks = [0.001, 0.01, 0.1, 0.2, 0.4, 0.8, 1.0]\n",
    "    cbar_tick_labels = [str(label) for label in cbar_ticks]\n",
    "\n",
    "    # Set color bar minimum and maximum.\n",
    "    cbar_min = np.min(\n",
    "        [i for i in cm_df.values.ravel() if i > 0]) / cbar_min_divisor\n",
    "    cbar_max = np.max([i for i in cm_df.values.ravel() if i < 1])\n",
    "\n",
    "    # Eliminate actual zeros from plotting data.\n",
    "    for i, row in enumerate(conf_mat):\n",
    "        for j, col in enumerate(row):\n",
    "            if col < cbar_min:\n",
    "                conf_mat_nozeros[i, j] = cbar_min\n",
    "\n",
    "    # Initialize figure and axes objects and plot colored cells.\n",
    "    fig, ax = plt.subplots(\n",
    "        1,\n",
    "        1,\n",
    "        figsize=figsize\n",
    "    )\n",
    "    cax = ax.imshow(\n",
    "        conf_mat_nozeros,\n",
    "        interpolation='nearest',\n",
    "        cmap=cmap,\n",
    "        norm=LogNorm(vmin=cbar_min, vmax=cbar_max)\n",
    "    )\n",
    "\n",
    "    # Add color bar, figure title, labels, and axis ticks.\n",
    "    cbar = fig.colorbar(cax, ax=ax, ticks=cbar_ticks)\n",
    "    cbar.ax.set_yticklabels(cbar_tick_labels)\n",
    "    fig.suptitle(\n",
    "        title,\n",
    "        **{'x': 0.53, 'y': 0.97}\n",
    "    )\n",
    "    ax.set_ylabel('True label')\n",
    "    ax.set_xlabel('Predicted label')\n",
    "    ticks = list(range(len(classes)))\n",
    "    plt.xticks(ticks, classes, rotation=45)\n",
    "    plt.yticks(ticks, classes)\n",
    "    ax.tick_params(axis=u'both', which=u'both', length=0)\n",
    "\n",
    "    # Add numerical values to the matrix's cells.\n",
    "    for i in range(conf_mat.shape[0]):\n",
    "        for j in range(conf_mat.shape[1]):\n",
    "            ax.text(\n",
    "                j,\n",
    "                i,\n",
    "                # conf_mat[i, j],\n",
    "                '{results:.{digits}f}'.format(\n",
    "                    results=conf_mat[i, j],\n",
    "                    digits=num_round\n",
    "                    ),\n",
    "                horizontalalignment=\"center\",\n",
    "                color=fontcolor,\n",
    "                fontsize=fontsize\n",
    "            )\n",
    "\n",
    "#     # Add borders to the summation row and column.\n",
    "#     p = patches.Rectangle(\n",
    "#         (-0.45, 6.5),\n",
    "#         7.9,\n",
    "#         0.95,\n",
    "#         fill=False,\n",
    "#         linewidth=3,\n",
    "#         edgecolor='black'\n",
    "#     )\n",
    "#     ax.add_patch(p)\n",
    "#     p = patches.Rectangle(\n",
    "#         (6.5, -0.45),\n",
    "#         0.95,\n",
    "#         7.9,\n",
    "#         fill=False,\n",
    "#         linewidth=3,\n",
    "#         edgecolor='black'\n",
    "#     )\n",
    "#     ax.add_patch(p)\n",
    "\n",
    "    # Format final image for saving.\n",
    "    plt.tight_layout()\n",
    "    plt.subplots_adjust(top=plot_top)\n",
    "\n",
    "    return fig, ax\n",
    "\n",
    "\n",
    "def to_frame(mat, unique_labels):\n",
    "    mat = pd.DataFrame(data=mat, index=unique_labels, columns=unique_labels)\n",
    "    mat.loc[:, 'sum'] = mat.sum(axis=1)\n",
    "    mat.loc['sum', :] = mat.sum(axis=0)\n",
    "    mat.index.name='True Label'\n",
    "    mat.columns.name='Predicted Label'\n",
    "    return mat\n",
    "\n",
    "\n",
    "def check_mkdirs(*paths):\n",
    "    for path in paths:\n",
    "        if not os.path.isdir(path):\n",
    "            os.makedirs(path)\n",
    "    return"
   ]
  },
  {
   "cell_type": "code",
   "execution_count": 49,
   "metadata": {},
   "outputs": [],
   "source": [
    "class_labels_list = [\"normal\", \"spike\", \"noise\"]\n",
    "\n",
    "# Loop through the cached predictions and calculate the confusion matrices for\n",
    "# both classifiers.\n",
    "train_cm = calculate_normalized_conf_matrix(classification_train_rf)\n",
    "test_cm = calculate_normalized_conf_matrix(classification_test_rf)\n",
    "\n",
    "train_df = to_frame(train_cm, class_labels_list)\n",
    "test_df = to_frame(test_cm, class_labels_list)"
   ]
  },
  {
   "cell_type": "code",
   "execution_count": 54,
   "metadata": {},
   "outputs": [
    {
     "data": {
      "image/png": "[encoded data removed]",
      "text/plain": [
       "<Figure size 1008x720 with 2 Axes>"
      ]
     },
     "metadata": {
      "needs_background": "light"
     },
     "output_type": "display_data"
    },
    {
     "data": {
      "image/png": "[encoded data removed]",
      "text/plain": [
       "<Figure size 1008x720 with 2 Axes>"
      ]
     },
     "metadata": {
      "needs_background": "light"
     },
     "output_type": "display_data"
    }
   ],
   "source": [
    "plot_dir = \"../plots/20210430_multiclass_RF_firstpass/\"\n",
    "check_mkdirs(plot_dir)\n",
    "\n",
    "# Plot the confusion matrices.\n",
    "fig, ax = plot_confusion_matrix(\n",
    "    train_df.divide(train_df[\"sum\"], axis=0),\n",
    "    title=\"Train CM\",\n",
    ")\n",
    "fig.savefig(plot_dir+\"train_df_RF_unoptimized.pdf\")\n",
    "\n",
    "fig, ax = plot_confusion_matrix(\n",
    "    test_df.divide(test_df[\"sum\"], axis=0),\n",
    "    title=\"Test CM\",\n",
    ")\n",
    "fig.savefig(plot_dir+\"test_df_RF_unoptimized.pdf\")"
   ]
  }
 ],
 "metadata": {
  "kernelspec": {
   "display_name": "Python 3",
   "language": "python",
   "name": "python3"
  },
  "language_info": {
   "codemirror_mode": {
    "name": "ipython",
    "version": 3
   },
   "file_extension": ".py",
   "mimetype": "text/x-python",
   "name": "python",
   "nbconvert_exporter": "python",
   "pygments_lexer": "ipython3",
   "version": "3.8.5"
  }
 },
 "nbformat": 4,
 "nbformat_minor": 4
}
