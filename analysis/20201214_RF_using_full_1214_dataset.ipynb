{
 "cells": [
  {
   "cell_type": "code",
   "execution_count": 1,
   "metadata": {},
   "outputs": [],
   "source": [
    "import copy\n",
    "import matplotlib.pyplot as plt\n",
    "import numpy as np\n",
    "import os\n",
    "import pandas as pd\n",
    "\n",
    "from sklearn.decomposition import PCA\n",
    "from sklearn.preprocessing import StandardScaler"
   ]
  },
  {
   "cell_type": "code",
   "execution_count": 2,
   "metadata": {},
   "outputs": [],
   "source": [
    "data_dir = \"../data/stations/\"\n",
    "station_filenames_list = [\n",
    "    filename for filename in os.listdir(path=data_dir)\n",
    "    if filename!=\".DS_Store\"\n",
    "]"
   ]
  },
  {
   "cell_type": "code",
   "execution_count": 18,
   "metadata": {},
   "outputs": [
    {
     "data": {
      "text/plain": [
       "230"
      ]
     },
     "execution_count": 18,
     "metadata": {},
     "output_type": "execute_result"
    }
   ],
   "source": [
    "len(station_id_array)"
   ]
  },
  {
   "cell_type": "code",
   "execution_count": 3,
   "metadata": {},
   "outputs": [],
   "source": [
    "station_id_array = [\n",
    "    filename.split(\"_\")[1].split(\".\")[0]\n",
    "    for filename in station_filenames_list\n",
    "]\n",
    "\n",
    "station_id_array = [\n",
    "    idx\n",
    "    for idx in station_id_array\n",
    "    if idx!=\"UN\"\n",
    "]"
   ]
  },
  {
   "cell_type": "code",
   "execution_count": 4,
   "metadata": {},
   "outputs": [],
   "source": [
    "# Load features and targets into features and targets dictionaries, indexed\n",
    "# by station ID number.\n",
    "template_dict = {\n",
    "    test_station_id : None\n",
    "    for test_station_id in station_id_array\n",
    "}\n",
    "features_dict,targets_dict = copy.deepcopy(template_dict), copy.deepcopy(template_dict)\n",
    "del(template_dict)\n",
    "\n",
    "for fname in station_filenames_list:\n",
    "    station_id = fname.split(\"_\")[1].split(\".\")[0]\n",
    "    if \"data\" in fname:\n",
    "        temp_feats_df = pd.read_csv(\n",
    "            data_dir+fname,\n",
    "            index_col=\"date\"\n",
    "        )\n",
    "        temp_feats_df.index = pd.to_datetime(temp_feats_df.index, format=\"%Y-%m-%d %H:%M:%S\")\n",
    "        features_dict[station_id] = temp_feats_df\n",
    "\n",
    "    if \"targets\" in fname:\n",
    "        temp_targs_df = pd.read_csv(\n",
    "            data_dir+fname,\n",
    "            index_col=\"date\"\n",
    "        )\n",
    "        temp_targs_df.index = pd.to_datetime(temp_targs_df.index, format=\"%Y-%m-%d %H:%M:%S\")\n",
    "        targets_dict[station_id] = temp_targs_df"
   ]
  },
  {
   "cell_type": "markdown",
   "metadata": {},
   "source": [
    "# Data sanity check (added 20210223_T)"
   ]
  },
  {
   "cell_type": "code",
   "execution_count": 20,
   "metadata": {},
   "outputs": [
    {
     "data": {
      "text/plain": [
       "116"
      ]
     },
     "execution_count": 20,
     "metadata": {},
     "output_type": "execute_result"
    }
   ],
   "source": [
    "len(features_dict.keys())"
   ]
  },
  {
   "cell_type": "code",
   "execution_count": 8,
   "metadata": {},
   "outputs": [
    {
     "name": "stdout",
     "output_type": "stream",
     "text": [
      "dict_keys(['23907', '23908', '53960', '53974', '54796', '04994', '53182', '53155', '53154', '54808', '54797', '63849', '53961', '23909', '23906', '94996', '23904', '63850', '54795', '54811', '03761', '54810', '54794', '94995', '63855', '63869', '03758', '53152', '03759', '53968', '63898', '63856', '04140', '53150', '04236', '04222', '04223', '04237', '53151', '22016', '04990', '63858', '04141', '63857', '94079', '12987', '04126', '03054', '54856', '53877', '53139', '53136', '03067', '53878', '64756', '03728', '03072', '53138', '03055', '03733', '64758', '04127', '13301', '63831', '04128', '54937', '94078', '94088', '94077', '94085', '94075', '63828', '92821', '04131', '53927', '04125', '54854', '53926', '04130', '63829', '63826', '93243', '94074', '94060', '94084', '94080', '54903', '26563', '03061', '94645', '94644', '23803', '53131', '03060', '03074', '03048', '03047', '63838', '54902', '94059', '94081', '54933', '04138', '04137', '92827', '03062', '03063', '53132', '03739', '92826', '04136', '93245', '04139', '54932', '94082', 'UN'])\n",
      "dict_keys(['23907', '23908', '53960', '53974', '54796', '04994', '53182', '53155', '53154', '54808', '54797', '63849', '53961', '23909', '23906', '94996', '23904', '63850', '54795', '54811', '03761', '54810', '54794', '94995', '63855', '63869', '03758', '53152', '03759', '53968', '63898', '63856', '04140', '53150', '04236', '04222', '04223', '04237', '53151', '22016', '04990', '63858', '04141', '63857', '94079', '12987', '04126', '03054', '54856', '53877', '53139', '53136', '03067', '53878', '64756', '03728', '03072', '53138', '03055', '03733', '64758', '04127', '13301', '63831', '04128', '54937', '94078', '94088', '94077', '94085', '94075', '63828', '92821', '04131', '53927', '04125', '54854', '53926', '04130', '63829', '63826', '93243', '94074', '94060', '94084', '94080', '54903', '26563', '03061', '94645', '94644', '23803', '53131', '03060', '03074', '03048', '03047', '63838', '54902', '94059', '94081', '54933', '04138', '04137', '92827', '03062', '03063', '53132', '03739', '92826', '04136', '93245', '04139', '54932', '94082', 'UN'])\n"
     ]
    }
   ],
   "source": [
    "print(features_dict.keys())\n",
    "print(targets_dict.keys())"
   ]
  },
  {
   "cell_type": "code",
   "execution_count": 15,
   "metadata": {},
   "outputs": [
    {
     "data": {
      "text/plain": [
       "sw1005     0\n",
       "sw1010     0\n",
       "sw1020     0\n",
       "sw1050     0\n",
       "sw1100     0\n",
       "sw2005     7\n",
       "sw2010     0\n",
       "sw2020     0\n",
       "sw2050     0\n",
       "sw2100     0\n",
       "sw3005    29\n",
       "sw3010     0\n",
       "sw3020     0\n",
       "sw3050     0\n",
       "sw3100     0\n",
       "dtype: int64"
      ]
     },
     "execution_count": 15,
     "metadata": {},
     "output_type": "execute_result"
    }
   ],
   "source": [
    "df = targets_dict[\"03047\"]\n",
    "df.sum()"
   ]
  },
  {
   "cell_type": "code",
   "execution_count": 16,
   "metadata": {},
   "outputs": [
    {
     "data": {
      "text/plain": [
       "sw1005           643.366\n",
       "sw1010           935.340\n",
       "sw1020           938.627\n",
       "sw1050          1083.068\n",
       "sw1100           780.996\n",
       "sw2005           714.662\n",
       "sw2010           643.431\n",
       "sw2020           962.192\n",
       "sw2050           892.408\n",
       "sw2100           716.234\n",
       "sw3005           628.636\n",
       "sw3010           389.874\n",
       "sw3020           942.413\n",
       "sw3050          1321.377\n",
       "sw3100           886.399\n",
       "p_official       850.200\n",
       "t_official    413883.471\n",
       "dtype: float64"
      ]
     },
     "execution_count": 16,
     "metadata": {},
     "output_type": "execute_result"
    }
   ],
   "source": [
    "df = features_dict[\"03047\"]\n",
    "df.sum()"
   ]
  },
  {
   "cell_type": "markdown",
   "metadata": {},
   "source": [
    "# Explore!"
   ]
  },
  {
   "cell_type": "code",
   "execution_count": 5,
   "metadata": {},
   "outputs": [],
   "source": [
    "scaled_feats_dict = {\n",
    "    stat_id : None\n",
    "    for stat_id in station_id_array\n",
    "    if features_dict[stat_id].shape[1]==15\n",
    "}\n",
    "for stat_id in station_id_array:\n",
    "    df_to_scale = copy.deepcopy(features_dict[stat_id]).drop(columns=[\"p_official\", \"t_official\"])\n",
    "    if df_to_scale.shape[1]==15:\n",
    "        df_to_scale[(df_to_scale == -99999)] = pd.NA\n",
    "        df_to_scale = df_to_scale.interpolate(method=\"time\", axis=0)\n",
    "        df_to_scale = df_to_scale.fillna(method=\"bfill\", axis=0)\n",
    "        scaler = StandardScaler(with_mean=True)\n",
    "        feats_scaled_array = scaler.fit_transform(df_to_scale)\n",
    "#         if np.isnan(feats_scaled_array).sum() == 0:\n",
    "        scaled_feats_dict[stat_id] = copy.deepcopy(feats_scaled_array)\n",
    "    else:\n",
    "        continue\n",
    "\n",
    "t = [stat_tuple[1] for stat_tuple in scaled_feats_dict.items()]\n",
    "scaled_feats_array = np.concatenate(t, axis=0)"
   ]
  },
  {
   "cell_type": "code",
   "execution_count": 6,
   "metadata": {},
   "outputs": [
    {
     "data": {
      "image/png": "[encoded data removed]",
      "text/plain": [
       "<Figure size 432x288 with 1 Axes>"
      ]
     },
     "metadata": {
      "needs_background": "light"
     },
     "output_type": "display_data"
    },
    {
     "name": "stdout",
     "output_type": "stream",
     "text": [
      "The first 3 explain 0.6561784399135542 of the variance.\n"
     ]
    }
   ],
   "source": [
    "pca = PCA()\n",
    "pca_scaled_feats_array = pca.fit_transform(scaled_feats_array)\n",
    "evr = pca.explained_variance_ratio_\n",
    "x = [i for i in range(len(evr))]\n",
    "plt.scatter(x, evr)\n",
    "plt.title(\"PCA explained variance ratios over\\nall stations with full sensor suite\")\n",
    "plt.xlabel(\"Principle component\")\n",
    "plt.ylabel(\"Explained variance ratio (%)\")\n",
    "\n",
    "plt.tight_layout()\n",
    "# plt.savefig(\"../plots/PCA_EVR_allstations_allsensors.png\", dpi=300)\n",
    "plt.show()\n",
    "num_PC_to_sum = 3\n",
    "print(\"The first\", num_PC_to_sum, \"explain\", sum(evr[:num_PC_to_sum]), \"of the variance.\")"
   ]
  },
  {
   "cell_type": "markdown",
   "metadata": {},
   "source": [
    "# Concatenate anomaly data for ML"
   ]
  },
  {
   "cell_type": "code",
   "execution_count": 7,
   "metadata": {},
   "outputs": [],
   "source": [
    "for stat_id in station_id_array:\n",
    "    df_to_scale = copy.deepcopy(features_dict[stat_id]).drop(columns=[\"p_official\", \"t_official\"])\n",
    "    if df_to_scale.shape[1]==15:\n",
    "        df_to_scale[(df_to_scale == -99999)] = pd.NA\n",
    "        df_to_scale = df_to_scale.interpolate(method=\"time\", axis=0)\n",
    "        df_to_scale = df_to_scale.fillna(method=\"bfill\", axis=0)\n",
    "        scaler = StandardScaler(with_mean=True)\n",
    "        feats_scaled_array = scaler.fit_transform(df_to_scale)\n",
    "        feats_scaled_df = pd.DataFrame(data=feats_scaled_array, index=df_to_scale.index, columns=df_to_scale.columns)\n",
    "#         if np.isnan(feats_scaled_array).sum() == 0:\n",
    "        scaled_feats_dict[stat_id] = copy.deepcopy(feats_scaled_df)\n",
    "    else:\n",
    "        continue\n",
    "\n",
    "final_station_ids_list = [stat_id for stat_id in scaled_feats_dict.keys()]        \n",
    "\n",
    "features_dfs_list = [scaled_feats_dict[station_id] for station_id in final_station_ids_list]\n",
    "targets_dfs_list = [targets_dict[station_id] for station_id in final_station_ids_list]\n",
    "\n",
    "scaled_feats_df = pd.concat(features_dfs_list, axis=0)\n",
    "targs_df = pd.concat(targets_dfs_list, axis=0)"
   ]
  },
  {
   "cell_type": "code",
   "execution_count": 8,
   "metadata": {},
   "outputs": [],
   "source": [
    "combined_scaledfeats_targs_df = pd.concat([scaled_feats_df,targs_df], axis=1)\n",
    "\n",
    "# This takes a COUPLE MINUTES TO RUN. So, only re-run if necessary!!\n",
    "# # combined_scaledfeats_targs_df.to_csv(\"../data/combined_scaledfeats_targs_df.csv\")"
   ]
  },
  {
   "cell_type": "code",
   "execution_count": 9,
   "metadata": {},
   "outputs": [],
   "source": [
    "combined_scaledfeats_targs_NONAN_df = combined_scaledfeats_targs_df.dropna(how=\"any\", axis=0)"
   ]
  },
  {
   "cell_type": "code",
   "execution_count": 10,
   "metadata": {},
   "outputs": [],
   "source": [
    "# Re-isolate the targets and then combine them into a 1-D pd.series. \n",
    "# Whenever a row has at least one anomaly, then we will collapse that row's \n",
    "# values to a single value of 1. Rows with no anomalies shall be labeled as 0.\n",
    "ml_targs_df = combined_scaledfeats_targs_NONAN_df.iloc[:, -15:]\n",
    "ml_1D_targs_series = ml_targs_df.sum(axis=1)\n",
    "ml_1D_targs_series[ml_1D_targs_series > 1] = 1"
   ]
  },
  {
   "cell_type": "code",
   "execution_count": 11,
   "metadata": {},
   "outputs": [],
   "source": [
    "# Re-isolate the ML-ready features.\n",
    "ml_feats_df = combined_scaledfeats_targs_NONAN_df.iloc[:, :15]"
   ]
  },
  {
   "cell_type": "markdown",
   "metadata": {},
   "source": [
    "### Calculate the percentage of the ML-ready data that are anomalies"
   ]
  },
  {
   "cell_type": "code",
   "execution_count": 12,
   "metadata": {},
   "outputs": [
    {
     "name": "stdout",
     "output_type": "stream",
     "text": [
      "14.19% of the data are anomalies.\n"
     ]
    }
   ],
   "source": [
    "percentage_anomalies =\\\n",
    "    np.round(100*ml_1D_targs_series.sum()/ml_1D_targs_series.shape[0], 2)\n",
    "print(f\"{percentage_anomalies}% of the data are anomalies.\")"
   ]
  },
  {
   "cell_type": "markdown",
   "metadata": {},
   "source": [
    "# Attempt some ML! Yewwwwww!"
   ]
  },
  {
   "cell_type": "code",
   "execution_count": 13,
   "metadata": {},
   "outputs": [],
   "source": [
    "import seaborn\n",
    "\n",
    "from sklearn.metrics import confusion_matrix\n",
    "from sklearn.model_selection import cross_val_score, StratifiedKFold, GridSearchCV\n",
    "from sklearn.ensemble import RandomForestClassifier"
   ]
  },
  {
   "cell_type": "code",
   "execution_count": 14,
   "metadata": {},
   "outputs": [
    {
     "name": "stdout",
     "output_type": "stream",
     "text": [
      "0\n",
      "1\n",
      "2\n",
      "3\n",
      "4\n"
     ]
    }
   ],
   "source": [
    "X = ml_feats_df.values\n",
    "y = ml_1D_targs_series.values\n",
    "\n",
    "# Initialize a random forest (RF) classifier object with the best hyperparameter \n",
    "# sets from the grid search.\n",
    "rf_classifier = RandomForestClassifier(n_jobs=-1)\n",
    "\n",
    "# Initialize a stratified 5-fold cross-validation object.  Make certain that it\n",
    "# randomly shuffles the data. AND, since it's randomly shuffling the data, make\n",
    "# certain that its random state is set to 7 (an arbitrary choice: it simply\n",
    "# needs to have a constant random state seed).\n",
    "stratified_kfold_generator = StratifiedKFold(\n",
    "    n_splits=5,\n",
    "    shuffle=True,\n",
    "    random_state=7\n",
    ")\n",
    "\n",
    "# Iterate through each of the splits and train/test both classifiers. We will \n",
    "# store the predictions in the following lists, \"classfication predictions_rf\" \n",
    "# and \"classfication predictions_xgb\".\n",
    "classification_predictions_rf = list()\n",
    "for idx, (train, test) in enumerate(stratified_kfold_generator.split(X, y)):\n",
    "    \n",
    "    print(idx)\n",
    "    \n",
    "    # Fit the classifiers to the training data. This erases the training from any\n",
    "    # previous iteration of the loop.\n",
    "    rf_classifier.fit(X[train], y[train].ravel())\n",
    "\n",
    "    # Have the newly trained classifiers predict the classes of the withheld testing data.\n",
    "    y_predicted_rf = rf_classifier.predict(X[test])\n",
    "\n",
    "    # Add the true class labels and the predicted class labels to the storage lists.\n",
    "    classification_predictions_rf.append((y[test].ravel(), y_predicted_rf.ravel()))"
   ]
  },
  {
   "cell_type": "code",
   "execution_count": 15,
   "metadata": {},
   "outputs": [
    {
     "name": "stderr",
     "output_type": "stream",
     "text": [
      "/Users/garrettgraham/anaconda3/lib/python3.7/site-packages/ipykernel_launcher.py:33: UserWarning: Matplotlib is currently using module://ipykernel.pylab.backend_inline, which is a non-GUI backend, so cannot show the figure.\n"
     ]
    },
    {
     "data": {
      "image/png": "[encoded data removed]",
      "text/plain": [
       "<Figure size 504x360 with 2 Axes>"
      ]
     },
     "metadata": {
      "needs_background": "light"
     },
     "output_type": "display_data"
    }
   ],
   "source": [
    "def calculate_normalized_conf_matrix(classification_predictions):\n",
    "    cf = np.zeros((2,2))\n",
    "    for y_true, y_pred in classification_predictions:\n",
    "        cf += confusion_matrix(y_true, y_pred)\n",
    "    return cf/cf.sum()\n",
    "\n",
    "class_labels_list = [\"Normal\", \"Anomalous\"]\n",
    "\n",
    "# Loop through the cached predictions and calculate the confusion matrices for\n",
    "# both classifiers.\n",
    "cf_rf = calculate_normalized_conf_matrix(classification_predictions_rf)\n",
    "\n",
    "# Initialize figure and axes objects in order to plot the two confusion matrices.\n",
    "fig, ax = plt.subplots(1, 1, figsize=(7, 5))\n",
    "\n",
    "# Plot the random forest confusion matrix.\n",
    "seaborn.heatmap(\n",
    "    cf_rf, cmap=\"Reds\", annot=cf_rf, square=True, cbar=True,\n",
    "    xticklabels=class_labels_list, yticklabels=class_labels_list,\n",
    "    ax=ax\n",
    ")\n",
    "\n",
    "# Add labels to the x-axis and the y-axis.\n",
    "ax.set_xlabel(\"Predicted\", fontsize=16)\n",
    "ax.set_ylabel(\"True\", fontsize=16)\n",
    "\n",
    "# Add a title to the figure.\n",
    "fig.suptitle(\"Confusion matrix for lightly optimized RF classifer\")\n",
    "\n",
    "plt.savefig(\"randomforest_confusion_matrix.png\", dpi=300)\n",
    "\n",
    "# Display the figure.\n",
    "fig.show()"
   ]
  },
  {
   "cell_type": "code",
   "execution_count": 16,
   "metadata": {},
   "outputs": [
    {
     "data": {
      "text/plain": [
       "array([[0.85641194, 0.0016744 ],\n",
       "       [0.00456731, 0.13734636]])"
      ]
     },
     "execution_count": 16,
     "metadata": {},
     "output_type": "execute_result"
    }
   ],
   "source": [
    "cf_rf\n",
    "# array([[0.85638247, 0.00170387],\n",
    "#        [0.00459136, 0.1373223 ]])\n"
   ]
  },
  {
   "cell_type": "code",
   "execution_count": 37,
   "metadata": {},
   "outputs": [
    {
     "data": {
      "text/plain": [
       "0.033434919164622205"
      ]
     },
     "execution_count": 37,
     "metadata": {},
     "output_type": "execute_result"
    }
   ],
   "source": [
    "0.00459136/0.1373223"
   ]
  },
  {
   "cell_type": "code",
   "execution_count": null,
   "metadata": {},
   "outputs": [],
   "source": []
  }
 ],
 "metadata": {
  "kernelspec": {
   "display_name": "Python 3",
   "language": "python",
   "name": "python3"
  },
  "language_info": {
   "codemirror_mode": {
    "name": "ipython",
    "version": 3
   },
   "file_extension": ".py",
   "mimetype": "text/x-python",
   "name": "python",
   "nbconvert_exporter": "python",
   "pygments_lexer": "ipython3",
   "version": "3.7.6"
  }
 },
 "nbformat": 4,
 "nbformat_minor": 4
}
